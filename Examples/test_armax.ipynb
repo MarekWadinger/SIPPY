{
 "cells": [
  {
   "cell_type": "code",
   "execution_count": null,
   "metadata": {
    "execution": {
     "iopub.execute_input": "2025-03-15T10:49:55.155427Z",
     "iopub.status.busy": "2025-03-15T10:49:55.155156Z",
     "iopub.status.idle": "2025-03-15T10:49:56.850991Z",
     "shell.execute_reply": "2025-03-15T10:49:56.850680Z"
    }
   },
   "outputs": [],
   "source": [
    "import control.matlab as cnt\n",
    "import numpy as np\n",
    "from matplotlib import rcParams\n",
    "from utils import create_output_dir, plot_bode, plot_response, plot_responses\n",
    "\n",
    "from sippy_unipi import functionset as fset\n",
    "from sippy_unipi import system_identification\n",
    "from sippy_unipi.datasets import load_sample_siso\n",
    "\n",
    "rcParams[\"figure.figsize\"] = (9.0, 5.0)\n",
    "output_dir = create_output_dir(\"test_armax.ipynb\")\n",
    "seed = 0\n",
    "np.random.seed(seed)"
   ]
  },
  {
   "cell_type": "code",
   "execution_count": null,
   "metadata": {
    "execution": {
     "iopub.execute_input": "2025-03-15T10:49:56.852103Z",
     "iopub.status.busy": "2025-03-15T10:49:56.851969Z",
     "iopub.status.idle": "2025-03-15T10:49:56.864604Z",
     "shell.execute_reply": "2025-03-15T10:49:56.864352Z"
    }
   },
   "outputs": [],
   "source": [
    "n_samples = 401\n",
    "ts = 1.0\n",
    "time, Ysim, Usim, g_sys, Yerr, Uerr, h_sys, Ytot, Utot = load_sample_siso(\n",
    "    n_samples, ts, seed=seed\n",
    ")"
   ]
  },
  {
   "cell_type": "code",
   "execution_count": null,
   "metadata": {
    "execution": {
     "iopub.execute_input": "2025-03-15T10:49:56.877112Z",
     "iopub.status.busy": "2025-03-15T10:49:56.877028Z",
     "iopub.status.idle": "2025-03-15T10:49:57.115747Z",
     "shell.execute_reply": "2025-03-15T10:49:57.115497Z"
    }
   },
   "outputs": [],
   "source": [
    "fig = plot_responses(\n",
    "    time,\n",
    "    [Usim, Uerr, Utot],\n",
    "    [Ysim, Yerr, Ytot],\n",
    "    [\"u\", \"e\", [\"u\", \"e\"]],\n",
    ")\n",
    "\n",
    "fig.savefig(output_dir + \"/responses.png\")"
   ]
  },
  {
   "cell_type": "markdown",
   "metadata": {},
   "source": [
    "## Perform system identification from collected data"
   ]
  },
  {
   "cell_type": "code",
   "execution_count": null,
   "metadata": {
    "execution": {
     "iopub.execute_input": "2025-03-15T10:49:57.116841Z",
     "iopub.status.busy": "2025-03-15T10:49:57.116577Z",
     "iopub.status.idle": "2025-03-15T10:50:08.103413Z",
     "shell.execute_reply": "2025-03-15T10:50:08.101931Z"
    },
    "scrolled": true
   },
   "outputs": [],
   "source": [
    "sys_id = system_identification(\n",
    "    Ytot,\n",
    "    Usim,\n",
    "    \"ARMAX\",\n",
    "    *((1, 5), (1, 5), (1, 5), (1, 13)),\n",
    "    IC=\"BIC\",\n",
    "    centering=\"MeanVal\",\n",
    "    max_iter=1000,\n",
    ")"
   ]
  },
  {
   "cell_type": "markdown",
   "metadata": {},
   "source": [
    "## Check that output of the identified system is consistent"
   ]
  },
  {
   "cell_type": "code",
   "execution_count": null,
   "metadata": {
    "execution": {
     "iopub.execute_input": "2025-03-15T10:50:08.110315Z",
     "iopub.status.busy": "2025-03-15T10:50:08.110073Z",
     "iopub.status.idle": "2025-03-15T10:50:08.118857Z",
     "shell.execute_reply": "2025-03-15T10:50:08.118614Z"
    }
   },
   "outputs": [],
   "source": [
    "Y_id1, time, Xsim = cnt.lsim(sys_id.G, Usim, time)\n",
    "Y_hid1, time, Xsim = cnt.lsim(sys_id.H, Uerr, time)\n",
    "Y_idTot = Y_id1 + Y_hid1"
   ]
  },
  {
   "cell_type": "code",
   "execution_count": null,
   "metadata": {
    "execution": {
     "iopub.execute_input": "2025-03-15T10:50:08.120065Z",
     "iopub.status.busy": "2025-03-15T10:50:08.119984Z",
     "iopub.status.idle": "2025-03-15T10:50:08.249054Z",
     "shell.execute_reply": "2025-03-15T10:50:08.247422Z"
    }
   },
   "outputs": [],
   "source": [
    "fig = plot_response(\n",
    "    time,\n",
    "    Usim,\n",
    "    [Ytot, Y_idTot],\n",
    "    legends=[[\"U\"], [\"system\", \"armax\"]],\n",
    "    titles=[\n",
    "        \"Input, identification data (Switch probability=0.08)\",\n",
    "        \"Output (identification data)\",\n",
    "    ],\n",
    ")\n",
    "fig.savefig(output_dir + \"/system_consistency.png\")"
   ]
  },
  {
   "cell_type": "markdown",
   "metadata": {},
   "source": [
    "# Validation of the identified system: \n",
    "## Generate new time series for input and noise"
   ]
  },
  {
   "cell_type": "code",
   "execution_count": null,
   "metadata": {
    "execution": {
     "iopub.execute_input": "2025-03-15T10:50:08.250533Z",
     "iopub.status.busy": "2025-03-15T10:50:08.250400Z",
     "iopub.status.idle": "2025-03-15T10:50:08.254745Z",
     "shell.execute_reply": "2025-03-15T10:50:08.254434Z"
    }
   },
   "outputs": [],
   "source": [
    "switch_probability = 0.07  # [0..1]\n",
    "input_range = [0.5, 1.5]\n",
    "U_valid, _, _ = fset.GBN_seq(n_samples, switch_probability, scale=input_range)\n",
    "white_noise_variance = [0.01]\n",
    "e_valid = fset.white_noise_var(U_valid.size, white_noise_variance)[0]"
   ]
  },
  {
   "cell_type": "markdown",
   "metadata": {},
   "source": [
    "## Compute time responses for true system with new inputs"
   ]
  },
  {
   "cell_type": "code",
   "execution_count": null,
   "metadata": {
    "execution": {
     "iopub.execute_input": "2025-03-15T10:50:08.256693Z",
     "iopub.status.busy": "2025-03-15T10:50:08.256573Z",
     "iopub.status.idle": "2025-03-15T10:50:08.266217Z",
     "shell.execute_reply": "2025-03-15T10:50:08.265693Z"
    }
   },
   "outputs": [],
   "source": [
    "Yvalid1, time, Xsim = cnt.lsim(g_sys, U_valid, time)\n",
    "Yvalid2, time, Xsim = cnt.lsim(h_sys, e_valid, time)\n",
    "Ytotvalid = Yvalid1 + Yvalid2"
   ]
  },
  {
   "cell_type": "markdown",
   "metadata": {},
   "source": [
    "## Compute time responses for identified system with new inputs"
   ]
  },
  {
   "cell_type": "code",
   "execution_count": null,
   "metadata": {
    "execution": {
     "iopub.execute_input": "2025-03-15T10:50:08.268003Z",
     "iopub.status.busy": "2025-03-15T10:50:08.267887Z",
     "iopub.status.idle": "2025-03-15T10:50:08.274872Z",
     "shell.execute_reply": "2025-03-15T10:50:08.274535Z"
    }
   },
   "outputs": [],
   "source": [
    "y_idvalid1, time, Xsim = cnt.lsim(sys_id.G, U_valid, time)\n",
    "y_idvalid2, time, Xsim = cnt.lsim(sys_id.H, e_valid, time)\n",
    "y_idtotvalid = y_idvalid1 + y_idvalid2"
   ]
  },
  {
   "cell_type": "markdown",
   "metadata": {},
   "source": [
    "## Check responses are almost equal"
   ]
  },
  {
   "cell_type": "code",
   "execution_count": null,
   "metadata": {
    "execution": {
     "iopub.execute_input": "2025-03-15T10:50:08.276614Z",
     "iopub.status.busy": "2025-03-15T10:50:08.276382Z",
     "iopub.status.idle": "2025-03-15T10:50:08.391825Z",
     "shell.execute_reply": "2025-03-15T10:50:08.391562Z"
    }
   },
   "outputs": [],
   "source": [
    "fig = plot_response(\n",
    "    time,\n",
    "    Usim,\n",
    "    [Ytotvalid, y_idtotvalid],\n",
    "    legends=[[\"U\"], [\"system\", \"armax\"]],\n",
    "    titles=[\n",
    "        \"Input, identification data (Switch probability=0.07)\",\n",
    "        \"Output (identification data)\",\n",
    "    ],\n",
    ")\n",
    "fig.savefig(output_dir + \"/system_validation.png\")"
   ]
  },
  {
   "cell_type": "code",
   "execution_count": null,
   "metadata": {
    "execution": {
     "iopub.execute_input": "2025-03-15T10:50:08.392959Z",
     "iopub.status.busy": "2025-03-15T10:50:08.392759Z",
     "iopub.status.idle": "2025-03-15T10:50:09.781965Z",
     "shell.execute_reply": "2025-03-15T10:50:09.781643Z"
    }
   },
   "outputs": [],
   "source": [
    "W_V = np.logspace(-3, 4, num=701)\n",
    "for tf in [\"G\", \"H\"]:\n",
    "    syss_tfs = [\n",
    "        locals()[f\"{tf.lower()}_sys\"],\n",
    "        getattr(sys_id, tf),\n",
    "    ]\n",
    "    mags, fis, oms = zip(*[cnt.bode(sys, W_V) for sys in syss_tfs])\n",
    "\n",
    "    fig = plot_bode(\n",
    "        oms[0],\n",
    "        mags,\n",
    "        fis,\n",
    "        [\"system\"],\n",
    "    )\n",
    "    fig.savefig(output_dir + f\"/bode_{tf}.png\")"
   ]
  }
 ],
 "metadata": {
  "kernelspec": {
   "display_name": ".venv",
   "language": "python",
   "name": "python3"
  },
  "language_info": {
   "codemirror_mode": {
    "name": "ipython",
    "version": 3
   },
   "file_extension": ".py",
   "mimetype": "text/x-python",
   "name": "python",
   "nbconvert_exporter": "python",
   "pygments_lexer": "ipython3",
   "version": "3.12.9"
  }
 },
 "nbformat": 4,
 "nbformat_minor": 2
}
