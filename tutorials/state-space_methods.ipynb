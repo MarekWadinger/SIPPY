{
 "cells": [
  {
   "cell_type": "markdown",
   "metadata": {},
   "source": [
    "# State-Space Models and Subspace Identification Method\n",
    "\n",
    "\n",
    "*Process form:*\n",
    "\n",
    "$$\n",
    "  \\begin{cases}\n",
    "    x_{k+1}=Ax_k+Bu_k+w_k \\\\\n",
    "    y_k=Cx_k+Du_k+v_k\n",
    "  \\end{cases}\n",
    "$$\n",
    "\n",
    "where: $y_k \\in \\mathbb{R}^{n_y}$, $x_k \\in \\mathbb{R}^{n}$, $u_k \\in \\mathbb{R}^{n_u}$, $w_k \\in \\mathbb{R}^{n}$ and $v_k \\in \\mathbb{R}^{n_y}$ are the system output, state, input, state noise and output measurement noise respectively (the subscript \"k\" denotes the $k-th$ sampling time); $A \\in \\mathbb{R}^{n\\times n}$, $B \\in \\mathbb{R}^{n\\times n_u}$,$\\: C \\in \\mathbb{R}^{n_y \\times n}$, $D \\in \\mathbb{R}^{n_y \\times n_u}$ are the system matrices.\n",
    "\n",
    "*Innovation form:*\n",
    "\n",
    "$$\n",
    "  \\begin{cases}\n",
    "    x_{k+1}=Ax_k+Bu_k+Ke_k \\\\\n",
    "    y_k=Cx_k+Du_k+e_k\n",
    "  \\end{cases}\n",
    "$$\n",
    "\n",
    "\n",
    "*Predictor form:*\n",
    "\n",
    "$$\n",
    "  \\begin{cases}\n",
    "    x_{k+1}=A_Kx_k+B_Ku_k+Ky_k \\\\\n",
    "    y_k=Cx_k+Du_k+e_k\n",
    "  \\end{cases}\n",
    "$$\n",
    "\n",
    "where the following relations hold:\n",
    "\n",
    "$$\n",
    "  A_K=A-KC \\\\\n",
    "  B_K=B-KD\n",
    "$$\n",
    "\n",
    "where $K$ is the steady-state **Kalman filter gain**, obtained from Algebraic Riccati Equation.\n",
    "\n",
    "The user has to define the future and past horizons ($f$  and $p$  respectively).\n",
    "\n",
    "For **traditional** methods, that is, `N4SID`, `MOESP` and `CVA` methods, the future and past horizons are equal, set by default $f=20$  (integer number).\n",
    "\n",
    "For **parsimonious** methods, that is, `PARSIM-P`, `PARSIM-S` and `PARSIM-K` methods, the future and past horizons can be set, by default: $f=20$ , $p=20$ (integer numbers).\n",
    "\n",
    "After performing the singular value decomposition (SVD) scheduled for the identification, which allows building the suitable subspace from the original data space,"
   ]
  }
 ],
 "metadata": {
  "language_info": {
   "name": "python"
  }
 },
 "nbformat": 4,
 "nbformat_minor": 2
}
