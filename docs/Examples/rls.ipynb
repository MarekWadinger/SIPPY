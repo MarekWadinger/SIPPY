{
 "cells": [
  {
   "cell_type": "markdown",
   "metadata": {},
   "source": [
    "## Recursive Least Squares"
   ]
  },
  {
   "cell_type": "code",
   "execution_count": null,
   "metadata": {
    "execution": {
     "iopub.execute_input": "2025-03-19T10:19:13.161731Z",
     "iopub.status.busy": "2025-03-19T10:19:13.161123Z",
     "iopub.status.idle": "2025-03-19T10:19:19.796106Z",
     "shell.execute_reply": "2025-03-19T10:19:19.795439Z"
    }
   },
   "outputs": [],
   "source": [
    "import control.matlab as cnt\n",
    "import numpy as np\n",
    "from utils import (\n",
    "    W_V,\n",
    "    plot_bode,\n",
    "    plot_response,\n",
    "    plot_responses,\n",
    ")\n",
    "\n",
    "from sippy_unipi import system_identification\n",
    "from sippy_unipi.datasets import gen_gbn_seq, load_sample_siso, white_noise_var\n",
    "from sippy_unipi.evaluate import validation\n",
    "from sippy_unipi.typing import IOMethods\n",
    "\n",
    "np.random.seed(0)"
   ]
  },
  {
   "cell_type": "code",
   "execution_count": null,
   "metadata": {
    "execution": {
     "iopub.execute_input": "2025-03-19T10:19:19.800871Z",
     "iopub.status.busy": "2025-03-19T10:19:19.800589Z",
     "iopub.status.idle": "2025-03-19T10:19:19.822899Z",
     "shell.execute_reply": "2025-03-19T10:19:19.822470Z"
    }
   },
   "outputs": [],
   "source": [
    "modes = [\"FIXED\", \"IC\"]\n",
    "ylegends = [\"System\", \"ARMAX\", \"ARX\", \"OE\"]\n",
    "\n",
    "n_samples = 401\n",
    "ts = 1.0\n",
    "time, Ysim, Usim, g_sys, Yerr, Uerr, h_sys, Ytot, Utot = load_sample_siso(\n",
    "    n_samples, ts, seed=0\n",
    ")"
   ]
  },
  {
   "cell_type": "code",
   "execution_count": null,
   "metadata": {
    "execution": {
     "iopub.execute_input": "2025-03-19T10:19:19.825221Z",
     "iopub.status.busy": "2025-03-19T10:19:19.825043Z",
     "iopub.status.idle": "2025-03-19T10:19:20.160145Z",
     "shell.execute_reply": "2025-03-19T10:19:20.155349Z"
    }
   },
   "outputs": [],
   "source": [
    "fig = plot_responses(\n",
    "    time,\n",
    "    [Usim, Uerr, Utot],\n",
    "    [Ysim, Yerr, Ytot],\n",
    "    [\"u\", \"e\", [\"u\", \"e\"]],\n",
    ")"
   ]
  },
  {
   "cell_type": "code",
   "execution_count": null,
   "metadata": {
    "execution": {
     "iopub.execute_input": "2025-03-19T10:19:20.210030Z",
     "iopub.status.busy": "2025-03-19T10:19:20.209802Z",
     "iopub.status.idle": "2025-03-19T10:19:29.098818Z",
     "shell.execute_reply": "2025-03-19T10:19:29.098376Z"
    }
   },
   "outputs": [],
   "source": [
    "for mode in modes:\n",
    "    if mode == \"IC\":\n",
    "        na_ord = (4, 4)\n",
    "        nb_ord = (3, 3)\n",
    "        nc_ord = (2, 2)\n",
    "        nd_ord = (3, 3)\n",
    "        nf_ord = (4, 4)\n",
    "        theta = (11, 11)\n",
    "\n",
    "    elif mode == \"FIXED\":\n",
    "        na_ord = [4]\n",
    "        nb_ord = [[3]]\n",
    "        nc_ord = [2]\n",
    "        nf_ord = [4]\n",
    "        theta = [[11]]\n",
    "\n",
    "    identification_params: dict[\n",
    "        IOMethods,\n",
    "        tuple[tuple[list[int] | list[list[int]] | tuple[int, int], ...], dict],\n",
    "    ] = {\n",
    "        \"ARMAX\": (\n",
    "            (na_ord, nb_ord, nc_ord, theta),\n",
    "            {\"IC\": \"BIC\", \"id_mode\": \"RLLS\"},\n",
    "        ),\n",
    "        \"ARX\": ((na_ord, nb_ord, theta), {\"IC\": \"BIC\", \"id_mode\": \"RLLS\"}),\n",
    "        \"OE\": ((nb_ord, nf_ord, theta), {\"IC\": \"BIC\", \"id_mode\": \"RLLS\"}),\n",
    "    }\n",
    "\n",
    "    syss = []\n",
    "    for method, orders_params in identification_params.items():\n",
    "        orders, params = orders_params\n",
    "        sys_id = system_identification(\n",
    "            Ytot, Usim, method, *orders, max_iter=300, **params\n",
    "        )\n",
    "        syss.append(sys_id)\n",
    "\n",
    "    ys = [Ytot] + [getattr(sys, \"y_id\").T for sys in syss]\n",
    "\n",
    "    fig = plot_response(\n",
    "        time,\n",
    "        ys,\n",
    "        Usim,\n",
    "        legends=[ylegends, [\"U\"]],\n",
    "        titles=[\n",
    "            \"Output (identification data)\",\n",
    "            \"Input, identification data (Switch probability=0.08)\",\n",
    "        ],\n",
    "    )\n",
    "\n",
    "    switch_probability = 0.07\n",
    "    input_range = (0.5, 1.5)\n",
    "    [U_valid, _, _] = gen_gbn_seq(\n",
    "        n_samples, switch_probability, scale=input_range\n",
    "    )\n",
    "    white_noise_variance = [0.01]\n",
    "    e_valid = white_noise_var(U_valid.size, white_noise_variance)[0]\n",
    "\n",
    "    Yvalid1, time, Xsim = cnt.lsim(g_sys, U_valid, time)\n",
    "    Yvalid2, time, Xsim = cnt.lsim(h_sys, e_valid, time)\n",
    "    Ytotvalid = Yvalid1 + Yvalid2\n",
    "\n",
    "    ys = [Ytotvalid] + [\n",
    "        validation(sys, U_valid, Ytotvalid, time) for sys in syss\n",
    "    ]\n",
    "\n",
    "    fig = plot_response(\n",
    "        time,\n",
    "        ys,\n",
    "        Usim,\n",
    "        legends=[ylegends, [\"U\"]],\n",
    "        titles=[\n",
    "            \"Input, identification data (Switch probability=0.07)\",\n",
    "            \"Output (identification data)\",\n",
    "        ],\n",
    "    )\n",
    "\n",
    "    for y, sys in zip(ys[1:], syss):\n",
    "        yv = y.T\n",
    "        rmse = np.sqrt(np.mean((Ytotvalid - yv) ** 2))\n",
    "        R2 = 1 - np.sum((Ytotvalid - yv) ** 2) / np.sum(\n",
    "            (Ytotvalid - np.mean(Ytotvalid)) ** 2\n",
    "        )\n",
    "        print(f\"RMSE = {rmse:.2f}\")\n",
    "        print(f\"R2 = {R2:.02f}\")\n",
    "\n",
    "    u = np.ones_like(time)\n",
    "    u[0] = 0\n",
    "\n",
    "    for tf in [\"G\", \"H\"]:\n",
    "        syss_tfs = [\n",
    "            locals()[f\"{tf.lower()}_sys\"],\n",
    "            *[getattr(sys, tf) for sys in syss],\n",
    "        ]\n",
    "        mags, fis, oms = zip(*[cnt.bode(sys, W_V) for sys in syss_tfs])\n",
    "\n",
    "        fig = plot_bode(\n",
    "            oms[0],\n",
    "            mags,\n",
    "            fis,\n",
    "            ylegends,\n",
    "        )\n",
    "\n",
    "        ys, _ = zip(*[cnt.step(sys, time) for sys in syss_tfs])\n",
    "\n",
    "        fig = plot_response(\n",
    "            time,\n",
    "            ys,\n",
    "            u,\n",
    "            legends=[ylegends, [\"U\"]],\n",
    "            titles=[\"Step Response G(z)\", None],\n",
    "        )"
   ]
  }
 ],
 "metadata": {
  "kernelspec": {
   "display_name": "",
   "language": "python",
   "name": ""
  },
  "language_info": {
   "codemirror_mode": {
    "name": "ipython",
    "version": 3
   },
   "file_extension": ".py",
   "mimetype": "text/x-python",
   "name": "python",
   "nbconvert_exporter": "python",
   "pygments_lexer": "ipython3",
   "version": "3.12.9"
  }
 },
 "nbformat": 4,
 "nbformat_minor": 2
}
