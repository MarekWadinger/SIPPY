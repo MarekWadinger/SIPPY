{
 "cells": [
  {
   "cell_type": "markdown",
   "metadata": {},
   "source": [
    "# ARMAX MIMO Example\n",
    "\n",
    "Example ARMAX MIMO case with 3 outputs and 4 inputs."
   ]
  },
  {
   "cell_type": "code",
   "execution_count": null,
   "metadata": {
    "execution": {
     "iopub.execute_input": "2025-03-19T10:17:04.578843Z",
     "iopub.status.busy": "2025-03-19T10:17:04.578631Z",
     "iopub.status.idle": "2025-03-19T10:17:11.391621Z",
     "shell.execute_reply": "2025-03-19T10:17:11.390611Z"
    }
   },
   "outputs": [],
   "source": [
    "# Checking path to access other files\n",
    "import numpy as np\n",
    "from utils import plot_comparison\n",
    "\n",
    "from sippy_unipi import system_identification\n",
    "from sippy_unipi.datasets import load_sample_mimo\n",
    "from sippy_unipi.evaluate import validation\n",
    "\n",
    "seed = 0\n",
    "np.random.seed(seed)"
   ]
  },
  {
   "cell_type": "code",
   "execution_count": null,
   "metadata": {
    "execution": {
     "iopub.execute_input": "2025-03-19T10:17:11.400122Z",
     "iopub.status.busy": "2025-03-19T10:17:11.399800Z",
     "iopub.status.idle": "2025-03-19T10:17:11.480170Z",
     "shell.execute_reply": "2025-03-19T10:17:11.479369Z"
    }
   },
   "outputs": [],
   "source": [
    "n_samples = 401\n",
    "ts = 1.0\n",
    "time, Ysim, Usim, g_sys, Yerr, Uerr, h_sys, Ytot, Utot = load_sample_mimo(\n",
    "    n_samples, ts, seed=seed\n",
    ")"
   ]
  },
  {
   "cell_type": "markdown",
   "metadata": {},
   "source": [
    "### Identification Parameters"
   ]
  },
  {
   "cell_type": "code",
   "execution_count": null,
   "metadata": {
    "execution": {
     "iopub.execute_input": "2025-03-19T10:17:11.538315Z",
     "iopub.status.busy": "2025-03-19T10:17:11.538052Z",
     "iopub.status.idle": "2025-03-19T10:17:11.542934Z",
     "shell.execute_reply": "2025-03-19T10:17:11.542473Z"
    }
   },
   "outputs": [],
   "source": [
    "na = [3, 1, 2]\n",
    "nb = [[2, 1, 3, 2], [3, 2, 1, 1], [1, 2, 1, 2]]\n",
    "th = [[1, 2, 2, 1], [1, 2, 0, 0], [0, 1, 0, 2]]\n",
    "nc = [2, 2, 3]\n",
    "\n",
    "ordersna = na\n",
    "ordersnb = nb\n",
    "ordersnc = nc\n",
    "theta_list = th\n",
    "\n",
    "# IDENTIFICATION STAGE\n",
    "# TESTING ARMAX models\n",
    "orders = [ordersna, ordersnb, ordersnc, theta_list]\n",
    "identification_params = {\n",
    "    \"ARMAX-I\": {\n",
    "        \"id_mode\": \"ILLS\",\n",
    "        \"max_iter\": 20,\n",
    "        \"centering\": \"MeanVal\",\n",
    "    },\n",
    "    \"ARMAX-O\": {\n",
    "        \"id_mode\": \"OPT\",\n",
    "        \"max_iter\": 20,\n",
    "        \"centering\": \"MeanVal\",\n",
    "    },\n",
    "    \"ARMAX-R\": {\n",
    "        \"id_mode\": \"RLLS\",\n",
    "        \"max_iter\": 20,\n",
    "        \"centering\": \"MeanVal\",\n",
    "    },\n",
    "}"
   ]
  },
  {
   "cell_type": "code",
   "execution_count": null,
   "metadata": {
    "execution": {
     "iopub.execute_input": "2025-03-19T10:17:11.544732Z",
     "iopub.status.busy": "2025-03-19T10:17:11.544557Z",
     "iopub.status.idle": "2025-03-19T10:17:12.352297Z",
     "shell.execute_reply": "2025-03-19T10:17:12.349784Z"
    }
   },
   "outputs": [],
   "source": [
    "syss = []\n",
    "for method, params in identification_params.items():\n",
    "    sys_id = system_identification(Ytot, Usim, \"ARMAX\", *orders, **params)\n",
    "    syss.append(sys_id)\n",
    "\n",
    "Youts = [getattr(sys, \"y_id\") for sys in syss]"
   ]
  },
  {
   "cell_type": "markdown",
   "metadata": {},
   "source": [
    "### Plot Identification Results"
   ]
  },
  {
   "cell_type": "code",
   "execution_count": null,
   "metadata": {
    "execution": {
     "iopub.execute_input": "2025-03-19T10:17:12.358214Z",
     "iopub.status.busy": "2025-03-19T10:17:12.356823Z",
     "iopub.status.idle": "2025-03-19T10:17:13.168275Z",
     "shell.execute_reply": "2025-03-19T10:17:13.167541Z"
    }
   },
   "outputs": [],
   "source": [
    "fig = plot_comparison(\n",
    "    time,\n",
    "    [Ytot] + Youts,\n",
    "    ylabels=[f\"$y_{i}$\" for i in range(3)],\n",
    "    legend=[\"System\", \"ARMAX-I\", \"ARMAX-O\", \"ARMAX-R\"],\n",
    "    title=\"Output (identification data)\",\n",
    ")\n",
    "\n",
    "fig = plot_comparison(\n",
    "    time,\n",
    "    Usim,\n",
    "    [r\"$u_\\mathrm{GBN, \" + str(i) + \"}$\" for i in range(Usim.shape[1])],\n",
    "    title=\"Input (Switch probability=0.03) (identification data)\",\n",
    ")"
   ]
  },
  {
   "cell_type": "markdown",
   "metadata": {},
   "source": [
    "### Validation Stage"
   ]
  },
  {
   "cell_type": "code",
   "execution_count": null,
   "metadata": {
    "execution": {
     "iopub.execute_input": "2025-03-19T10:17:13.171650Z",
     "iopub.status.busy": "2025-03-19T10:17:13.171341Z",
     "iopub.status.idle": "2025-03-19T10:17:14.191872Z",
     "shell.execute_reply": "2025-03-19T10:17:14.190587Z"
    }
   },
   "outputs": [],
   "source": [
    "time, Ysim, Usim_v, g_sys, Yerr, Uerr, h_sys, Ytot_v, Utot_v = (\n",
    "    load_sample_mimo(\n",
    "        n_samples,\n",
    "        ts,\n",
    "        input_ranges=[(0.33, 0.7), (-2.0, -1.0), (1.3, 2.7), (1.0, 5.2)],\n",
    "        seed=seed,\n",
    "    )\n",
    ")\n",
    "\n",
    "# ## Compute time responses for identified systems with new inputs\n",
    "Yv_armaxi = validation(syss[0], Usim_v, Ytot_v, time, centering=\"MeanVal\")\n",
    "Yv_armaxo = validation(syss[1], Usim_v, Ytot_v, time)\n",
    "Yv_armaxr = validation(syss[2], Usim_v, Ytot_v, time, centering=\"InitVal\")"
   ]
  },
  {
   "cell_type": "markdown",
   "metadata": {},
   "source": [
    "### Plot Validation Results"
   ]
  },
  {
   "cell_type": "code",
   "execution_count": null,
   "metadata": {
    "execution": {
     "iopub.execute_input": "2025-03-19T10:17:14.195323Z",
     "iopub.status.busy": "2025-03-19T10:17:14.195026Z",
     "iopub.status.idle": "2025-03-19T10:17:14.873115Z",
     "shell.execute_reply": "2025-03-19T10:17:14.872455Z"
    }
   },
   "outputs": [],
   "source": [
    "fig = plot_comparison(\n",
    "    time,\n",
    "    [Ytot_v, Yv_armaxi, Yv_armaxo, Yv_armaxr],\n",
    "    ylabels=[f\"$y_{i}$\" for i in range(Ytot_v.shape[1])],\n",
    "    legend=[\"System\", \"ARMAX-I\", \"ARMAX-O\", \"ARMAX-R\"],\n",
    "    title=\"Output (validation data)\",\n",
    ")\n",
    "\n",
    "fig = plot_comparison(\n",
    "    time,\n",
    "    Usim_v,\n",
    "    [r\"$u_\\mathrm{GBN, \" + str(i) + \"}$\" for i in range(Usim_v.shape[1])],\n",
    "    title=\"Input (Switch probability=0.03) (validation data)\",\n",
    ")"
   ]
  }
 ],
 "metadata": {
  "kernelspec": {
   "display_name": "",
   "language": "python",
   "name": ""
  },
  "language_info": {
   "codemirror_mode": {
    "name": "ipython",
    "version": 3
   },
   "file_extension": ".py",
   "mimetype": "text/x-python",
   "name": "python",
   "nbconvert_exporter": "python",
   "pygments_lexer": "ipython3",
   "version": "3.12.9"
  }
 },
 "nbformat": 4,
 "nbformat_minor": 2
}
