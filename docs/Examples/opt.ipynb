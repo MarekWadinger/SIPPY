{
 "cells": [
  {
   "cell_type": "markdown",
   "metadata": {},
   "source": [
    "## Optimization-Based Identification Methods for General Input-Output Model\n",
    "This notebook demonstrates the use of optimization-based identification methods for general input-output models."
   ]
  },
  {
   "cell_type": "code",
   "execution_count": null,
   "metadata": {
    "execution": {
     "iopub.execute_input": "2025-03-19T10:18:33.273096Z",
     "iopub.status.busy": "2025-03-19T10:18:33.272938Z",
     "iopub.status.idle": "2025-03-19T10:18:37.604904Z",
     "shell.execute_reply": "2025-03-19T10:18:37.604467Z"
    }
   },
   "outputs": [],
   "source": [
    "# Import required libraries\n",
    "import control.matlab as cnt\n",
    "import numpy as np\n",
    "from utils import (\n",
    "    W_V,\n",
    "    plot_bode,\n",
    "    plot_response,\n",
    "    plot_responses,\n",
    ")\n",
    "\n",
    "from sippy_unipi import system_identification\n",
    "from sippy_unipi.datasets import gen_gbn_seq, load_sample_siso, white_noise_var\n",
    "from sippy_unipi.evaluate import validation\n",
    "\n",
    "np.random.seed(0)\n",
    "ylegends = [\"System\", \"ARMA\", \"ARARX\", \"ARARMAX\", \"OE\", \"BJ\", \"GEN\"]"
   ]
  },
  {
   "cell_type": "code",
   "execution_count": null,
   "metadata": {
    "execution": {
     "iopub.execute_input": "2025-03-19T10:18:37.607013Z",
     "iopub.status.busy": "2025-03-19T10:18:37.606773Z",
     "iopub.status.idle": "2025-03-19T10:18:37.921697Z",
     "shell.execute_reply": "2025-03-19T10:18:37.921278Z"
    }
   },
   "outputs": [],
   "source": [
    "# Load sample data\n",
    "n_samples = 401\n",
    "ts = 1.0\n",
    "time, Ysim, Usim, g_sys, Yerr, Uerr, h_sys, Ytot, Utot = load_sample_siso(\n",
    "    n_samples, ts, seed=0\n",
    ")\n",
    "\n",
    "# Plot input and output responses\n",
    "fig = plot_responses(\n",
    "    time,\n",
    "    [Usim, Uerr, Utot],\n",
    "    [Ysim, Yerr, Ytot],\n",
    "    [\"u\", \"e\", [\"u\", \"e\"]],\n",
    ")"
   ]
  },
  {
   "cell_type": "code",
   "execution_count": null,
   "metadata": {
    "execution": {
     "iopub.execute_input": "2025-03-19T10:18:37.951326Z",
     "iopub.status.busy": "2025-03-19T10:18:37.951104Z",
     "iopub.status.idle": "2025-03-19T10:18:37.956028Z",
     "shell.execute_reply": "2025-03-19T10:18:37.955625Z"
    }
   },
   "outputs": [],
   "source": [
    "# Define identification parameters\n",
    "mode = \"FIXED\"\n",
    "\n",
    "if mode == \"IC\":\n",
    "    na_ord = [2, 2]\n",
    "    nb_ord = [3, 3]\n",
    "    nc_ord = [2, 2]\n",
    "    nd_ord = [3, 3]\n",
    "    nf_ord = [4, 4]\n",
    "    theta = [11, 11]\n",
    "else:\n",
    "    na_ord = [2]\n",
    "    nb_ord = [[3]]\n",
    "    nc_ord = [2]\n",
    "    nd_ord = [3]\n",
    "    nf_ord = [4]\n",
    "    theta = [[11]]\n",
    "\n",
    "identification_params = {\n",
    "    \"ARMA\": ((na_ord, nc_ord, theta), {\"IC\": \"BIC\"}),\n",
    "    \"ARARX\": ((na_ord, nb_ord, nd_ord, theta), {\"IC\": \"BIC\"}),\n",
    "    \"ARARMAX\": ((na_ord, nb_ord, nc_ord, nd_ord, theta), {\"IC\": \"BIC\"}),\n",
    "    \"OE\": ((nb_ord, nf_ord, theta), {\"IC\": \"BIC\"}),\n",
    "    \"BJ\": ((nb_ord, nc_ord, nd_ord, nf_ord, theta), {\"IC\": \"BIC\"}),\n",
    "    \"GEN\": (\n",
    "        (na_ord, nb_ord, nc_ord, nd_ord, nf_ord, theta),\n",
    "        {\"IC\": \"BIC\"},\n",
    "    ),\n",
    "}"
   ]
  },
  {
   "cell_type": "code",
   "execution_count": null,
   "metadata": {
    "execution": {
     "iopub.execute_input": "2025-03-19T10:18:37.957740Z",
     "iopub.status.busy": "2025-03-19T10:18:37.957613Z",
     "iopub.status.idle": "2025-03-19T10:18:43.349510Z",
     "shell.execute_reply": "2025-03-19T10:18:43.347084Z"
    }
   },
   "outputs": [],
   "source": [
    "# Perform system identification\n",
    "syss = []\n",
    "for method, orders_params in identification_params.items():\n",
    "    orders, params = orders_params\n",
    "    sys_id = system_identification(\n",
    "        Ytot, Usim, method, *orders, max_iter=300, id_mode=\"OPT\"\n",
    "    )\n",
    "    syss.append(sys_id)\n",
    "\n",
    "ys = [getattr(sys, \"y_id\").T for sys in syss]"
   ]
  },
  {
   "cell_type": "code",
   "execution_count": null,
   "metadata": {
    "execution": {
     "iopub.execute_input": "2025-03-19T10:18:43.366001Z",
     "iopub.status.busy": "2025-03-19T10:18:43.365457Z",
     "iopub.status.idle": "2025-03-19T10:18:43.686771Z",
     "shell.execute_reply": "2025-03-19T10:18:43.685600Z"
    }
   },
   "outputs": [],
   "source": [
    "# Plot consistency of identified systems\n",
    "fig = plot_response(\n",
    "    time,\n",
    "    ys,\n",
    "    Usim,\n",
    "    legends=[ylegends, [\"U\"]],\n",
    "    titles=[\n",
    "        \"Output (identification data)\",\n",
    "        \"Input, identification data (Switch probability=0.08)\",\n",
    "    ],\n",
    ")"
   ]
  },
  {
   "cell_type": "code",
   "execution_count": null,
   "metadata": {
    "execution": {
     "iopub.execute_input": "2025-03-19T10:18:43.691831Z",
     "iopub.status.busy": "2025-03-19T10:18:43.691498Z",
     "iopub.status.idle": "2025-03-19T10:18:44.194160Z",
     "shell.execute_reply": "2025-03-19T10:18:44.193151Z"
    }
   },
   "outputs": [],
   "source": [
    "# Validation of identified systems\n",
    "switch_probability = 0.07\n",
    "input_range = (0.5, 1.5)\n",
    "[U_valid, _, _] = gen_gbn_seq(n_samples, switch_probability, scale=input_range)\n",
    "white_noise_variance = [0.01]\n",
    "e_valid = white_noise_var(U_valid.size, white_noise_variance)[0]\n",
    "\n",
    "Yvalid1, time, Xsim = cnt.lsim(g_sys, U_valid, time)\n",
    "Yvalid2, time, Xsim = cnt.lsim(h_sys, e_valid, time)\n",
    "Ytotvalid = Yvalid1 + Yvalid2\n",
    "\n",
    "ys = [validation(sys, U_valid, Ytotvalid, time) for sys in syss]"
   ]
  },
  {
   "cell_type": "code",
   "execution_count": null,
   "metadata": {
    "execution": {
     "iopub.execute_input": "2025-03-19T10:18:44.197573Z",
     "iopub.status.busy": "2025-03-19T10:18:44.197284Z",
     "iopub.status.idle": "2025-03-19T10:18:44.416181Z",
     "shell.execute_reply": "2025-03-19T10:18:44.415293Z"
    }
   },
   "outputs": [],
   "source": [
    "# Plot validation results\n",
    "fig = plot_response(\n",
    "    time,\n",
    "    ys,\n",
    "    Usim,\n",
    "    legends=[ylegends, [\"U\"]],\n",
    "    titles=[\n",
    "        \"Output (identification data)\",\n",
    "        \"Input, identification data (Switch probability=0.07)\",\n",
    "    ],\n",
    ")"
   ]
  },
  {
   "cell_type": "code",
   "execution_count": null,
   "metadata": {
    "execution": {
     "iopub.execute_input": "2025-03-19T10:18:44.419139Z",
     "iopub.status.busy": "2025-03-19T10:18:44.418559Z",
     "iopub.status.idle": "2025-03-19T10:18:44.431176Z",
     "shell.execute_reply": "2025-03-19T10:18:44.430519Z"
    }
   },
   "outputs": [],
   "source": [
    "# Compute RMSE and Explained Variance\n",
    "for y, sys in zip(ys, syss):\n",
    "    yv = y.T\n",
    "    rmse = np.round(np.sqrt(np.mean((Ytotvalid - yv) ** 2)), 2)\n",
    "    EV = 100.0 * (\n",
    "        np.round((1.0 - np.mean((Ytotvalid - yv) ** 2) / np.std(Ytotvalid)), 2)\n",
    "    )\n",
    "    print(f\"RMSE = {rmse}\")\n",
    "    print(f\"Explained Variance = {EV}%\")"
   ]
  },
  {
   "cell_type": "code",
   "execution_count": null,
   "metadata": {
    "execution": {
     "iopub.execute_input": "2025-03-19T10:18:44.433849Z",
     "iopub.status.busy": "2025-03-19T10:18:44.433640Z",
     "iopub.status.idle": "2025-03-19T10:18:55.437106Z",
     "shell.execute_reply": "2025-03-19T10:18:55.435374Z"
    }
   },
   "outputs": [],
   "source": [
    "# Step tests\n",
    "u = np.ones_like(time)\n",
    "u[0] = 0\n",
    "\n",
    "for tf in [\"G\", \"H\"]:\n",
    "    syss_tfs = [\n",
    "        locals()[f\"{tf.lower()}_sys\"],\n",
    "        *[getattr(sys, tf) for sys in syss],\n",
    "    ]\n",
    "    mags, fis, oms = zip(*[cnt.bode(sys, W_V) for sys in syss_tfs])\n",
    "\n",
    "    fig = plot_bode(\n",
    "        oms[0],\n",
    "        mags,\n",
    "        fis,\n",
    "        ylegends,\n",
    "    )\n",
    "\n",
    "    ys, _ = zip(*[cnt.step(sys, time) for sys in syss_tfs])\n",
    "\n",
    "    fig = plot_response(\n",
    "        time,\n",
    "        ys,\n",
    "        u,\n",
    "        legends=[ylegends, [\"U\"]],\n",
    "        titles=[\"Step Response G(z)\", None],\n",
    "    )"
   ]
  }
 ],
 "metadata": {
  "kernelspec": {
   "display_name": "",
   "language": "python",
   "name": ""
  },
  "language_info": {
   "codemirror_mode": {
    "name": "ipython",
    "version": 3
   },
   "file_extension": ".py",
   "mimetype": "text/x-python",
   "name": "python",
   "nbconvert_exporter": "python",
   "pygments_lexer": "ipython3",
   "version": "3.12.9"
  }
 },
 "nbformat": 4,
 "nbformat_minor": 2
}
