{
 "cells": [
  {
   "cell_type": "markdown",
   "metadata": {},
   "source": [
    "## State-Space System Identification Example\n",
    "This notebook demonstrates state-space system identification using various methods."
   ]
  },
  {
   "cell_type": "code",
   "execution_count": null,
   "metadata": {
    "execution": {
     "iopub.execute_input": "2025-03-19T10:19:34.891229Z",
     "iopub.status.busy": "2025-03-19T10:19:34.890941Z",
     "iopub.status.idle": "2025-03-19T10:19:41.572164Z",
     "shell.execute_reply": "2025-03-19T10:19:41.556337Z"
    }
   },
   "outputs": [],
   "source": [
    "# Importing required libraries\n",
    "import matplotlib.pyplot as plt\n",
    "import numpy as np\n",
    "\n",
    "from sippy_unipi import SS_Model, system_identification\n",
    "from sippy_unipi.datasets import gen_gbn_seq, white_noise_var\n",
    "from sippy_unipi.ss import lsim_process_form\n",
    "from sippy_unipi.typing import SSMethods\n",
    "\n",
    "seed = 0\n",
    "np.random.seed(seed)\n",
    "\n",
    "METHOD: list[SSMethods] = [\n",
    "    \"CVA\",\n",
    "    \"MOESP\",\n",
    "    \"N4SID\",\n",
    "    \"PARSIM_K\",\n",
    "    \"PARSIM_P\",\n",
    "    \"PARSIM_S\",\n",
    "]"
   ]
  },
  {
   "cell_type": "markdown",
   "metadata": {},
   "source": [
    "### Define System Parameters"
   ]
  },
  {
   "cell_type": "code",
   "execution_count": null,
   "metadata": {
    "execution": {
     "iopub.execute_input": "2025-03-19T10:19:41.609949Z",
     "iopub.status.busy": "2025-03-19T10:19:41.608151Z",
     "iopub.status.idle": "2025-03-19T10:19:41.645170Z",
     "shell.execute_reply": "2025-03-19T10:19:41.638249Z"
    }
   },
   "outputs": [],
   "source": [
    "# Sample time\n",
    "ts = 1.0\n",
    "\n",
    "# SISO SS system (n = 2)\n",
    "A = np.array([[0.89, 0.0], [0.0, 0.45]])\n",
    "B = np.array([[0.3], [2.5]])\n",
    "C = np.array([[0.7, 1.0]])\n",
    "D = np.array([[0.0]])\n",
    "\n",
    "tfin = 500\n",
    "npts = int(tfin // ts) + 1\n",
    "Time = np.linspace(0, tfin, npts)"
   ]
  },
  {
   "cell_type": "markdown",
   "metadata": {},
   "source": [
    "### Generate Input Sequence and System Output"
   ]
  },
  {
   "cell_type": "code",
   "execution_count": null,
   "metadata": {
    "execution": {
     "iopub.execute_input": "2025-03-19T10:19:41.652264Z",
     "iopub.status.busy": "2025-03-19T10:19:41.651812Z",
     "iopub.status.idle": "2025-03-19T10:19:41.691755Z",
     "shell.execute_reply": "2025-03-19T10:19:41.690394Z"
    }
   },
   "outputs": [],
   "source": [
    "# Input sequence\n",
    "U = np.zeros((1, npts))\n",
    "[U[0], _, _] = gen_gbn_seq(npts, 0.05)\n",
    "\n",
    "# Output\n",
    "x, yout = lsim_process_form(A, B, C, D, U)\n",
    "\n",
    "# Measurement noise\n",
    "noise = white_noise_var(npts, [0.15])\n",
    "\n",
    "# Output with noise\n",
    "y_tot = yout + noise"
   ]
  },
  {
   "cell_type": "markdown",
   "metadata": {},
   "source": [
    "### Plot Input and Output"
   ]
  },
  {
   "cell_type": "code",
   "execution_count": null,
   "metadata": {
    "execution": {
     "iopub.execute_input": "2025-03-19T10:19:41.715957Z",
     "iopub.status.busy": "2025-03-19T10:19:41.714545Z",
     "iopub.status.idle": "2025-03-19T10:19:47.474614Z",
     "shell.execute_reply": "2025-03-19T10:19:47.472220Z"
    }
   },
   "outputs": [],
   "source": [
    "fig, axs = plt.subplots(2, 1, sharex=True)\n",
    "axs[0].plot(Time, y_tot[0])\n",
    "axs[0].set_ylabel(\"y_tot\")\n",
    "axs[0].grid()\n",
    "axs[0].set_xlabel(\"Time\")\n",
    "axs[0].set_title(\"Ytot\")\n",
    "\n",
    "legend = [\"System\"]\n",
    "\n",
    "axs[0].plot(Time, y_tot[0], label=\"System\")\n",
    "for method in METHOD:\n",
    "    sys_id = system_identification(y_tot, U, method, 2, SS_threshold=0.1)\n",
    "    if not isinstance(sys_id, SS_Model):\n",
    "        raise ValueError(\"SS model not returned\")\n",
    "    xid, yid = lsim_process_form(\n",
    "        sys_id.A, sys_id.B, sys_id.C, sys_id.D, U, sys_id.x0\n",
    "    )\n",
    "    axs[0].plot(Time, yid[0], label=method)\n",
    "axs[0].legend()\n",
    "\n",
    "axs[1].plot(Time, U[0])\n",
    "axs[1].set_ylabel(\"input\")\n",
    "axs[1].grid()\n",
    "axs[1].set_xlabel(\"Time\")"
   ]
  }
 ],
 "metadata": {
  "kernelspec": {
   "display_name": "",
   "language": "python",
   "name": ""
  },
  "language_info": {
   "codemirror_mode": {
    "name": "ipython",
    "version": 3
   },
   "file_extension": ".py",
   "mimetype": "text/x-python",
   "name": "python",
   "nbconvert_exporter": "python",
   "pygments_lexer": "ipython3",
   "version": "3.12.9"
  }
 },
 "nbformat": 4,
 "nbformat_minor": 2
}
