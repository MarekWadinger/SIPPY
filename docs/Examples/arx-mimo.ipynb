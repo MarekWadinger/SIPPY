{
 "cells": [
  {
   "cell_type": "markdown",
   "metadata": {},
   "source": [
    "### ARX MIMO Example\n",
    "Case: 3 outputs x 4 inputs\n",
    "\n",
    "Author: Giuseppe Armenise, revised by RBdC"
   ]
  },
  {
   "cell_type": "code",
   "execution_count": null,
   "metadata": {
    "execution": {
     "iopub.execute_input": "2025-03-19T10:17:23.542115Z",
     "iopub.status.busy": "2025-03-19T10:17:23.541517Z",
     "iopub.status.idle": "2025-03-19T10:17:28.570159Z",
     "shell.execute_reply": "2025-03-19T10:17:28.569503Z"
    }
   },
   "outputs": [],
   "source": [
    "# Checking path to access other files\n",
    "import numpy as np\n",
    "from utils import plot_comparison\n",
    "\n",
    "from sippy_unipi import system_identification\n",
    "from sippy_unipi.datasets import load_sample_mimo\n",
    "from sippy_unipi.model import IO_MIMO_Model, IO_SISO_Model"
   ]
  },
  {
   "cell_type": "code",
   "execution_count": null,
   "metadata": {
    "execution": {
     "iopub.execute_input": "2025-03-19T10:17:28.578918Z",
     "iopub.status.busy": "2025-03-19T10:17:28.578556Z",
     "iopub.status.idle": "2025-03-19T10:17:28.582940Z",
     "shell.execute_reply": "2025-03-19T10:17:28.582454Z"
    }
   },
   "outputs": [],
   "source": [
    "seed = 0\n",
    "np.random.seed(0)"
   ]
  },
  {
   "cell_type": "code",
   "execution_count": null,
   "metadata": {
    "execution": {
     "iopub.execute_input": "2025-03-19T10:17:28.584673Z",
     "iopub.status.busy": "2025-03-19T10:17:28.584528Z",
     "iopub.status.idle": "2025-03-19T10:17:28.657926Z",
     "shell.execute_reply": "2025-03-19T10:17:28.657250Z"
    }
   },
   "outputs": [],
   "source": [
    "na = [3, 1, 2]\n",
    "nb = [[2, 1, 3, 2], [3, 2, 1, 1], [1, 2, 1, 2]]\n",
    "th = [[1, 2, 2, 1], [1, 2, 0, 0], [0, 1, 0, 2]]\n",
    "\n",
    "n_samples = 401\n",
    "ts = 1.0\n",
    "time, Ysim, Usim, g_sys, Yerr, Uerr, h_sys, Ytot, Utot = load_sample_mimo(\n",
    "    n_samples, ts, seed=seed\n",
    ")"
   ]
  },
  {
   "cell_type": "markdown",
   "metadata": {},
   "source": [
    "### Identification Parameters"
   ]
  },
  {
   "cell_type": "code",
   "execution_count": null,
   "metadata": {
    "execution": {
     "iopub.execute_input": "2025-03-19T10:17:28.723036Z",
     "iopub.status.busy": "2025-03-19T10:17:28.722619Z",
     "iopub.status.idle": "2025-03-19T10:17:28.725933Z",
     "shell.execute_reply": "2025-03-19T10:17:28.725365Z"
    }
   },
   "outputs": [],
   "source": [
    "ordersna = na\n",
    "ordersnb = nb\n",
    "theta_list = th"
   ]
  },
  {
   "cell_type": "markdown",
   "metadata": {},
   "source": [
    "### Identification Stage"
   ]
  },
  {
   "cell_type": "code",
   "execution_count": null,
   "metadata": {
    "execution": {
     "iopub.execute_input": "2025-03-19T10:17:28.727867Z",
     "iopub.status.busy": "2025-03-19T10:17:28.727724Z",
     "iopub.status.idle": "2025-03-19T10:17:28.784341Z",
     "shell.execute_reply": "2025-03-19T10:17:28.783406Z"
    }
   },
   "outputs": [],
   "source": [
    "# ARX\n",
    "Id_ARX = system_identification(\n",
    "    Ytot,\n",
    "    Usim,\n",
    "    \"ARX\",\n",
    "    *(ordersna, ordersnb, theta_list),\n",
    "    id_mode=\"LLS\",\n",
    ")\n",
    "\n",
    "# FIR\n",
    "Id_FIR = system_identification(\n",
    "    Ytot, Usim, \"FIR\", *([0, 0, 0], ordersnb, theta_list), id_mode=\"LLS\"\n",
    ")"
   ]
  },
  {
   "cell_type": "markdown",
   "metadata": {},
   "source": [
    "### Output of the Identified Model"
   ]
  },
  {
   "cell_type": "code",
   "execution_count": null,
   "metadata": {
    "execution": {
     "iopub.execute_input": "2025-03-19T10:17:28.787798Z",
     "iopub.status.busy": "2025-03-19T10:17:28.787545Z",
     "iopub.status.idle": "2025-03-19T10:17:28.791955Z",
     "shell.execute_reply": "2025-03-19T10:17:28.791377Z"
    }
   },
   "outputs": [],
   "source": [
    "if not isinstance(Id_ARX, IO_SISO_Model | IO_MIMO_Model):\n",
    "    raise RuntimeError(\"Model not identified\")\n",
    "if not isinstance(Id_FIR, IO_SISO_Model | IO_MIMO_Model):\n",
    "    raise RuntimeError(\"Model not identified\")\n",
    "\n",
    "Yout_ARX = Id_ARX.y_id\n",
    "Yout_FIR = Id_FIR.y_id"
   ]
  },
  {
   "cell_type": "markdown",
   "metadata": {},
   "source": [
    "### Plot Results"
   ]
  },
  {
   "cell_type": "code",
   "execution_count": null,
   "metadata": {
    "execution": {
     "iopub.execute_input": "2025-03-19T10:17:28.794526Z",
     "iopub.status.busy": "2025-03-19T10:17:28.794305Z",
     "iopub.status.idle": "2025-03-19T10:17:29.547474Z",
     "shell.execute_reply": "2025-03-19T10:17:29.546568Z"
    }
   },
   "outputs": [],
   "source": [
    "fig = plot_comparison(\n",
    "    time,\n",
    "    Usim,\n",
    "    [r\"$u_\\mathrm{GBN, \" + str(i) + \"}$\" for i in range(Usim.shape[1])],\n",
    "    title=\"Input (Switch probability=0.03) (validation data)\",\n",
    ")\n",
    "\n",
    "fig = plot_comparison(\n",
    "    time,\n",
    "    [Ytot, Yout_ARX, Yout_FIR],\n",
    "    ylabels=[f\"$y_{i}$\" for i in range(3)],\n",
    "    legend=[\"System\", \"ARX\", \"FIR\"],\n",
    "    title=\"Output (validation data)\",\n",
    ")"
   ]
  }
 ],
 "metadata": {
  "kernelspec": {
   "display_name": "",
   "language": "python",
   "name": ""
  },
  "language_info": {
   "codemirror_mode": {
    "name": "ipython",
    "version": 3
   },
   "file_extension": ".py",
   "mimetype": "text/x-python",
   "name": "python",
   "nbconvert_exporter": "python",
   "pygments_lexer": "ipython3",
   "version": "3.12.9"
  }
 },
 "nbformat": 4,
 "nbformat_minor": 2
}
