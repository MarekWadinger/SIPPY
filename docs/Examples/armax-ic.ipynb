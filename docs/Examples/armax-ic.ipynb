{
 "cells": [
  {
   "cell_type": "markdown",
   "metadata": {},
   "source": [
    "# ARMAX Example using Information Criterion"
   ]
  },
  {
   "cell_type": "code",
   "execution_count": null,
   "metadata": {
    "execution": {
     "iopub.execute_input": "2025-03-19T10:16:26.004220Z",
     "iopub.status.busy": "2025-03-19T10:16:26.003995Z",
     "iopub.status.idle": "2025-03-19T10:16:32.513267Z",
     "shell.execute_reply": "2025-03-19T10:16:32.510899Z"
    }
   },
   "outputs": [],
   "source": [
    "import control.matlab as cnt\n",
    "import numpy as np\n",
    "from utils import plot_bode, plot_response, plot_responses\n",
    "\n",
    "from sippy_unipi import system_identification\n",
    "from sippy_unipi.datasets import gen_gbn_seq, load_sample_siso, white_noise_var\n",
    "\n",
    "seed = 0\n",
    "np.random.seed(seed)"
   ]
  },
  {
   "cell_type": "code",
   "execution_count": null,
   "metadata": {
    "execution": {
     "iopub.execute_input": "2025-03-19T10:16:32.587060Z",
     "iopub.status.busy": "2025-03-19T10:16:32.584087Z",
     "iopub.status.idle": "2025-03-19T10:16:32.645034Z",
     "shell.execute_reply": "2025-03-19T10:16:32.643686Z"
    }
   },
   "outputs": [],
   "source": [
    "n_samples = 401\n",
    "ts = 1.0\n",
    "time, Ysim, Usim, g_sys, Yerr, Uerr, h_sys, Ytot, Utot = load_sample_siso(\n",
    "    n_samples, ts, seed=seed\n",
    ")"
   ]
  },
  {
   "cell_type": "code",
   "execution_count": null,
   "metadata": {
    "execution": {
     "iopub.execute_input": "2025-03-19T10:16:32.648756Z",
     "iopub.status.busy": "2025-03-19T10:16:32.648482Z",
     "iopub.status.idle": "2025-03-19T10:16:33.348986Z",
     "shell.execute_reply": "2025-03-19T10:16:33.342815Z"
    }
   },
   "outputs": [],
   "source": [
    "fig = plot_responses(\n",
    "    time,\n",
    "    [Usim, Uerr, Utot],\n",
    "    [Ysim, Yerr, Ytot],\n",
    "    [\"u\", \"e\", [\"u\", \"e\"]],\n",
    ")"
   ]
  },
  {
   "cell_type": "markdown",
   "metadata": {},
   "source": [
    "## Perform system identification from collected data"
   ]
  },
  {
   "cell_type": "code",
   "execution_count": null,
   "metadata": {
    "execution": {
     "iopub.execute_input": "2025-03-19T10:16:33.626079Z",
     "iopub.status.busy": "2025-03-19T10:16:33.624663Z",
     "iopub.status.idle": "2025-03-19T10:16:57.500271Z",
     "shell.execute_reply": "2025-03-19T10:16:57.498830Z"
    },
    "scrolled": true
   },
   "outputs": [],
   "source": [
    "sys_id = system_identification(\n",
    "    Ytot,\n",
    "    Usim,\n",
    "    \"ARMAX\",\n",
    "    *((1, 5), (1, 5), (1, 5), (1, 13)),\n",
    "    IC=\"BIC\",\n",
    "    centering=\"MeanVal\",\n",
    "    max_iter=1000,\n",
    ")"
   ]
  },
  {
   "cell_type": "markdown",
   "metadata": {},
   "source": [
    "## Check that output of the identified system is consistent"
   ]
  },
  {
   "cell_type": "code",
   "execution_count": null,
   "metadata": {
    "execution": {
     "iopub.execute_input": "2025-03-19T10:16:57.510306Z",
     "iopub.status.busy": "2025-03-19T10:16:57.509940Z",
     "iopub.status.idle": "2025-03-19T10:16:57.529268Z",
     "shell.execute_reply": "2025-03-19T10:16:57.528591Z"
    }
   },
   "outputs": [],
   "source": [
    "Y_id1, time, Xsim = cnt.lsim(sys_id.G, Usim, time)\n",
    "Y_hid1, time, Xsim = cnt.lsim(sys_id.H, Uerr, time)\n",
    "Y_idTot = Y_id1 + Y_hid1"
   ]
  },
  {
   "cell_type": "code",
   "execution_count": null,
   "metadata": {
    "execution": {
     "iopub.execute_input": "2025-03-19T10:16:57.531509Z",
     "iopub.status.busy": "2025-03-19T10:16:57.531374Z",
     "iopub.status.idle": "2025-03-19T10:16:57.767792Z",
     "shell.execute_reply": "2025-03-19T10:16:57.767297Z"
    }
   },
   "outputs": [],
   "source": [
    "fig = plot_response(\n",
    "    time,\n",
    "    [Ytot, Y_idTot],\n",
    "    Usim,\n",
    "    legends=[[\"system\", \"armax\"], [\"U\"]],\n",
    "    titles=[\n",
    "        \"Output (identification data)\",\n",
    "        \"Input, identification data (Switch probability=0.08)\",\n",
    "    ],\n",
    ")"
   ]
  },
  {
   "cell_type": "markdown",
   "metadata": {},
   "source": [
    "# Validation of the identified system: \n",
    "## Generate new time series for input and noise"
   ]
  },
  {
   "cell_type": "code",
   "execution_count": null,
   "metadata": {
    "execution": {
     "iopub.execute_input": "2025-03-19T10:16:57.769549Z",
     "iopub.status.busy": "2025-03-19T10:16:57.769406Z",
     "iopub.status.idle": "2025-03-19T10:16:57.774722Z",
     "shell.execute_reply": "2025-03-19T10:16:57.774412Z"
    }
   },
   "outputs": [],
   "source": [
    "switch_probability = 0.07  # [0..1]\n",
    "input_range = [0.5, 1.5]\n",
    "U_valid, _, _ = gen_gbn_seq(n_samples, switch_probability, scale=input_range)\n",
    "white_noise_variance = [0.01]\n",
    "e_valid = white_noise_var(U_valid.size, white_noise_variance)[0]"
   ]
  },
  {
   "cell_type": "markdown",
   "metadata": {},
   "source": [
    "## Compute time responses for true system with new inputs"
   ]
  },
  {
   "cell_type": "code",
   "execution_count": null,
   "metadata": {
    "execution": {
     "iopub.execute_input": "2025-03-19T10:16:57.776028Z",
     "iopub.status.busy": "2025-03-19T10:16:57.775910Z",
     "iopub.status.idle": "2025-03-19T10:16:57.785998Z",
     "shell.execute_reply": "2025-03-19T10:16:57.785609Z"
    }
   },
   "outputs": [],
   "source": [
    "Yvalid1, time, Xsim = cnt.lsim(g_sys, U_valid, time)\n",
    "Yvalid2, time, Xsim = cnt.lsim(h_sys, e_valid, time)\n",
    "Ytotvalid = Yvalid1 + Yvalid2"
   ]
  },
  {
   "cell_type": "markdown",
   "metadata": {},
   "source": [
    "## Compute time responses for identified system with new inputs"
   ]
  },
  {
   "cell_type": "code",
   "execution_count": null,
   "metadata": {
    "execution": {
     "iopub.execute_input": "2025-03-19T10:16:57.787423Z",
     "iopub.status.busy": "2025-03-19T10:16:57.787304Z",
     "iopub.status.idle": "2025-03-19T10:16:57.795766Z",
     "shell.execute_reply": "2025-03-19T10:16:57.795405Z"
    }
   },
   "outputs": [],
   "source": [
    "y_idvalid1, time, Xsim = cnt.lsim(sys_id.G, U_valid, time)\n",
    "y_idvalid2, time, Xsim = cnt.lsim(sys_id.H, e_valid, time)\n",
    "y_idtotvalid = y_idvalid1 + y_idvalid2"
   ]
  },
  {
   "cell_type": "markdown",
   "metadata": {},
   "source": [
    "## Check responses are almost equal"
   ]
  },
  {
   "cell_type": "code",
   "execution_count": null,
   "metadata": {
    "execution": {
     "iopub.execute_input": "2025-03-19T10:16:57.797102Z",
     "iopub.status.busy": "2025-03-19T10:16:57.796985Z",
     "iopub.status.idle": "2025-03-19T10:16:57.928001Z",
     "shell.execute_reply": "2025-03-19T10:16:57.927517Z"
    }
   },
   "outputs": [],
   "source": [
    "fig = plot_response(\n",
    "    time,\n",
    "    [Ytotvalid, y_idtotvalid],\n",
    "    Usim,\n",
    "    legends=[[\"system\", \"armax\"], [\"U\"]],\n",
    "    titles=[\n",
    "        \"Output (identification data)\",\n",
    "        \"Input, identification data (Switch probability=0.07)\",\n",
    "    ],\n",
    ")"
   ]
  },
  {
   "cell_type": "code",
   "execution_count": null,
   "metadata": {
    "execution": {
     "iopub.execute_input": "2025-03-19T10:16:57.929640Z",
     "iopub.status.busy": "2025-03-19T10:16:57.929500Z",
     "iopub.status.idle": "2025-03-19T10:16:59.624990Z",
     "shell.execute_reply": "2025-03-19T10:16:59.624548Z"
    }
   },
   "outputs": [],
   "source": [
    "W_V = np.logspace(-3, 4, num=701)\n",
    "for tf in [\"G\", \"H\"]:\n",
    "    syss_tfs = [\n",
    "        locals()[f\"{tf.lower()}_sys\"],\n",
    "        getattr(sys_id, tf),\n",
    "    ]\n",
    "    mags, fis, oms = zip(*[cnt.bode(sys, W_V) for sys in syss_tfs])\n",
    "\n",
    "    fig = plot_bode(\n",
    "        oms[0],\n",
    "        mags,\n",
    "        fis,\n",
    "        [\"system\"],\n",
    "    )"
   ]
  }
 ],
 "metadata": {
  "kernelspec": {
   "display_name": "",
   "language": "python",
   "name": ""
  },
  "language_info": {
   "codemirror_mode": {
    "name": "ipython",
    "version": 3
   },
   "file_extension": ".py",
   "mimetype": "text/x-python",
   "name": "python",
   "nbconvert_exporter": "python",
   "pygments_lexer": "ipython3",
   "version": "3.12.9"
  }
 },
 "nbformat": 4,
 "nbformat_minor": 2
}
