{
 "cells": [
  {
   "cell_type": "markdown",
   "metadata": {},
   "source": [
    "# CST example\n",
    "\n",
    "A Continuous Stirred Tank to be identified from input-output data"
   ]
  },
  {
   "cell_type": "code",
   "execution_count": null,
   "metadata": {
    "execution": {
     "iopub.execute_input": "2025-03-19T10:17:39.554919Z",
     "iopub.status.busy": "2025-03-19T10:17:39.553896Z",
     "iopub.status.idle": "2025-03-19T10:17:47.994702Z",
     "shell.execute_reply": "2025-03-19T10:17:47.993604Z"
    }
   },
   "outputs": [],
   "source": [
    "import numpy as np\n",
    "from utils import plot_comparison\n",
    "\n",
    "from sippy_unipi import SS_Model, system_identification\n",
    "from sippy_unipi.datasets import gen_gbn_seq, gen_rw_seq, white_noise_var\n",
    "from sippy_unipi.evaluate import validation\n",
    "from sippy_unipi.ss import lsim_process_form\n",
    "from sippy_unipi.typing import IOMethods\n",
    "\n",
    "seed = 0\n",
    "np.random.seed(seed)"
   ]
  },
  {
   "cell_type": "code",
   "execution_count": null,
   "metadata": {
    "execution": {
     "iopub.execute_input": "2025-03-19T10:17:48.005028Z",
     "iopub.status.busy": "2025-03-19T10:17:48.004580Z",
     "iopub.status.idle": "2025-03-19T10:17:48.010099Z",
     "shell.execute_reply": "2025-03-19T10:17:48.009228Z"
    }
   },
   "outputs": [],
   "source": [
    "ts = 1.0  # [min]\n",
    "tfin = 1000\n",
    "npts = int(tfin // ts) + 1\n",
    "Time = np.linspace(0, tfin, npts)"
   ]
  },
  {
   "cell_type": "markdown",
   "metadata": {},
   "source": [
    "## Data"
   ]
  },
  {
   "cell_type": "code",
   "execution_count": null,
   "metadata": {
    "execution": {
     "iopub.execute_input": "2025-03-19T10:17:48.013392Z",
     "iopub.status.busy": "2025-03-19T10:17:48.013141Z",
     "iopub.status.idle": "2025-03-19T10:17:48.018020Z",
     "shell.execute_reply": "2025-03-19T10:17:48.017402Z"
    }
   },
   "outputs": [],
   "source": [
    "V = 10.0  # tank volume [m^3]         --> assumed to be constant\n",
    "ro = 1100.0  # solution density [kg/m^3] --> assumed to be constant\n",
    "cp = 4.180  # specific heat [kJ/kg*K]    --> assumed to be constant\n",
    "# latent heat   [kJ/kg]     --> assumed to be constant (Tvap = 100°C, Pvap = 1atm)\n",
    "Lam = 2272.0\n",
    "# initial conditions\n",
    "# Ca_0\n",
    "# Tin_0"
   ]
  },
  {
   "cell_type": "markdown",
   "metadata": {},
   "source": [
    "## Variables"
   ]
  },
  {
   "cell_type": "markdown",
   "metadata": {},
   "source": [
    "4 Inputs<br>\n",
    "- as v. manipulated<br>\n",
    "Input Flow rate Fin           [m^3/min]<br>\n",
    "Steam Flow rate W             [kg/min]<br>\n",
    "- as disturbances<br>\n",
    "Input Concentration Ca_in     [kg salt/m^3 solution]<br>\n",
    "Input Temperature T_in        [°C]<br>\n",
    "U = [F, W, Ca_in, T_in]"
   ]
  },
  {
   "cell_type": "code",
   "execution_count": null,
   "metadata": {
    "execution": {
     "iopub.execute_input": "2025-03-19T10:17:48.020377Z",
     "iopub.status.busy": "2025-03-19T10:17:48.020202Z",
     "iopub.status.idle": "2025-03-19T10:17:48.024151Z",
     "shell.execute_reply": "2025-03-19T10:17:48.023432Z"
    }
   },
   "outputs": [],
   "source": [
    "m = 4"
   ]
  },
  {
   "cell_type": "markdown",
   "metadata": {},
   "source": [
    "2 Outputs<br>\n",
    "Output Concentration Ca       [kg salt/m^3 solution]  (Ca = Ca_out)<br>\n",
    "Output Temperature T          [°C]                    (T = T_out)<br>\n",
    "X = [Ca, T]"
   ]
  },
  {
   "cell_type": "code",
   "execution_count": null,
   "metadata": {
    "execution": {
     "iopub.execute_input": "2025-03-19T10:17:48.026608Z",
     "iopub.status.busy": "2025-03-19T10:17:48.026417Z",
     "iopub.status.idle": "2025-03-19T10:17:48.031647Z",
     "shell.execute_reply": "2025-03-19T10:17:48.030591Z"
    }
   },
   "outputs": [],
   "source": [
    "p = 2"
   ]
  },
  {
   "cell_type": "markdown",
   "metadata": {},
   "source": [
    "### Function with Nonlinear System Dynamics"
   ]
  },
  {
   "cell_type": "code",
   "execution_count": null,
   "metadata": {
    "execution": {
     "iopub.execute_input": "2025-03-19T10:17:48.034619Z",
     "iopub.status.busy": "2025-03-19T10:17:48.034336Z",
     "iopub.status.idle": "2025-03-19T10:17:48.041057Z",
     "shell.execute_reply": "2025-03-19T10:17:48.040403Z"
    }
   },
   "outputs": [],
   "source": [
    "def Fdyn(X, U):\n",
    "    # Balances\n",
    "\n",
    "    # V is constant ---> perfect Level Control\n",
    "    # ro*F_in = ro*F_out = ro*F --> F = F_in = F_out at each instant\n",
    "\n",
    "    # Mass Balance on A\n",
    "    # Ca_in*F - Ca*F = V*dCA/dt\n",
    "    #\n",
    "    dx_0 = (U[2] * U[0] - X[0] * U[0]) / V\n",
    "\n",
    "    # Energy Balance\n",
    "    # ro*cp*F*T_in - ro*cp*F*T + W*Lam = (V*ro*cp)*dT/dt\n",
    "    #\n",
    "    dx_1 = (ro * cp * U[0] * U[3] - ro * cp * U[0] * X[1] + U[1] * Lam) / (\n",
    "        V * ro * cp\n",
    "    )\n",
    "    fx = np.append(dx_0, dx_1)\n",
    "    return fx"
   ]
  },
  {
   "cell_type": "markdown",
   "metadata": {},
   "source": [
    "Build input sequences"
   ]
  },
  {
   "cell_type": "code",
   "execution_count": null,
   "metadata": {
    "execution": {
     "iopub.execute_input": "2025-03-19T10:17:48.043694Z",
     "iopub.status.busy": "2025-03-19T10:17:48.043369Z",
     "iopub.status.idle": "2025-03-19T10:17:48.048488Z",
     "shell.execute_reply": "2025-03-19T10:17:48.047300Z"
    }
   },
   "outputs": [],
   "source": [
    "U = np.zeros((m, npts))"
   ]
  },
  {
   "cell_type": "markdown",
   "metadata": {},
   "source": [
    "manipulated inputs as GBN<br>\n",
    "Input Flow rate Fin = F = U[0]    [m^3/min]"
   ]
  },
  {
   "cell_type": "code",
   "execution_count": null,
   "metadata": {
    "execution": {
     "iopub.execute_input": "2025-03-19T10:17:48.053937Z",
     "iopub.status.busy": "2025-03-19T10:17:48.052811Z",
     "iopub.status.idle": "2025-03-19T10:17:48.077200Z",
     "shell.execute_reply": "2025-03-19T10:17:48.076284Z"
    }
   },
   "outputs": [],
   "source": [
    "prob_switch_1 = 0.05\n",
    "F_min = 0.4\n",
    "F_max = 0.6\n",
    "Range_GBN_1 = (F_min, F_max)\n",
    "[U[0, :], _, _] = gen_gbn_seq(\n",
    "    npts, prob_switch_1, scale=Range_GBN_1, seed=seed\n",
    ")\n",
    "# Steam Flow rate W = U[1]          [kg/min]\n",
    "prob_switch_2 = 0.05\n",
    "W_min = 20\n",
    "W_max = 40\n",
    "Range_GBN_2 = (W_min, W_max)\n",
    "[U[1, :], _, _] = gen_gbn_seq(\n",
    "    npts, prob_switch_2, scale=Range_GBN_2, seed=seed\n",
    ")"
   ]
  },
  {
   "cell_type": "markdown",
   "metadata": {},
   "source": [
    "disturbance inputs as RW (random-walk)"
   ]
  },
  {
   "cell_type": "markdown",
   "metadata": {},
   "source": [
    "Input Concentration Ca_in = U[2]  [kg salt/m^3 solution]"
   ]
  },
  {
   "cell_type": "code",
   "execution_count": null,
   "metadata": {
    "execution": {
     "iopub.execute_input": "2025-03-19T10:17:48.081526Z",
     "iopub.status.busy": "2025-03-19T10:17:48.080320Z",
     "iopub.status.idle": "2025-03-19T10:17:48.093158Z",
     "shell.execute_reply": "2025-03-19T10:17:48.092302Z"
    }
   },
   "outputs": [],
   "source": [
    "Ca_0 = 10.0  # initial condition\n",
    "sigma_Ca = 0.01  # variation\n",
    "U[2, :] = gen_rw_seq(npts, Ca_0, sigma=sigma_Ca, seed=seed)\n",
    "# Input Temperature T_in            [°C]\n",
    "Tin_0 = 25.0  # initial condition\n",
    "sigma_T = 0.01  # variation\n",
    "U[3, :] = gen_rw_seq(npts, Tin_0, sigma=sigma_T, seed=seed)"
   ]
  },
  {
   "cell_type": "markdown",
   "metadata": {},
   "source": [
    "## Collect Data"
   ]
  },
  {
   "cell_type": "markdown",
   "metadata": {},
   "source": [
    "Output Initial conditions"
   ]
  },
  {
   "cell_type": "code",
   "execution_count": null,
   "metadata": {
    "execution": {
     "iopub.execute_input": "2025-03-19T10:17:48.100222Z",
     "iopub.status.busy": "2025-03-19T10:17:48.099747Z",
     "iopub.status.idle": "2025-03-19T10:17:48.108484Z",
     "shell.execute_reply": "2025-03-19T10:17:48.107502Z"
    }
   },
   "outputs": [],
   "source": [
    "Caout_0 = Ca_0\n",
    "Tout_0 = (ro * cp * U[0, 0] * Tin_0 + U[1, 0] * Lam) / (ro * cp * U[0, 0])\n",
    "Xo1 = Caout_0 * np.ones((1, npts))\n",
    "Xo2 = Tout_0 * np.ones((1, npts))\n",
    "X = np.vstack((Xo1, Xo2))"
   ]
  },
  {
   "cell_type": "markdown",
   "metadata": {},
   "source": [
    "Run Simulation"
   ]
  },
  {
   "cell_type": "code",
   "execution_count": null,
   "metadata": {
    "execution": {
     "iopub.execute_input": "2025-03-19T10:17:48.115086Z",
     "iopub.status.busy": "2025-03-19T10:17:48.114635Z",
     "iopub.status.idle": "2025-03-19T10:17:48.286784Z",
     "shell.execute_reply": "2025-03-19T10:17:48.285436Z"
    }
   },
   "outputs": [],
   "source": [
    "for j in range(npts - 1):\n",
    "    # Explicit Runge-Kutta 4 (TC dynamics is integrateed by hand)\n",
    "    Mx = 5  # Number of elements in each time step\n",
    "    dt = ts / Mx  # integration step\n",
    "    # Output & Input\n",
    "    X0k = X[:, j]\n",
    "    Uk = U[:, j]\n",
    "    # Integrate the model\n",
    "    for i in range(Mx):\n",
    "        k1 = Fdyn(X0k, Uk)\n",
    "        k2 = Fdyn(X0k + dt / 2.0 * k1, Uk)\n",
    "        k3 = Fdyn(X0k + dt / 2.0 * k2, Uk)\n",
    "        k4 = Fdyn(X0k + dt * k3, Uk)\n",
    "        Xk_1 = X0k + (dt / 6.0) * (k1 + 2.0 * k2 + 2.0 * k3 + k4)\n",
    "    X[:, j + 1] = Xk_1"
   ]
  },
  {
   "cell_type": "markdown",
   "metadata": {},
   "source": [
    "Add noise (with assigned variances)"
   ]
  },
  {
   "cell_type": "code",
   "execution_count": null,
   "metadata": {
    "execution": {
     "iopub.execute_input": "2025-03-19T10:17:48.292387Z",
     "iopub.status.busy": "2025-03-19T10:17:48.292037Z",
     "iopub.status.idle": "2025-03-19T10:17:48.296994Z",
     "shell.execute_reply": "2025-03-19T10:17:48.296448Z"
    }
   },
   "outputs": [],
   "source": [
    "var = [0.001, 0.001]\n",
    "noise = white_noise_var(npts, var, seed=seed)"
   ]
  },
  {
   "cell_type": "markdown",
   "metadata": {},
   "source": [
    "Build Output"
   ]
  },
  {
   "cell_type": "code",
   "execution_count": null,
   "metadata": {
    "execution": {
     "iopub.execute_input": "2025-03-19T10:17:48.299696Z",
     "iopub.status.busy": "2025-03-19T10:17:48.299364Z",
     "iopub.status.idle": "2025-03-19T10:17:48.303970Z",
     "shell.execute_reply": "2025-03-19T10:17:48.303445Z"
    }
   },
   "outputs": [],
   "source": [
    "Y = X + noise"
   ]
  },
  {
   "cell_type": "markdown",
   "metadata": {},
   "source": [
    "## Identificatino Stage (Linear Models)"
   ]
  },
  {
   "cell_type": "markdown",
   "metadata": {},
   "source": [
    "Orders"
   ]
  },
  {
   "cell_type": "code",
   "execution_count": null,
   "metadata": {
    "execution": {
     "iopub.execute_input": "2025-03-19T10:17:48.306280Z",
     "iopub.status.busy": "2025-03-19T10:17:48.306040Z",
     "iopub.status.idle": "2025-03-19T10:17:48.311133Z",
     "shell.execute_reply": "2025-03-19T10:17:48.310401Z"
    }
   },
   "outputs": [],
   "source": [
    "na_ords = [2, 2]\n",
    "nb_ords = [[1, 1, 1, 1], [1, 1, 1, 1]]\n",
    "nc_ords = [1, 1]\n",
    "nd_ords = [1, 1]\n",
    "nf_ords = [2, 2]\n",
    "theta = [[1, 1, 1, 1], [1, 1, 1, 1]]\n",
    "# Number of iterations\n",
    "n_iter = 300"
   ]
  },
  {
   "cell_type": "markdown",
   "metadata": {},
   "source": [
    "IN-OUT Models: ARX - ARMAX - OE - BJ - GEN"
   ]
  },
  {
   "cell_type": "code",
   "execution_count": null,
   "metadata": {
    "execution": {
     "iopub.execute_input": "2025-03-19T10:17:48.313382Z",
     "iopub.status.busy": "2025-03-19T10:17:48.313202Z",
     "iopub.status.idle": "2025-03-19T10:17:48.320273Z",
     "shell.execute_reply": "2025-03-19T10:17:48.319614Z"
    }
   },
   "outputs": [],
   "source": [
    "identification_params: dict[\n",
    "    IOMethods, tuple[tuple[list[int] | list[list[int]], ...], dict]\n",
    "] = {\n",
    "    \"ARX\": (\n",
    "        (na_ords, nb_ords, theta),\n",
    "        {\n",
    "            \"id_mode\": \"RLLS\",\n",
    "            \"centering\": \"MeanVal\",\n",
    "        },\n",
    "    ),\n",
    "    \"ARMAX\": (\n",
    "        (na_ords, nb_ords, nc_ords, theta),\n",
    "        {\n",
    "            \"centering\": \"MeanVal\",\n",
    "            \"max_iter\": n_iter,\n",
    "            \"id_mode\": \"OPT\",\n",
    "        },\n",
    "    ),\n",
    "    \"OE\": (\n",
    "        (nb_ords, nf_ords, theta),\n",
    "        {\n",
    "            \"centering\": \"MeanVal\",\n",
    "            \"max_iter\": n_iter,\n",
    "        },\n",
    "    ),\n",
    "    \"BJ\": (\n",
    "        (nb_ords, nc_ords, nd_ords, nf_ords, theta),\n",
    "        {\n",
    "            \"centering\": \"MeanVal\",\n",
    "            \"max_iter\": n_iter,\n",
    "            \"stab_cons\": True,\n",
    "        },\n",
    "    ),\n",
    "    \"GEN\": (\n",
    "        (na_ords, nb_ords, nc_ords, nd_ords, nf_ords, theta),\n",
    "        {\n",
    "            \"centering\": \"MeanVal\",\n",
    "            \"max_iter\": n_iter,\n",
    "            \"stab_cons\": True,\n",
    "            \"stab_marg\": 0.98,\n",
    "        },\n",
    "    ),\n",
    "}"
   ]
  },
  {
   "cell_type": "code",
   "execution_count": null,
   "metadata": {
    "execution": {
     "iopub.execute_input": "2025-03-19T10:17:48.323033Z",
     "iopub.status.busy": "2025-03-19T10:17:48.322799Z",
     "iopub.status.idle": "2025-03-19T10:18:25.294272Z",
     "shell.execute_reply": "2025-03-19T10:18:25.292949Z"
    }
   },
   "outputs": [],
   "source": [
    "syss = []\n",
    "for method, orders_params in identification_params.items():\n",
    "    orders, params = orders_params\n",
    "    sys_id = system_identification(Y, U, method, *orders, **params)\n",
    "    syss.append(sys_id)"
   ]
  },
  {
   "cell_type": "markdown",
   "metadata": {},
   "source": [
    "SS - mimo<br>\n",
    "choose method"
   ]
  },
  {
   "cell_type": "code",
   "execution_count": null,
   "metadata": {
    "execution": {
     "iopub.execute_input": "2025-03-19T10:18:25.302735Z",
     "iopub.status.busy": "2025-03-19T10:18:25.302352Z",
     "iopub.status.idle": "2025-03-19T10:18:25.771324Z",
     "shell.execute_reply": "2025-03-19T10:18:25.770650Z"
    }
   },
   "outputs": [],
   "source": [
    "method = \"PARSIM_K\"\n",
    "order = 2\n",
    "sys_id = system_identification(Y, U, method, order)\n",
    "if not isinstance(sys_id, SS_Model):\n",
    "    raise ValueError(\"SS model not returned\")\n",
    "# GETTING RESULTS (Y_id)\n",
    "# SS\n",
    "x_ss, Y_ss = lsim_process_form(\n",
    "    sys_id.A, sys_id.B, sys_id.C, sys_id.D, U, sys_id.x0\n",
    ")"
   ]
  },
  {
   "cell_type": "code",
   "execution_count": null,
   "metadata": {
    "execution": {
     "iopub.execute_input": "2025-03-19T10:18:25.775763Z",
     "iopub.status.busy": "2025-03-19T10:18:25.775529Z",
     "iopub.status.idle": "2025-03-19T10:18:25.779976Z",
     "shell.execute_reply": "2025-03-19T10:18:25.779536Z"
    }
   },
   "outputs": [],
   "source": [
    "Ys = [Y] + [getattr(sys, \"y_id\") for sys in syss] + [Y_ss]"
   ]
  },
  {
   "cell_type": "markdown",
   "metadata": {},
   "source": [
    "PLOTS"
   ]
  },
  {
   "cell_type": "markdown",
   "metadata": {},
   "source": [
    "Inputs"
   ]
  },
  {
   "cell_type": "code",
   "execution_count": null,
   "metadata": {
    "execution": {
     "iopub.execute_input": "2025-03-19T10:18:25.782542Z",
     "iopub.status.busy": "2025-03-19T10:18:25.781936Z",
     "iopub.status.idle": "2025-03-19T10:18:26.077010Z",
     "shell.execute_reply": "2025-03-19T10:18:26.076599Z"
    }
   },
   "outputs": [],
   "source": [
    "fig = plot_comparison(\n",
    "    Time,\n",
    "    U,\n",
    "    [\n",
    "        \"$F [m^3/min]$\",\n",
    "        \"$W [kg/min]$\",\n",
    "        \"$C_{a_{in}} [kg/m^3]$\",\n",
    "        r\"$T_{in} [^\\circ{}C]$\",\n",
    "    ],\n",
    ")"
   ]
  },
  {
   "cell_type": "markdown",
   "metadata": {},
   "source": [
    "Outputs"
   ]
  },
  {
   "cell_type": "code",
   "execution_count": null,
   "metadata": {
    "execution": {
     "iopub.execute_input": "2025-03-19T10:18:26.078963Z",
     "iopub.status.busy": "2025-03-19T10:18:26.078793Z",
     "iopub.status.idle": "2025-03-19T10:18:26.259963Z",
     "shell.execute_reply": "2025-03-19T10:18:26.259440Z"
    }
   },
   "outputs": [],
   "source": [
    "fig = plot_comparison(\n",
    "    Time,\n",
    "    Ys,\n",
    "    [\"$Ca [kg/m^3]$\", r\"$T [^\\circ{}C]$\"],\n",
    "    legend=[\"Data\", \"ARX\", \"ARMAX\", \"OE\", \"BJ\", \"GEN\", \"SS\"],\n",
    ")"
   ]
  },
  {
   "cell_type": "markdown",
   "metadata": {},
   "source": [
    "VALIDATION STAGE"
   ]
  },
  {
   "cell_type": "markdown",
   "metadata": {},
   "source": [
    "Build new input sequences"
   ]
  },
  {
   "cell_type": "code",
   "execution_count": null,
   "metadata": {
    "execution": {
     "iopub.execute_input": "2025-03-19T10:18:26.261714Z",
     "iopub.status.busy": "2025-03-19T10:18:26.261578Z",
     "iopub.status.idle": "2025-03-19T10:18:26.264998Z",
     "shell.execute_reply": "2025-03-19T10:18:26.264463Z"
    }
   },
   "outputs": [],
   "source": [
    "U_val = np.zeros((m, npts))"
   ]
  },
  {
   "cell_type": "markdown",
   "metadata": {},
   "source": [
    "manipulated inputs as GBN<br>\n",
    "Input Flow rate Fin = F = U[0]    [m^3/min]"
   ]
  },
  {
   "cell_type": "code",
   "execution_count": null,
   "metadata": {
    "execution": {
     "iopub.execute_input": "2025-03-19T10:18:26.267671Z",
     "iopub.status.busy": "2025-03-19T10:18:26.267487Z",
     "iopub.status.idle": "2025-03-19T10:18:26.279957Z",
     "shell.execute_reply": "2025-03-19T10:18:26.279445Z"
    }
   },
   "outputs": [],
   "source": [
    "prob_switch_1 = 0.05\n",
    "F_min = 0.4\n",
    "F_max = 0.6\n",
    "Range_GBN_1 = (F_min, F_max)\n",
    "[U_val[0, :], _, _] = gen_gbn_seq(\n",
    "    npts, prob_switch_1, scale=Range_GBN_1, seed=seed\n",
    ")\n",
    "# Steam Flow rate W = U[1]          [kg/min]\n",
    "prob_switch_2 = 0.05\n",
    "W_min = 20\n",
    "W_max = 40\n",
    "Range_GBN_2 = (W_min, W_max)\n",
    "[U_val[1, :], _, _] = gen_gbn_seq(\n",
    "    npts, prob_switch_2, scale=Range_GBN_2, seed=seed\n",
    ")"
   ]
  },
  {
   "cell_type": "markdown",
   "metadata": {},
   "source": [
    "disturbance inputs as RW (random-walk)<br>\n",
    "Input Concentration Ca_in = U[2]  [kg salt/m^3 solution]"
   ]
  },
  {
   "cell_type": "code",
   "execution_count": null,
   "metadata": {
    "execution": {
     "iopub.execute_input": "2025-03-19T10:18:26.282484Z",
     "iopub.status.busy": "2025-03-19T10:18:26.282233Z",
     "iopub.status.idle": "2025-03-19T10:18:26.292232Z",
     "shell.execute_reply": "2025-03-19T10:18:26.291670Z"
    }
   },
   "outputs": [],
   "source": [
    "Ca_0 = 10.0  # initial condition\n",
    "sigma_Ca = 0.02  # variation\n",
    "U_val[2, :] = gen_rw_seq(npts, Ca_0, sigma=sigma_Ca, seed=seed)\n",
    "# Input Temperature T_in            [°C]\n",
    "Tin_0 = 25.0  # initial condition\n",
    "sigma_T = 0.1  # variation\n",
    "U_val[3, :] = gen_rw_seq(npts, Tin_0, sigma=sigma_T, seed=seed)"
   ]
  },
  {
   "cell_type": "markdown",
   "metadata": {},
   "source": [
    "COLLECT DATA"
   ]
  },
  {
   "cell_type": "markdown",
   "metadata": {},
   "source": [
    "Output Initial conditions"
   ]
  },
  {
   "cell_type": "code",
   "execution_count": null,
   "metadata": {
    "execution": {
     "iopub.execute_input": "2025-03-19T10:18:26.294455Z",
     "iopub.status.busy": "2025-03-19T10:18:26.294230Z",
     "iopub.status.idle": "2025-03-19T10:18:26.299620Z",
     "shell.execute_reply": "2025-03-19T10:18:26.298845Z"
    }
   },
   "outputs": [],
   "source": [
    "Caout_0 = Ca_0\n",
    "Tout_0 = (ro * cp * U[0, 0] * Tin_0 + U[1, 0] * Lam) / (ro * cp * U[0, 0])\n",
    "Xo1 = Caout_0 * np.ones((1, npts))\n",
    "Xo2 = Tout_0 * np.ones((1, npts))\n",
    "X_val = np.vstack((Xo1, Xo2))"
   ]
  },
  {
   "cell_type": "markdown",
   "metadata": {},
   "source": [
    "Run Simulation"
   ]
  },
  {
   "cell_type": "code",
   "execution_count": null,
   "metadata": {
    "execution": {
     "iopub.execute_input": "2025-03-19T10:18:26.301618Z",
     "iopub.status.busy": "2025-03-19T10:18:26.301440Z",
     "iopub.status.idle": "2025-03-19T10:18:26.414993Z",
     "shell.execute_reply": "2025-03-19T10:18:26.413635Z"
    }
   },
   "outputs": [],
   "source": [
    "for j in range(npts - 1):\n",
    "    # Explicit Runge-Kutta 4 (TC dynamics is integrateed by hand)\n",
    "    Mx = 5  # Number of elements in each time step\n",
    "    dt = ts / Mx  # integration step\n",
    "    # Output & Input\n",
    "    X0k = X_val[:, j]\n",
    "    Uk = U_val[:, j]\n",
    "    # Integrate the model\n",
    "    for i in range(Mx):\n",
    "        k1 = Fdyn(X0k, Uk)\n",
    "        k2 = Fdyn(X0k + dt / 2.0 * k1, Uk)\n",
    "        k3 = Fdyn(X0k + dt / 2.0 * k2, Uk)\n",
    "        k4 = Fdyn(X0k + dt * k3, Uk)\n",
    "        Xk_1 = X0k + (dt / 6.0) * (k1 + 2.0 * k2 + 2.0 * k3 + k4)\n",
    "    X_val[:, j + 1] = Xk_1"
   ]
  },
  {
   "cell_type": "markdown",
   "metadata": {},
   "source": [
    "Add noise (with assigned variances)"
   ]
  },
  {
   "cell_type": "code",
   "execution_count": null,
   "metadata": {
    "execution": {
     "iopub.execute_input": "2025-03-19T10:18:26.419454Z",
     "iopub.status.busy": "2025-03-19T10:18:26.419195Z",
     "iopub.status.idle": "2025-03-19T10:18:26.423001Z",
     "shell.execute_reply": "2025-03-19T10:18:26.422563Z"
    }
   },
   "outputs": [],
   "source": [
    "var = [0.01, 0.05]\n",
    "noise_val = white_noise_var(npts, var, seed=seed)"
   ]
  },
  {
   "cell_type": "markdown",
   "metadata": {},
   "source": [
    "Build Output"
   ]
  },
  {
   "cell_type": "code",
   "execution_count": null,
   "metadata": {
    "execution": {
     "iopub.execute_input": "2025-03-19T10:18:26.426579Z",
     "iopub.status.busy": "2025-03-19T10:18:26.426290Z",
     "iopub.status.idle": "2025-03-19T10:18:26.433688Z",
     "shell.execute_reply": "2025-03-19T10:18:26.431593Z"
    }
   },
   "outputs": [],
   "source": [
    "Y_val = X_val + noise_val"
   ]
  },
  {
   "cell_type": "markdown",
   "metadata": {},
   "source": [
    "MODEL VALIDATION"
   ]
  },
  {
   "cell_type": "markdown",
   "metadata": {},
   "source": [
    "IN-OUT Models: ARX - ARMAX - OE - BJ"
   ]
  },
  {
   "cell_type": "code",
   "execution_count": null,
   "metadata": {
    "execution": {
     "iopub.execute_input": "2025-03-19T10:18:26.436540Z",
     "iopub.status.busy": "2025-03-19T10:18:26.436306Z",
     "iopub.status.idle": "2025-03-19T10:18:27.249356Z",
     "shell.execute_reply": "2025-03-19T10:18:27.248679Z"
    }
   },
   "outputs": [],
   "source": [
    "YS = []\n",
    "for i, sys in enumerate(syss):\n",
    "    try:\n",
    "        YS.append(validation(sys, U_val, Y_val, Time, centering=\"MeanVal\"))\n",
    "    except Exception as e:\n",
    "        raise ValueError(\n",
    "            f\"Error in validation of model {[*identification_params.keys()][i]}:\\n{e}\"\n",
    "        )\n",
    "Yv_arx, Yv_armax, Yv_oe, Yv_bj, Yv_gen = (\n",
    "    validation(sys, U_val, Y_val, Time, centering=\"MeanVal\") for sys in syss\n",
    ")\n",
    "# SS\n",
    "x_ss, Yv_ss = lsim_process_form(\n",
    "    sys_id.A, sys_id.B, sys_id.C, sys_id.D, U_val, sys_id.x0\n",
    ")\n",
    "Ys_val = [Y_val] + [Yv_arx, Yv_armax, Yv_oe, Yv_bj, Yv_gen, Yv_ss]"
   ]
  },
  {
   "cell_type": "markdown",
   "metadata": {},
   "source": [
    "PLOTS"
   ]
  },
  {
   "cell_type": "code",
   "execution_count": null,
   "metadata": {
    "execution": {
     "iopub.execute_input": "2025-03-19T10:18:27.251466Z",
     "iopub.status.busy": "2025-03-19T10:18:27.251177Z",
     "iopub.status.idle": "2025-03-19T10:18:27.531983Z",
     "shell.execute_reply": "2025-03-19T10:18:27.531578Z"
    }
   },
   "outputs": [],
   "source": [
    "fig = plot_comparison(\n",
    "    Time,\n",
    "    U_val,\n",
    "    [\n",
    "        \"$F [m^3/min]$\",\n",
    "        \"$W [kg/min]$\",\n",
    "        \"$C_{a_{in}} [kg/m^3]$\",\n",
    "        r\"$T_{in} [^\\circ{}C]$\",\n",
    "    ],\n",
    ")"
   ]
  },
  {
   "cell_type": "code",
   "execution_count": null,
   "metadata": {
    "execution": {
     "iopub.execute_input": "2025-03-19T10:18:27.533508Z",
     "iopub.status.busy": "2025-03-19T10:18:27.533377Z",
     "iopub.status.idle": "2025-03-19T10:18:27.684967Z",
     "shell.execute_reply": "2025-03-19T10:18:27.684548Z"
    }
   },
   "outputs": [],
   "source": [
    "fig = plot_comparison(\n",
    "    Time,\n",
    "    Ys_val,\n",
    "    [\"$Ca [kg/m^3]$\", r\"$T [^\\circ{}C]$\"],\n",
    "    legend=[\"Data\", \"ARX\", \"ARMAX\", \"OE\", \"BJ\", \"GEN\", \"SS\"],\n",
    ")"
   ]
  }
 ],
 "metadata": {
  "kernelspec": {
   "display_name": "",
   "language": "python",
   "name": ""
  },
  "language_info": {
   "codemirror_mode": {
    "name": "ipython",
    "version": 3
   },
   "file_extension": ".py",
   "mimetype": "text/x-python",
   "name": "python",
   "nbconvert_exporter": "python",
   "pygments_lexer": "ipython3",
   "version": "3.12.9"
  }
 },
 "nbformat": 4,
 "nbformat_minor": 2
}
