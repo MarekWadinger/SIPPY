{
 "cells": [
  {
   "cell_type": "code",
   "execution_count": null,
   "metadata": {
    "execution": {
     "iopub.execute_input": "2025-03-16T07:13:09.286174Z",
     "iopub.status.busy": "2025-03-16T07:13:09.285961Z",
     "iopub.status.idle": "2025-03-16T07:13:10.930375Z",
     "shell.execute_reply": "2025-03-16T07:13:10.930093Z"
    }
   },
   "outputs": [],
   "source": [
    "import control.matlab as cnt\n",
    "import numpy as np\n",
    "from matplotlib import rcParams\n",
    "from utils import create_output_dir, plot_bode, plot_response, plot_responses\n",
    "\n",
    "from sippy_unipi import system_identification\n",
    "from sippy_unipi.datasets import gen_gbn_seq, load_sample_siso, white_noise_var\n",
    "\n",
    "rcParams[\"figure.figsize\"] = (9.0, 5.0)\n",
    "output_dir = create_output_dir(\"test_armax.ipynb\")\n",
    "seed = 0\n",
    "np.random.seed(seed)"
   ]
  },
  {
   "cell_type": "code",
   "execution_count": null,
   "metadata": {
    "execution": {
     "iopub.execute_input": "2025-03-16T07:13:10.935480Z",
     "iopub.status.busy": "2025-03-16T07:13:10.935336Z",
     "iopub.status.idle": "2025-03-16T07:13:10.946334Z",
     "shell.execute_reply": "2025-03-16T07:13:10.946070Z"
    }
   },
   "outputs": [],
   "source": [
    "n_samples = 401\n",
    "ts = 1.0\n",
    "time, Ysim, Usim, g_sys, Yerr, Uerr, h_sys, Ytot, Utot = load_sample_siso(\n",
    "    n_samples, ts, seed=seed\n",
    ")"
   ]
  },
  {
   "cell_type": "code",
   "execution_count": null,
   "metadata": {
    "execution": {
     "iopub.execute_input": "2025-03-16T07:13:10.947055Z",
     "iopub.status.busy": "2025-03-16T07:13:10.946981Z",
     "iopub.status.idle": "2025-03-16T07:13:11.151435Z",
     "shell.execute_reply": "2025-03-16T07:13:11.151166Z"
    }
   },
   "outputs": [],
   "source": [
    "fig = plot_responses(\n",
    "    time,\n",
    "    [Usim, Uerr, Utot],\n",
    "    [Ysim, Yerr, Ytot],\n",
    "    [\"u\", \"e\", [\"u\", \"e\"]],\n",
    ")\n",
    "\n",
    "fig.savefig(output_dir + \"/responses.png\")"
   ]
  },
  {
   "cell_type": "markdown",
   "metadata": {},
   "source": [
    "## Perform system identification from collected data"
   ]
  },
  {
   "cell_type": "code",
   "execution_count": null,
   "metadata": {
    "execution": {
     "iopub.execute_input": "2025-03-16T07:13:11.152370Z",
     "iopub.status.busy": "2025-03-16T07:13:11.152290Z",
     "iopub.status.idle": "2025-03-16T07:13:21.553622Z",
     "shell.execute_reply": "2025-03-16T07:13:21.553105Z"
    },
    "scrolled": true
   },
   "outputs": [],
   "source": [
    "sys_id = system_identification(\n",
    "    Ytot,\n",
    "    Usim,\n",
    "    \"ARMAX\",\n",
    "    *((1, 5), (1, 5), (1, 5), (1, 13)),\n",
    "    IC=\"BIC\",\n",
    "    centering=\"MeanVal\",\n",
    "    max_iter=1000,\n",
    ")"
   ]
  },
  {
   "cell_type": "markdown",
   "metadata": {},
   "source": [
    "## Check that output of the identified system is consistent"
   ]
  },
  {
   "cell_type": "code",
   "execution_count": null,
   "metadata": {
    "execution": {
     "iopub.execute_input": "2025-03-16T07:13:21.555689Z",
     "iopub.status.busy": "2025-03-16T07:13:21.555556Z",
     "iopub.status.idle": "2025-03-16T07:13:21.561432Z",
     "shell.execute_reply": "2025-03-16T07:13:21.561174Z"
    }
   },
   "outputs": [],
   "source": [
    "Y_id1, time, Xsim = cnt.lsim(sys_id.G, Usim, time)\n",
    "Y_hid1, time, Xsim = cnt.lsim(sys_id.H, Uerr, time)\n",
    "Y_idTot = Y_id1 + Y_hid1"
   ]
  },
  {
   "cell_type": "code",
   "execution_count": null,
   "metadata": {
    "execution": {
     "iopub.execute_input": "2025-03-16T07:13:21.562241Z",
     "iopub.status.busy": "2025-03-16T07:13:21.562161Z",
     "iopub.status.idle": "2025-03-16T07:13:21.669442Z",
     "shell.execute_reply": "2025-03-16T07:13:21.669123Z"
    }
   },
   "outputs": [],
   "source": [
    "fig = plot_response(\n",
    "    time,\n",
    "    Usim,\n",
    "    [Ytot, Y_idTot],\n",
    "    legends=[[\"U\"], [\"system\", \"armax\"]],\n",
    "    titles=[\n",
    "        \"Input, identification data (Switch probability=0.08)\",\n",
    "        \"Output (identification data)\",\n",
    "    ],\n",
    ")\n",
    "fig.savefig(output_dir + \"/system_consistency.png\")"
   ]
  },
  {
   "cell_type": "markdown",
   "metadata": {},
   "source": [
    "# Validation of the identified system: \n",
    "## Generate new time series for input and noise"
   ]
  },
  {
   "cell_type": "code",
   "execution_count": null,
   "metadata": {
    "execution": {
     "iopub.execute_input": "2025-03-16T07:13:21.670389Z",
     "iopub.status.busy": "2025-03-16T07:13:21.670304Z",
     "iopub.status.idle": "2025-03-16T07:13:21.677331Z",
     "shell.execute_reply": "2025-03-16T07:13:21.676857Z"
    }
   },
   "outputs": [],
   "source": [
    "switch_probability = 0.07  # [0..1]\n",
    "input_range = [0.5, 1.5]\n",
    "U_valid, _, _ = gen_gbn_seq(n_samples, switch_probability, scale=input_range)\n",
    "white_noise_variance = [0.01]\n",
    "e_valid = white_noise_var(U_valid.size, white_noise_variance)[0]"
   ]
  },
  {
   "cell_type": "markdown",
   "metadata": {},
   "source": [
    "## Compute time responses for true system with new inputs"
   ]
  },
  {
   "cell_type": "code",
   "execution_count": null,
   "metadata": {
    "execution": {
     "iopub.execute_input": "2025-03-16T07:13:21.678226Z",
     "iopub.status.busy": "2025-03-16T07:13:21.678145Z",
     "iopub.status.idle": "2025-03-16T07:13:21.683298Z",
     "shell.execute_reply": "2025-03-16T07:13:21.683085Z"
    }
   },
   "outputs": [],
   "source": [
    "Yvalid1, time, Xsim = cnt.lsim(g_sys, U_valid, time)\n",
    "Yvalid2, time, Xsim = cnt.lsim(h_sys, e_valid, time)\n",
    "Ytotvalid = Yvalid1 + Yvalid2"
   ]
  },
  {
   "cell_type": "markdown",
   "metadata": {},
   "source": [
    "## Compute time responses for identified system with new inputs"
   ]
  },
  {
   "cell_type": "code",
   "execution_count": null,
   "metadata": {
    "execution": {
     "iopub.execute_input": "2025-03-16T07:13:21.684045Z",
     "iopub.status.busy": "2025-03-16T07:13:21.683972Z",
     "iopub.status.idle": "2025-03-16T07:13:21.689393Z",
     "shell.execute_reply": "2025-03-16T07:13:21.689167Z"
    }
   },
   "outputs": [],
   "source": [
    "y_idvalid1, time, Xsim = cnt.lsim(sys_id.G, U_valid, time)\n",
    "y_idvalid2, time, Xsim = cnt.lsim(sys_id.H, e_valid, time)\n",
    "y_idtotvalid = y_idvalid1 + y_idvalid2"
   ]
  },
  {
   "cell_type": "markdown",
   "metadata": {},
   "source": [
    "## Check responses are almost equal"
   ]
  },
  {
   "cell_type": "code",
   "execution_count": null,
   "metadata": {
    "execution": {
     "iopub.execute_input": "2025-03-16T07:13:21.690284Z",
     "iopub.status.busy": "2025-03-16T07:13:21.690210Z",
     "iopub.status.idle": "2025-03-16T07:13:21.791231Z",
     "shell.execute_reply": "2025-03-16T07:13:21.790951Z"
    }
   },
   "outputs": [],
   "source": [
    "fig = plot_response(\n",
    "    time,\n",
    "    Usim,\n",
    "    [Ytotvalid, y_idtotvalid],\n",
    "    legends=[[\"U\"], [\"system\", \"armax\"]],\n",
    "    titles=[\n",
    "        \"Input, identification data (Switch probability=0.07)\",\n",
    "        \"Output (identification data)\",\n",
    "    ],\n",
    ")\n",
    "fig.savefig(output_dir + \"/system_validation.png\")"
   ]
  },
  {
   "cell_type": "code",
   "execution_count": null,
   "metadata": {
    "execution": {
     "iopub.execute_input": "2025-03-16T07:13:21.792131Z",
     "iopub.status.busy": "2025-03-16T07:13:21.792050Z",
     "iopub.status.idle": "2025-03-16T07:13:22.896466Z",
     "shell.execute_reply": "2025-03-16T07:13:22.896148Z"
    }
   },
   "outputs": [],
   "source": [
    "W_V = np.logspace(-3, 4, num=701)\n",
    "for tf in [\"G\", \"H\"]:\n",
    "    syss_tfs = [\n",
    "        locals()[f\"{tf.lower()}_sys\"],\n",
    "        getattr(sys_id, tf),\n",
    "    ]\n",
    "    mags, fis, oms = zip(*[cnt.bode(sys, W_V) for sys in syss_tfs])\n",
    "\n",
    "    fig = plot_bode(\n",
    "        oms[0],\n",
    "        mags,\n",
    "        fis,\n",
    "        [\"system\"],\n",
    "    )\n",
    "    fig.savefig(output_dir + f\"/bode_{tf}.png\")"
   ]
  }
 ],
 "metadata": {
  "kernelspec": {
   "display_name": "",
   "language": "python",
   "name": ""
  },
  "language_info": {
   "codemirror_mode": {
    "name": "ipython",
    "version": 3
   },
   "file_extension": ".py",
   "mimetype": "text/x-python",
   "name": "python",
   "nbconvert_exporter": "python",
   "pygments_lexer": "ipython3",
   "version": "3.12.9"
  }
 },
 "nbformat": 4,
 "nbformat_minor": 2
}
