{
 "cells": [
  {
   "cell_type": "markdown",
   "metadata": {},
   "source": [
    "# ARMAX Example\n",
    "\n",
    "This notebook demonstrates the ARMAX model identification and validation process."
   ]
  },
  {
   "cell_type": "code",
   "execution_count": null,
   "metadata": {
    "execution": {
     "iopub.execute_input": "2025-03-19T10:16:12.448901Z",
     "iopub.status.busy": "2025-03-19T10:16:12.448505Z",
     "iopub.status.idle": "2025-03-19T10:16:17.003781Z",
     "shell.execute_reply": "2025-03-19T10:16:17.003153Z"
    }
   },
   "outputs": [],
   "source": [
    "import control.matlab as cnt\n",
    "import numpy as np\n",
    "from utils import (\n",
    "    W_V,\n",
    "    plot_bode,\n",
    "    plot_response,\n",
    "    plot_responses,\n",
    ")\n",
    "\n",
    "from sippy_unipi import system_identification\n",
    "from sippy_unipi.datasets import gen_gbn_seq, load_sample_siso, white_noise_var\n",
    "from sippy_unipi.evaluate import validation\n",
    "\n",
    "np.random.seed(0)"
   ]
  },
  {
   "cell_type": "markdown",
   "metadata": {},
   "source": [
    "## Load Sample Data"
   ]
  },
  {
   "cell_type": "code",
   "execution_count": null,
   "metadata": {
    "execution": {
     "iopub.execute_input": "2025-03-19T10:16:17.005892Z",
     "iopub.status.busy": "2025-03-19T10:16:17.005654Z",
     "iopub.status.idle": "2025-03-19T10:16:17.339231Z",
     "shell.execute_reply": "2025-03-19T10:16:17.338810Z"
    }
   },
   "outputs": [],
   "source": [
    "ylegends = [\"System\", \"ARMAX-I\", \"ARMAX-0\", \"ARMAX-R\"]\n",
    "n_samples = 401\n",
    "ts = 1.0\n",
    "time, Ysim, Usim, g_sys, Yerr, Uerr, h_sys, Ytot, Utot = load_sample_siso(\n",
    "    n_samples, ts, seed=0\n",
    ")\n",
    "\n",
    "fig = plot_responses(\n",
    "    time,\n",
    "    [Usim, Uerr, Utot],\n",
    "    [Ysim, Yerr, Ytot],\n",
    "    [\"u\", \"e\", [\"u\", \"e\"]],\n",
    ")"
   ]
  },
  {
   "cell_type": "markdown",
   "metadata": {},
   "source": [
    "## System Identification"
   ]
  },
  {
   "cell_type": "code",
   "execution_count": null,
   "metadata": {
    "execution": {
     "iopub.execute_input": "2025-03-19T10:16:17.370173Z",
     "iopub.status.busy": "2025-03-19T10:16:17.369981Z",
     "iopub.status.idle": "2025-03-19T10:16:17.581534Z",
     "shell.execute_reply": "2025-03-19T10:16:17.581091Z"
    }
   },
   "outputs": [],
   "source": [
    "mode = \"FIXED\"\n",
    "\n",
    "if mode == \"IC\":\n",
    "    na_ord = [4, 4]\n",
    "    nb_ord = [3, 3]\n",
    "    nc_ord = [2, 2]\n",
    "    theta = [11, 11]\n",
    "else:\n",
    "    na_ord = [4]\n",
    "    nb_ord = [[3]]\n",
    "    nc_ord = [2]\n",
    "    theta = [[11]]\n",
    "\n",
    "identification_params = [\n",
    "    ((na_ord, nb_ord, nc_ord, theta), {\"IC\": \"BIC\", \"id_mode\": \"ILLS\"}),\n",
    "    ((na_ord, nb_ord, nc_ord, theta), {\"IC\": \"BIC\", \"id_mode\": \"OPT\"}),\n",
    "    ((na_ord, nb_ord, nc_ord, theta), {\"IC\": \"BIC\", \"id_mode\": \"RLLS\"}),\n",
    "]\n",
    "\n",
    "syss = []\n",
    "for orders_params in identification_params:\n",
    "    orders, params = orders_params\n",
    "    sys_id = system_identification(\n",
    "        Ytot, Usim, \"ARMAX\", *orders, ts=ts, max_iter=300, **params\n",
    "    )\n",
    "    syss.append(sys_id)\n",
    "\n",
    "ys = [Ytot] + [getattr(sys, \"y_id\").T for sys in syss]"
   ]
  },
  {
   "cell_type": "markdown",
   "metadata": {},
   "source": [
    "## Check Consistency of the Identified System"
   ]
  },
  {
   "cell_type": "code",
   "execution_count": null,
   "metadata": {
    "execution": {
     "iopub.execute_input": "2025-03-19T10:16:17.583099Z",
     "iopub.status.busy": "2025-03-19T10:16:17.582943Z",
     "iopub.status.idle": "2025-03-19T10:16:17.726602Z",
     "shell.execute_reply": "2025-03-19T10:16:17.726146Z"
    }
   },
   "outputs": [],
   "source": [
    "fig = plot_response(\n",
    "    time,\n",
    "    ys,\n",
    "    Usim,\n",
    "    legends=[ylegends, [\"U\"]],\n",
    "    titles=[\n",
    "        \"Output (identification data)\",\n",
    "        \"Input, identification data (Switch probability=0.08)\",\n",
    "    ],\n",
    ")"
   ]
  },
  {
   "cell_type": "markdown",
   "metadata": {},
   "source": [
    "## Validation of the Identified System"
   ]
  },
  {
   "cell_type": "code",
   "execution_count": null,
   "metadata": {
    "execution": {
     "iopub.execute_input": "2025-03-19T10:16:17.728272Z",
     "iopub.status.busy": "2025-03-19T10:16:17.728125Z",
     "iopub.status.idle": "2025-03-19T10:16:18.026504Z",
     "shell.execute_reply": "2025-03-19T10:16:18.026074Z"
    }
   },
   "outputs": [],
   "source": [
    "switch_probability = 0.07\n",
    "input_range = (0.5, 1.5)\n",
    "[U_valid, _, _] = gen_gbn_seq(n_samples, switch_probability, scale=input_range)\n",
    "white_noise_variance = [0.01]\n",
    "e_valid = white_noise_var(U_valid.size, white_noise_variance)[0]\n",
    "\n",
    "Yvalid1, time, Xsim = cnt.lsim(g_sys, U_valid, time)\n",
    "Yvalid2, time, Xsim = cnt.lsim(h_sys, e_valid, time)\n",
    "Ytotvalid = Yvalid1 + Yvalid2\n",
    "\n",
    "ys = [Ytotvalid] + [validation(sys, U_valid, Ytotvalid, time) for sys in syss]\n",
    "\n",
    "fig = plot_response(\n",
    "    time,\n",
    "    ys,\n",
    "    Usim,\n",
    "    legends=[ylegends, [\"U\"]],\n",
    "    titles=[\n",
    "        \"Output (identification data)\",\n",
    "        \"Input, identification data (Switch probability=0.07)\",\n",
    "    ],\n",
    ")"
   ]
  },
  {
   "cell_type": "markdown",
   "metadata": {},
   "source": [
    "## Compute RMSE and Explained Variance"
   ]
  },
  {
   "cell_type": "code",
   "execution_count": null,
   "metadata": {
    "execution": {
     "iopub.execute_input": "2025-03-19T10:16:18.028073Z",
     "iopub.status.busy": "2025-03-19T10:16:18.027937Z",
     "iopub.status.idle": "2025-03-19T10:16:18.033398Z",
     "shell.execute_reply": "2025-03-19T10:16:18.033026Z"
    }
   },
   "outputs": [],
   "source": [
    "for y, sys in zip(ys, syss):\n",
    "    yv = y.T\n",
    "    rmse = np.round(np.sqrt(np.mean((Ytotvalid - yv) ** 2)), 2)\n",
    "    EV = 100.0 * (\n",
    "        np.round((1.0 - np.mean((Ytotvalid - yv) ** 2) / np.std(Ytotvalid)), 2)\n",
    "    )\n",
    "    print(f\"RMSE = {rmse}\")\n",
    "    print(f\"Explained Variance = {EV}%\")"
   ]
  },
  {
   "cell_type": "markdown",
   "metadata": {},
   "source": [
    "## Step Tests"
   ]
  },
  {
   "cell_type": "code",
   "execution_count": null,
   "metadata": {
    "execution": {
     "iopub.execute_input": "2025-03-19T10:16:18.034829Z",
     "iopub.status.busy": "2025-03-19T10:16:18.034688Z",
     "iopub.status.idle": "2025-03-19T10:16:20.955510Z",
     "shell.execute_reply": "2025-03-19T10:16:20.955090Z"
    }
   },
   "outputs": [],
   "source": [
    "u = np.ones_like(time)\n",
    "u[0] = 0\n",
    "\n",
    "for tf in [\"G\", \"H\"]:\n",
    "    syss_tfs = [\n",
    "        locals()[f\"{tf.lower()}_sys\"],\n",
    "        *[getattr(sys, tf) for sys in syss],\n",
    "    ]\n",
    "    mags, fis, oms = zip(*[cnt.bode(sys, W_V) for sys in syss_tfs])\n",
    "\n",
    "    fig = plot_bode(\n",
    "        oms[0],\n",
    "        mags,\n",
    "        fis,\n",
    "        ylegends,\n",
    "    )\n",
    "\n",
    "    ys, _ = zip(*[cnt.step(sys, time) for sys in syss_tfs])\n",
    "\n",
    "    fig = plot_response(\n",
    "        time,\n",
    "        ys,\n",
    "        u,\n",
    "        legends=[ylegends, [\"U\"]],\n",
    "        titles=[\"Step Response G(z)\", None],\n",
    "    )"
   ]
  }
 ],
 "metadata": {
  "kernelspec": {
   "display_name": "",
   "language": "python",
   "name": ""
  },
  "language_info": {
   "codemirror_mode": {
    "name": "ipython",
    "version": 3
   },
   "file_extension": ".py",
   "mimetype": "text/x-python",
   "name": "python",
   "nbconvert_exporter": "python",
   "pygments_lexer": "ipython3",
   "version": "3.12.9"
  }
 },
 "nbformat": 4,
 "nbformat_minor": 2
}
