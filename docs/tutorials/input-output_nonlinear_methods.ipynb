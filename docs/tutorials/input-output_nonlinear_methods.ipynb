{
 "cells": [
  {
   "cell_type": "markdown",
   "metadata": {},
   "source": [
    "# Input-Output Nonlinear Methods\n",
    "\n",
    "Nonlinear dynamic models can be defined in analogy to their linear counterparts.\n",
    "\n",
    "The common notation is adding an $N$ for `non-linear` in front of the linear model class name.\n",
    "\n",
    "The general form for all nonlinear dynamic input/output models is as follows:\n",
    "\n",
    "$$\n",
    "  \\hat{y}_k = f(\\varphi_k)\n",
    "$$\n",
    "\n",
    "where $\\varphi_k$ is the regression vector.\n",
    "\n",
    "A major distinction can be made between models with and without output feedback.\n",
    "\n",
    "In the first case, previous process or model outputs and possibly prediction errors (i.e., $\\epsilon_k = y_k - \\hat{y}_k$) are included in the regression vector [Nelles, 2020]().\n",
    "\n",
    "Since for nonlinear problems, the complexity typically increases strongly with the space dimensionality of the input,\n",
    "lower-dimensional NARX and NOE are the most widespread models, so they are the only available structures in SIPPY.\n",
    "\n",
    "One drawback of nonlinear models with output feedback is that the choice of model orders is crucial for the performance.\n",
    "\n",
    "No efficient order determination methods are available in the literature, and the user is often left with a trial-and-error approach.\n",
    "\n",
    "This issue becomes particularly bothersome when different orders ($n_a$, $n_b$) are considered for the input and output, instead of a common order $m$. Also, a time-delay $\\theta$ is taken into account.\n",
    "\n",
    "Nonlinear input/output models with output feedback are represented in SIPPY by \\emph{Kolmogorov-Gabor} polynomials.\n",
    "%\n",
    "As an example, for a second-order model ($m = 2$) and a polynomial with degree $l = 2$, the following function results:\n",
    "\n",
    "$$\n",
    "\\begin{split}\n",
    "  {y}_k & = p_1 + p_2 u_{k-1} + p_3 u_{k-2} + p_4 y_{k-1} \\\\ & + p_5 y_{k-2}\n",
    "  + p_6 u^2_{k-1} + p_7 u^2_{k-2} + p_8 y^2_{k-1} + p_9 y^2_{k-2} \\\\ & +\n",
    "  p_{10} u_{k-1} u_{k-2} + p_{11} u_{k-1} y_{k-1} + p_{12} u_{k-1} y_{k-2} \\\\ & +\n",
    "  p_{13} u_{k-2} y_{k-1} + p_{14} u_{k-2} y_{k-2} + p_{15} y_{k-1} y_{k-2}\n",
    "\\end{split}\n",
    "$$\n",
    "\n",
    "which corresponds to a NARX model with $n_a = n_b = m = 2$ and $\\theta = 0$;\n",
    "$[p_1 \\dots p_{15}]$ form the parameter vector ($\\Theta$) to identify."
   ]
  }
 ],
 "metadata": {
  "language_info": {
   "name": "python"
  }
 },
 "nbformat": 4,
 "nbformat_minor": 2
}
