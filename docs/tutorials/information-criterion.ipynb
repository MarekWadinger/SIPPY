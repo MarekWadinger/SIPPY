{
 "cells": [
  {
   "cell_type": "markdown",
   "metadata": {},
   "source": [
    "# Using Information Criterion\n",
    "\n",
    "By using an Information Criterion (IC), the user does not need to define the exact model orders, but he has to assign a **range of orders** and let the IC find the best combination of orders.\n",
    "\n",
    "When an input-output model structure of linear or nonlinear type is selected, the information criteria are possible only for SISO systems."
   ]
  }
 ],
 "metadata": {
  "language_info": {
   "name": "python"
  }
 },
 "nbformat": 4,
 "nbformat_minor": 2
}
