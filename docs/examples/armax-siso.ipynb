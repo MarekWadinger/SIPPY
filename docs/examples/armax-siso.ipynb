{
 "cells": [
  {
   "cell_type": "markdown",
   "metadata": {},
   "source": [
    "# ARMAX Example\n",
    "\n",
    "This notebook demonstrates the ARMAX model identification and validation process."
   ]
  },
  {
   "cell_type": "code",
   "execution_count": 1,
   "metadata": {
    "execution": {
     "iopub.execute_input": "2025-06-11T06:27:02.942828Z",
     "iopub.status.busy": "2025-06-11T06:27:02.942699Z",
     "iopub.status.idle": "2025-06-11T06:27:03.574151Z",
     "shell.execute_reply": "2025-06-11T06:27:03.573881Z"
    }
   },
   "outputs": [],
   "source": [
    "import numpy as np\n",
    "from control import frequency_response\n",
    "from control.timeresp import step_response\n",
    "from sklearn.metrics import explained_variance_score, root_mean_squared_error\n",
    "from sklearn.pipeline import Pipeline\n",
    "\n",
    "from sippy_unipi.datasets import load_sample_siso\n",
    "from sippy_unipi.io import ARMAX\n",
    "from sippy_unipi.plot import (\n",
    "    plot_bode,\n",
    "    plot_response,\n",
    "    plot_responses,\n",
    ")\n",
    "from sippy_unipi.preprocessing import StandardScaler\n",
    "\n",
    "seed = 0\n",
    "np.random.seed(seed)\n",
    "\n",
    "# Enable automatic reloading of modules when they change\n",
    "%load_ext autoreload\n",
    "%autoreload 2"
   ]
  },
  {
   "cell_type": "markdown",
   "metadata": {},
   "source": [
    "## Load Sample Data"
   ]
  },
  {
   "cell_type": "code",
   "execution_count": null,
   "metadata": {
    "execution": {
     "iopub.execute_input": "2025-06-11T06:27:03.575408Z",
     "iopub.status.busy": "2025-06-11T06:27:03.575288Z",
     "iopub.status.idle": "2025-06-11T06:27:03.769996Z",
     "shell.execute_reply": "2025-06-11T06:27:03.769786Z"
    }
   },
   "outputs": [],
   "source": [
    "ylegends = [\"System\", \"ARMAX-I\", \"ARMAX-0\", \"ARMAX-R\"]\n",
    "n_samples = 401\n",
    "ts = 1\n",
    "time, Ysim, Usim, g_sys, Yerr, Uerr, h_sys, Ytot, Utot = load_sample_siso(\n",
    "    n_samples, ts, seed=0\n",
    ")\n",
    "\n",
    "fig = plot_responses(\n",
    "    time,\n",
    "    [Usim, Uerr, Utot],\n",
    "    [Ysim, Yerr, Ytot],\n",
    "    [\"u\", \"e\", [\"u\", \"e\"]],\n",
    ")"
   ]
  },
  {
   "cell_type": "markdown",
   "metadata": {},
   "source": [
    "## System Identification"
   ]
  },
  {
   "cell_type": "code",
   "execution_count": 3,
   "metadata": {
    "execution": {
     "iopub.execute_input": "2025-06-11T06:27:03.784131Z",
     "iopub.status.busy": "2025-06-11T06:27:03.784043Z",
     "iopub.status.idle": "2025-06-11T06:27:03.794052Z",
     "shell.execute_reply": "2025-06-11T06:27:03.793808Z"
    }
   },
   "outputs": [],
   "source": [
    "na = 4\n",
    "nb = 3\n",
    "nc = 2\n",
    "th = 11\n",
    "\n",
    "models = [\n",
    "    Pipeline(\n",
    "        [\n",
    "            (\"scaler\", StandardScaler()),\n",
    "            (\"model\", ARMAX(na, nb, nc, th, ts, method=\"ills\")),\n",
    "        ]\n",
    "    ),\n",
    "    Pipeline(\n",
    "        [\n",
    "            (\"scaler\", StandardScaler()),\n",
    "            (\"model\", ARMAX(na, nb, nc, th, ts, method=\"opt\")),\n",
    "        ]\n",
    "    ),\n",
    "    Pipeline(\n",
    "        [\n",
    "            (\"scaler\", StandardScaler()),\n",
    "            (\"model\", ARMAX(na, nb, nc, th, ts, method=\"rlls\")),\n",
    "        ]\n",
    "    ),\n",
    "]"
   ]
  },
  {
   "cell_type": "code",
   "execution_count": 14,
   "metadata": {
    "execution": {
     "iopub.execute_input": "2025-06-11T06:27:03.795071Z",
     "iopub.status.busy": "2025-06-11T06:27:03.794997Z",
     "iopub.status.idle": "2025-06-11T06:27:03.927690Z",
     "shell.execute_reply": "2025-06-11T06:27:03.927418Z"
    }
   },
   "outputs": [],
   "source": [
    "Ys_pred = [Ytot]\n",
    "for model in models:\n",
    "    model.fit(Usim.reshape(-1, 1), Ytot.reshape(-1, 1))\n",
    "    Ys_pred.append(model.predict(Utot.reshape(-1, 1)))"
   ]
  },
  {
   "cell_type": "markdown",
   "metadata": {},
   "source": [
    "## Check Consistency of the Identified System"
   ]
  },
  {
   "cell_type": "code",
   "execution_count": null,
   "metadata": {
    "execution": {
     "iopub.execute_input": "2025-06-11T06:27:03.928883Z",
     "iopub.status.busy": "2025-06-11T06:27:03.928817Z",
     "iopub.status.idle": "2025-06-11T06:27:03.997698Z",
     "shell.execute_reply": "2025-06-11T06:27:03.997479Z"
    }
   },
   "outputs": [],
   "source": [
    "fig = plot_response(\n",
    "    time,\n",
    "    Ys_pred,\n",
    "    Usim,\n",
    "    legends=[ylegends, [\"U\"]],\n",
    "    titles=[\n",
    "        \"Output (identification data)\",\n",
    "        \"Input, identification data (Switch probability=0.08)\",\n",
    "    ],\n",
    ")"
   ]
  },
  {
   "cell_type": "markdown",
   "metadata": {},
   "source": [
    "## Validation of the Identified System"
   ]
  },
  {
   "cell_type": "code",
   "execution_count": 16,
   "metadata": {
    "execution": {
     "iopub.execute_input": "2025-06-11T06:27:03.999071Z",
     "iopub.status.busy": "2025-06-11T06:27:03.999000Z",
     "iopub.status.idle": "2025-06-11T06:27:04.017019Z",
     "shell.execute_reply": "2025-06-11T06:27:04.016772Z"
    }
   },
   "outputs": [],
   "source": [
    "time, Ysimval, Usimval, g_sys, Yerrval, Uerrval, h_sys, Yval, Uval = (\n",
    "    load_sample_siso(\n",
    "        n_samples, ts, input_range=(0.5, 1.5), switch_probability=0.07, seed=0\n",
    "    )\n",
    ")\n",
    "\n",
    "Ysv_pred = [Yval]\n",
    "scores = {\"rmse\": [], \"ev\": []}\n",
    "for model_fitted in models:\n",
    "    Y_pred = model_fitted.predict(Uval)\n",
    "    scores[\"rmse\"].append(root_mean_squared_error(Yval, Y_pred))\n",
    "    scores[\"ev\"].append(explained_variance_score(Yval, Y_pred))\n",
    "    Ysv_pred.append(Y_pred)"
   ]
  },
  {
   "cell_type": "code",
   "execution_count": null,
   "metadata": {
    "execution": {
     "iopub.execute_input": "2025-06-11T06:27:04.017965Z",
     "iopub.status.busy": "2025-06-11T06:27:04.017905Z",
     "iopub.status.idle": "2025-06-11T06:27:04.026438Z",
     "shell.execute_reply": "2025-06-11T06:27:04.026266Z"
    }
   },
   "outputs": [],
   "source": [
    "# Print scores in a formatted table\n",
    "print(\"Model Performance Metrics:\")\n",
    "print(\"-\" * 50)\n",
    "print(f\"{'Model':<20} {'RMSE':<10} {'Explained Variance':<20}\")\n",
    "print(\"-\" * 50)\n",
    "\n",
    "for i, model_name in enumerate(ylegends):\n",
    "    if i == 0:  # Skip the first one which is the actual data\n",
    "        continue\n",
    "    rmse_value = scores[\"rmse\"][i - 1]\n",
    "    ev_value = scores[\"ev\"][i - 1]\n",
    "    print(f\"{model_name:<20} {rmse_value:<10.4f} {ev_value:<20.4f}\")\n",
    "print(\"-\" * 50)\n"
   ]
  },
  {
   "cell_type": "code",
   "execution_count": null,
   "metadata": {
    "execution": {
     "iopub.execute_input": "2025-06-11T06:27:04.027314Z",
     "iopub.status.busy": "2025-06-11T06:27:04.027262Z",
     "iopub.status.idle": "2025-06-11T06:27:04.113519Z",
     "shell.execute_reply": "2025-06-11T06:27:04.113163Z"
    }
   },
   "outputs": [],
   "source": [
    "fig = plot_response(\n",
    "    time,\n",
    "    Ysv_pred,\n",
    "    Uval,\n",
    "    legends=[ylegends, [\"U\"]],\n",
    "    titles=[\n",
    "        \"Output (identification data)\",\n",
    "        \"Input, identification data (Switch probability=0.07)\",\n",
    "    ],\n",
    ")"
   ]
  },
  {
   "cell_type": "markdown",
   "metadata": {},
   "source": [
    "## Step Tests"
   ]
  },
  {
   "cell_type": "code",
   "execution_count": null,
   "metadata": {
    "execution": {
     "iopub.execute_input": "2025-06-11T06:27:04.114624Z",
     "iopub.status.busy": "2025-06-11T06:27:04.114546Z",
     "iopub.status.idle": "2025-06-11T06:27:04.547704Z",
     "shell.execute_reply": "2025-06-11T06:27:04.547487Z"
    }
   },
   "outputs": [],
   "source": [
    "W_V = np.logspace(-3, 4, num=701)\n",
    "for tf in [\"G_\", \"H_\"]:\n",
    "    syss_tfs = [locals()[f\"{tf.lower()}sys\"]] + [\n",
    "        getattr(model.steps[-1][1], tf) for model in models\n",
    "    ]\n",
    "    mags, fis, oms = zip(*[frequency_response(sys, W_V) for sys in syss_tfs])\n",
    "\n",
    "    fig = plot_bode(\n",
    "        oms[0],\n",
    "        mags,\n",
    "        fis,\n",
    "        ylegends,\n",
    "    )"
   ]
  },
  {
   "cell_type": "code",
   "execution_count": null,
   "metadata": {
    "execution": {
     "iopub.execute_input": "2025-06-11T06:27:04.548745Z",
     "iopub.status.busy": "2025-06-11T06:27:04.548670Z",
     "iopub.status.idle": "2025-06-11T06:27:04.614685Z",
     "shell.execute_reply": "2025-06-11T06:27:04.614492Z"
    }
   },
   "outputs": [],
   "source": [
    "systems = [g_sys] + [model.steps[-1][1].G_ for model in models]\n",
    "_, ys = zip(*[step_response(sys, time) for sys in systems])\n",
    "\n",
    "fig = plot_response(\n",
    "    time,\n",
    "    ys,\n",
    "    np.ones_like(time),\n",
    "    legends=[ylegends, [\"U\"]],\n",
    "    titles=[\"Step Response G(z)\", None],\n",
    ")"
   ]
  }
 ],
 "metadata": {
  "kernelspec": {
   "display_name": ".venv",
   "language": "python",
   "name": "python3"
  },
  "language_info": {
   "codemirror_mode": {
    "name": "ipython",
    "version": 3
   },
   "file_extension": ".py",
   "mimetype": "text/x-python",
   "name": "python",
   "nbconvert_exporter": "python",
   "pygments_lexer": "ipython3",
   "version": "3.12.10"
  }
 },
 "nbformat": 4,
 "nbformat_minor": 2
}
