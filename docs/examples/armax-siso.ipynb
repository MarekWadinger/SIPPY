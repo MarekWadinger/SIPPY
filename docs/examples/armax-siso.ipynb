{
 "cells": [
  {
   "cell_type": "markdown",
   "metadata": {},
   "source": [
    "# ARMAX Example\n",
    "\n",
    "This notebook demonstrates the ARMAX model identification and validation process."
   ]
  },
  {
   "cell_type": "code",
   "execution_count": 1,
   "metadata": {
    "execution": {
     "iopub.execute_input": "2025-05-29T14:25:49.726106Z",
     "iopub.status.busy": "2025-05-29T14:25:49.725830Z",
     "iopub.status.idle": "2025-05-29T14:25:50.358968Z",
     "shell.execute_reply": "2025-05-29T14:25:50.358710Z"
    }
   },
   "outputs": [],
   "source": [
    "import numpy as np\n",
    "from control import frequency_response\n",
    "from control.timeresp import step_response\n",
    "from sklearn.metrics import explained_variance_score, root_mean_squared_error\n",
    "from sklearn.pipeline import Pipeline\n",
    "\n",
    "from sippy_unipi.datasets import load_sample_siso\n",
    "from sippy_unipi.io import ARMAX\n",
    "from sippy_unipi.plot import (\n",
    "    plot_bode,\n",
    "    plot_response,\n",
    "    plot_responses,\n",
    ")\n",
    "from sippy_unipi.preprocessing import StandardScaler\n",
    "\n",
    "seed = 0\n",
    "np.random.seed(seed)\n",
    "\n",
    "# Enable automatic reloading of modules when they change\n",
    "%load_ext autoreload\n",
    "%autoreload 2"
   ]
  },
  {
   "cell_type": "markdown",
   "metadata": {},
   "source": [
    "## Load Sample Data"
   ]
  },
  {
   "cell_type": "code",
   "execution_count": null,
   "metadata": {
    "execution": {
     "iopub.execute_input": "2025-05-29T14:25:50.360298Z",
     "iopub.status.busy": "2025-05-29T14:25:50.360179Z",
     "iopub.status.idle": "2025-05-29T14:25:50.549949Z",
     "shell.execute_reply": "2025-05-29T14:25:50.549715Z"
    }
   },
   "outputs": [],
   "source": [
    "ylegends = [\"System\", \"ARMAX-I\", \"ARMAX-0\", \"ARMAX-R\"]\n",
    "n_samples = 401\n",
    "ts = 1\n",
    "time, Ysim, Usim, g_sys, Yerr, Uerr, h_sys, Ytot, Utot = load_sample_siso(\n",
    "    n_samples, ts, seed=0\n",
    ")\n",
    "\n",
    "fig = plot_responses(\n",
    "    time,\n",
    "    [Usim, Uerr, Utot],\n",
    "    [Ysim, Yerr, Ytot],\n",
    "    [\"u\", \"e\", [\"u\", \"e\"]],\n",
    ")"
   ]
  },
  {
   "cell_type": "markdown",
   "metadata": {},
   "source": [
    "## System Identification"
   ]
  },
  {
   "cell_type": "code",
   "execution_count": 3,
   "metadata": {
    "execution": {
     "iopub.execute_input": "2025-05-29T14:25:50.564358Z",
     "iopub.status.busy": "2025-05-29T14:25:50.564272Z",
     "iopub.status.idle": "2025-05-29T14:25:50.574369Z",
     "shell.execute_reply": "2025-05-29T14:25:50.574120Z"
    }
   },
   "outputs": [],
   "source": [
    "na = 4\n",
    "nb = 3\n",
    "nc = 2\n",
    "th = 11\n",
    "\n",
    "models = [\n",
    "    Pipeline(\n",
    "        [\n",
    "            (\"scaler\", StandardScaler()),\n",
    "            (\"model\", ARMAX(na, nb, nc, th, ts, method=\"ills\")),\n",
    "        ]\n",
    "    ),\n",
    "    Pipeline(\n",
    "        [\n",
    "            (\"scaler\", StandardScaler()),\n",
    "            (\"model\", ARMAX(na, nb, nc, th, ts, method=\"opt\")),\n",
    "        ]\n",
    "    ),\n",
    "    Pipeline(\n",
    "        [\n",
    "            (\"scaler\", StandardScaler()),\n",
    "            (\"model\", ARMAX(na, nb, nc, th, ts, method=\"rlls\")),\n",
    "        ]\n",
    "    ),\n",
    "]"
   ]
  },
  {
   "cell_type": "code",
   "execution_count": 4,
   "metadata": {
    "execution": {
     "iopub.execute_input": "2025-05-29T14:25:50.575397Z",
     "iopub.status.busy": "2025-05-29T14:25:50.575331Z",
     "iopub.status.idle": "2025-05-29T14:25:50.688738Z",
     "shell.execute_reply": "2025-05-29T14:25:50.688474Z"
    }
   },
   "outputs": [],
   "source": [
    "Ys_pred = []\n",
    "for model in models:\n",
    "    model.fit(Usim.reshape(-1, 1), Ytot.reshape(-1, 1))\n",
    "    Ys_pred.append(model.predict(Usim.reshape(-1, 1)))"
   ]
  },
  {
   "cell_type": "markdown",
   "metadata": {},
   "source": [
    "## Check Consistency of the Identified System"
   ]
  },
  {
   "cell_type": "code",
   "execution_count": null,
   "metadata": {
    "execution": {
     "iopub.execute_input": "2025-05-29T14:25:50.689970Z",
     "iopub.status.busy": "2025-05-29T14:25:50.689868Z",
     "iopub.status.idle": "2025-05-29T14:25:50.759429Z",
     "shell.execute_reply": "2025-05-29T14:25:50.759216Z"
    }
   },
   "outputs": [],
   "source": [
    "fig = plot_response(\n",
    "    time,\n",
    "    Ys_pred,\n",
    "    Usim,\n",
    "    legends=[ylegends, [\"U\"]],\n",
    "    titles=[\n",
    "        \"Output (identification data)\",\n",
    "        \"Input, identification data (Switch probability=0.08)\",\n",
    "    ],\n",
    ")"
   ]
  },
  {
   "cell_type": "markdown",
   "metadata": {},
   "source": [
    "## Validation of the Identified System"
   ]
  },
  {
   "cell_type": "code",
   "execution_count": 6,
   "metadata": {
    "execution": {
     "iopub.execute_input": "2025-05-29T14:25:50.760848Z",
     "iopub.status.busy": "2025-05-29T14:25:50.760777Z",
     "iopub.status.idle": "2025-05-29T14:25:50.778732Z",
     "shell.execute_reply": "2025-05-29T14:25:50.778468Z"
    }
   },
   "outputs": [],
   "source": [
    "time, Ysimval, Usimval, g_sys, Yerrval, Uerrval, h_sys, Yval, Uval = (\n",
    "    load_sample_siso(\n",
    "        n_samples, ts, input_range=(0.5, 1.5), switch_probability=0.07, seed=0\n",
    "    )\n",
    ")\n",
    "\n",
    "Ysv_pred = [Yval]\n",
    "scores = {\"rmse\": [], \"ev\": []}\n",
    "for model_fitted in models:\n",
    "    Y_pred = model_fitted.predict(Uval)\n",
    "    scores[\"rmse\"].append(root_mean_squared_error(Yval, Y_pred))\n",
    "    scores[\"ev\"].append(explained_variance_score(Yval, Y_pred))\n",
    "    Ysv_pred.append(Y_pred)"
   ]
  },
  {
   "cell_type": "code",
   "execution_count": null,
   "metadata": {
    "execution": {
     "iopub.execute_input": "2025-05-29T14:25:50.779804Z",
     "iopub.status.busy": "2025-05-29T14:25:50.779740Z",
     "iopub.status.idle": "2025-05-29T14:25:50.788957Z",
     "shell.execute_reply": "2025-05-29T14:25:50.788794Z"
    }
   },
   "outputs": [],
   "source": [
    "# Print scores in a formatted table\n",
    "print(\"Model Performance Metrics:\")\n",
    "print(\"-\" * 50)\n",
    "print(f\"{'Model':<20} {'RMSE':<10} {'Explained Variance':<20}\")\n",
    "print(\"-\" * 50)\n",
    "\n",
    "for i, model_name in enumerate(ylegends):\n",
    "    if i == 0:  # Skip the first one which is the actual data\n",
    "        continue\n",
    "    rmse_value = scores[\"rmse\"][i - 1]\n",
    "    ev_value = scores[\"ev\"][i - 1]\n",
    "    print(f\"{model_name:<20} {rmse_value:<10.4f} {ev_value:<20.4f}\")\n",
    "print(\"-\" * 50)\n"
   ]
  },
  {
   "cell_type": "code",
   "execution_count": null,
   "metadata": {
    "execution": {
     "iopub.execute_input": "2025-05-29T14:25:50.789841Z",
     "iopub.status.busy": "2025-05-29T14:25:50.789783Z",
     "iopub.status.idle": "2025-05-29T14:25:50.861144Z",
     "shell.execute_reply": "2025-05-29T14:25:50.860933Z"
    }
   },
   "outputs": [],
   "source": [
    "fig = plot_response(\n",
    "    time,\n",
    "    Ysv_pred,\n",
    "    Uval,\n",
    "    legends=[ylegends, [\"U\"]],\n",
    "    titles=[\n",
    "        \"Output (identification data)\",\n",
    "        \"Input, identification data (Switch probability=0.07)\",\n",
    "    ],\n",
    ")"
   ]
  },
  {
   "cell_type": "markdown",
   "metadata": {},
   "source": [
    "## Step Tests"
   ]
  },
  {
   "cell_type": "code",
   "execution_count": null,
   "metadata": {
    "execution": {
     "iopub.execute_input": "2025-05-29T14:25:50.862153Z",
     "iopub.status.busy": "2025-05-29T14:25:50.862094Z",
     "iopub.status.idle": "2025-05-29T14:25:51.289638Z",
     "shell.execute_reply": "2025-05-29T14:25:51.289428Z"
    }
   },
   "outputs": [],
   "source": [
    "W_V = np.logspace(-3, 4, num=701)\n",
    "for tf in [\"G_\", \"H_\"]:\n",
    "    syss_tfs = [\n",
    "        locals()[f\"{tf.lower()}sys\"],\n",
    "        getattr(model_fitted.steps[-1][1], tf),\n",
    "    ]\n",
    "    mags, fis, oms = zip(*[frequency_response(sys, W_V) for sys in syss_tfs])\n",
    "\n",
    "    fig = plot_bode(\n",
    "        oms[0],\n",
    "        mags,\n",
    "        fis,\n",
    "        [\"system\"],\n",
    "    )"
   ]
  },
  {
   "cell_type": "code",
   "execution_count": null,
   "metadata": {
    "execution": {
     "iopub.execute_input": "2025-05-29T14:25:51.290696Z",
     "iopub.status.busy": "2025-05-29T14:25:51.290621Z",
     "iopub.status.idle": "2025-05-29T14:25:51.357018Z",
     "shell.execute_reply": "2025-05-29T14:25:51.356823Z"
    }
   },
   "outputs": [],
   "source": [
    "systems = [g_sys] + [model.steps[-1][1].G_ for model in models]\n",
    "_, ys = zip(*[step_response(sys, time) for sys in systems])\n",
    "\n",
    "fig = plot_response(\n",
    "    time,\n",
    "    ys,\n",
    "    np.ones_like(time),\n",
    "    legends=[ylegends, [\"U\"]],\n",
    "    titles=[\"Step Response G(z)\", None],\n",
    ")"
   ]
  },
  {
   "cell_type": "code",
   "execution_count": null,
   "metadata": {
    "execution": {
     "iopub.execute_input": "2025-05-29T14:25:51.358017Z",
     "iopub.status.busy": "2025-05-29T14:25:51.357952Z",
     "iopub.status.idle": "2025-05-29T14:25:51.426323Z",
     "shell.execute_reply": "2025-05-29T14:25:51.426130Z"
    }
   },
   "outputs": [],
   "source": [
    "systems = [h_sys] + [model.steps[-1][1].H_ for model in models]\n",
    "ys, _ = zip(*[cnt.step(sys, time) for sys in systems])\n",
    "\n",
    "fig = plot_response(\n",
    "    time,\n",
    "    ys,\n",
    "    np.ones_like(time),\n",
    "    legends=[ylegends, [\"U\"]],\n",
    "    titles=[\"Step Response G(z)\", None],\n",
    ")"
   ]
  }
 ],
 "metadata": {
  "kernelspec": {
   "display_name": ".venv",
   "language": "python",
   "name": "python3"
  },
  "language_info": {
   "codemirror_mode": {
    "name": "ipython",
    "version": 3
   },
   "file_extension": ".py",
   "mimetype": "text/x-python",
   "name": "python",
   "nbconvert_exporter": "python",
   "pygments_lexer": "ipython3",
   "version": "3.12.10"
  }
 },
 "nbformat": 4,
 "nbformat_minor": 2
}
