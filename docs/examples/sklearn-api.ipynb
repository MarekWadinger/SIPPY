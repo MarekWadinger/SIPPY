{
 "cells": [
  {
   "cell_type": "code",
   "execution_count": 1,
   "metadata": {},
   "outputs": [],
   "source": [
    "import numpy as np\n",
    "from sklearn.model_selection import GridSearchCV\n",
    "from sklearn.utils.estimator_checks import (\n",
    "    check_estimator,\n",
    ")\n",
    "\n",
    "from sippy_unipi.datasets import gen_gbn_seq, white_noise\n",
    "from sippy_unipi.io import ARMAX, ARX, BJ, FIR, GEN\n",
    "from sippy_unipi.model_selection import aic_scorer\n",
    "from sippy_unipi.ss import (\n",
    "    CVA,\n",
    "    MOESP,\n",
    "    N4SID,\n",
    "    ParsimK,\n",
    "    ParsimP,\n",
    "    ParsimS,\n",
    "    SSModel,\n",
    ")\n",
    "\n",
    "# Enable automatic reloading of modules when they change\n",
    "%load_ext autoreload\n",
    "%autoreload 2"
   ]
  },
  {
   "cell_type": "code",
   "execution_count": 2,
   "metadata": {},
   "outputs": [],
   "source": [
    "# Sample time\n",
    "ts = 1.0\n",
    "\n",
    "# SISO SS system (n = 2)\n",
    "A = np.array([[0.89, 0.0], [0.0, 0.45]])\n",
    "B = np.array([[0.3], [2.5]])\n",
    "C = np.array([[0.7, 1.0]])\n",
    "D = np.array([[0.0]])\n",
    "\n",
    "sys_true = SSModel._from_state(A, B, C, D)\n",
    "tfin = 500\n",
    "npts = int(tfin // ts) + 1\n",
    "Time = np.linspace(0, tfin, npts)"
   ]
  },
  {
   "cell_type": "code",
   "execution_count": null,
   "metadata": {},
   "outputs": [],
   "source": [
    "# Input sequence\n",
    "U = np.zeros((1, npts))\n",
    "U[0] = gen_gbn_seq(npts, 0.05)\n",
    "\n",
    "# Output\n",
    "yout = sys_true.predict(U.T)\n",
    "\n",
    "# Measurement noise\n",
    "noise = white_noise(0.15, (npts,)).T\n",
    "\n",
    "# Output with noise\n",
    "y_tot = yout + noise\n",
    "\n",
    "U = U.T\n",
    "U.shape, y_tot.shape"
   ]
  },
  {
   "cell_type": "code",
   "execution_count": null,
   "metadata": {},
   "outputs": [],
   "source": [
    "estimators = [\n",
    "    ARMAX(),\n",
    "    ARX(),\n",
    "    FIR(),\n",
    "    # ARMA(),\n",
    "    # OE(),\n",
    "    BJ(),\n",
    "    GEN(),\n",
    "    ParsimK(),\n",
    "    ParsimP(),\n",
    "    ParsimS(),\n",
    "    CVA(),\n",
    "    N4SID(),\n",
    "    MOESP(),\n",
    "]\n",
    "expected_failed_checks = {\n",
    "    \"check_methods_sample_order_invariance\": \"The methods are not order invariant\",\n",
    "    \"check_methods_subset_invariance\": \"The methods are not subset invariant\",\n",
    "}\n",
    "for estimator in estimators:\n",
    "    try:\n",
    "        check_estimator(\n",
    "            estimator,\n",
    "            expected_failed_checks=expected_failed_checks,\n",
    "        )\n",
    "    except Exception as e:\n",
    "        print(f\"Error checking {estimator.__class__.__name__}: {e}\")\n",
    "        raise e\n"
   ]
  },
  {
   "cell_type": "code",
   "execution_count": null,
   "metadata": {},
   "outputs": [],
   "source": [
    "parsim = ARMAX()\n",
    "parsim_search = GridSearchCV(\n",
    "    parsim,\n",
    "    {\"na\": [1, 2, 3, 4, 5]},\n",
    "    scoring=aic_scorer,\n",
    ")\n",
    "parsim_search.fit(U.reshape(-1, 1), y_tot.reshape(-1, 1))"
   ]
  }
 ],
 "metadata": {
  "kernelspec": {
   "display_name": ".venv",
   "language": "python",
   "name": "python3"
  },
  "language_info": {
   "codemirror_mode": {
    "name": "ipython",
    "version": 3
   },
   "file_extension": ".py",
   "mimetype": "text/x-python",
   "name": "python",
   "nbconvert_exporter": "python",
   "pygments_lexer": "ipython3",
   "version": "3.12.10"
  }
 },
 "nbformat": 4,
 "nbformat_minor": 2
}
