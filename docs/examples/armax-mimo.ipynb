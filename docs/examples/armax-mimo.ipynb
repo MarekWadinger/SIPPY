{
 "cells": [
  {
   "cell_type": "markdown",
   "metadata": {},
   "source": [
    "# ARMAX MIMO Example\n",
    "\n",
    "Example ARMAX MIMO case with 3 outputs and 4 inputs."
   ]
  },
  {
   "cell_type": "code",
   "execution_count": 1,
   "metadata": {
    "execution": {
     "iopub.execute_input": "2025-05-29T14:30:07.527180Z",
     "iopub.status.busy": "2025-05-29T14:30:07.527060Z",
     "iopub.status.idle": "2025-05-29T14:30:08.307601Z",
     "shell.execute_reply": "2025-05-29T14:30:08.307371Z"
    }
   },
   "outputs": [],
   "source": [
    "import numpy as np\n",
    "from sklearn.pipeline import Pipeline\n",
    "\n",
    "from sippy_unipi.datasets import load_sample_mimo\n",
    "from sippy_unipi.io import ARMAX\n",
    "from sippy_unipi.plot import plot_comparison\n",
    "from sippy_unipi.preprocessing import StandardScaler\n",
    "\n",
    "seed = 0\n",
    "np.random.seed(seed)\n",
    "\n",
    "%load_ext autoreload\n",
    "%autoreload 2"
   ]
  },
  {
   "cell_type": "code",
   "execution_count": 2,
   "metadata": {
    "execution": {
     "iopub.execute_input": "2025-05-29T14:30:08.308842Z",
     "iopub.status.busy": "2025-05-29T14:30:08.308716Z",
     "iopub.status.idle": "2025-05-29T14:30:08.361501Z",
     "shell.execute_reply": "2025-05-29T14:30:08.361207Z"
    }
   },
   "outputs": [],
   "source": [
    "n_samples = 401\n",
    "ts = 1\n",
    "time, Ysim, Usim, g_sys, Yerr, Uerr, h_sys, Ytot, Utot = load_sample_mimo(\n",
    "    n_samples, ts, seed=seed\n",
    ")"
   ]
  },
  {
   "cell_type": "markdown",
   "metadata": {},
   "source": [
    "### Identification Parameters"
   ]
  },
  {
   "cell_type": "code",
   "execution_count": 3,
   "metadata": {
    "execution": {
     "iopub.execute_input": "2025-05-29T14:30:08.362776Z",
     "iopub.status.busy": "2025-05-29T14:30:08.362705Z",
     "iopub.status.idle": "2025-05-29T14:30:08.373177Z",
     "shell.execute_reply": "2025-05-29T14:30:08.372917Z"
    }
   },
   "outputs": [],
   "source": [
    "na = [3, 1, 2]\n",
    "nb = [[2, 1, 3, 2], [3, 2, 1, 1], [1, 2, 1, 2]]\n",
    "nc = [2, 2, 3]\n",
    "th = [[1, 2, 2, 1], [1, 2, 0, 0], [0, 1, 0, 2]]\n",
    "\n",
    "models = [\n",
    "    Pipeline(\n",
    "        [\n",
    "            (\"scaler\", StandardScaler()),\n",
    "            (\"model\", ARMAX(na, nb, nc, th, ts, method=\"ills\")),\n",
    "        ]\n",
    "    ),\n",
    "    Pipeline(\n",
    "        [\n",
    "            (\"scaler\", StandardScaler()),\n",
    "            (\"model\", ARMAX(na, nb, nc, th, ts, method=\"opt\")),\n",
    "        ]\n",
    "    ),\n",
    "    Pipeline(\n",
    "        [\n",
    "            (\"scaler\", StandardScaler()),\n",
    "            (\"model\", ARMAX(na, nb, nc, th, ts, method=\"rlls\")),\n",
    "        ]\n",
    "    ),\n",
    "]"
   ]
  },
  {
   "cell_type": "code",
   "execution_count": null,
   "metadata": {
    "execution": {
     "iopub.execute_input": "2025-05-29T14:30:08.374311Z",
     "iopub.status.busy": "2025-05-29T14:30:08.374236Z",
     "iopub.status.idle": "2025-05-29T14:30:09.768081Z",
     "shell.execute_reply": "2025-05-29T14:30:09.767841Z"
    }
   },
   "outputs": [],
   "source": [
    "Ys_pred = []\n",
    "for model in models:\n",
    "    model.fit(Usim, Ytot)\n",
    "    Ys_pred.append(model.predict(Utot))"
   ]
  },
  {
   "cell_type": "markdown",
   "metadata": {},
   "source": [
    "### Plot Identification Results"
   ]
  },
  {
   "cell_type": "code",
   "execution_count": null,
   "metadata": {
    "execution": {
     "iopub.execute_input": "2025-05-29T14:30:09.769242Z",
     "iopub.status.busy": "2025-05-29T14:30:09.769168Z",
     "iopub.status.idle": "2025-05-29T14:30:09.996132Z",
     "shell.execute_reply": "2025-05-29T14:30:09.995924Z"
    }
   },
   "outputs": [],
   "source": [
    "fig = plot_comparison(\n",
    "    time,\n",
    "    [Ytot] + Ys_pred,\n",
    "    ylabels=[f\"$y_{i}$\" for i in range(3)],\n",
    "    legend=[\"System\", \"ARMAX-I\", \"ARMAX-O\", \"ARMAX-R\"],\n",
    "    title=\"Output (identification data)\",\n",
    ")\n",
    "\n",
    "fig = plot_comparison(\n",
    "    time,\n",
    "    Usim,\n",
    "    [r\"$u_\\mathrm{GBN, \" + str(i) + \"}$\" for i in range(Usim.shape[1])],\n",
    "    title=\"Input (Switch probability=0.03) (identification data)\",\n",
    ")"
   ]
  },
  {
   "cell_type": "markdown",
   "metadata": {},
   "source": [
    "### Validation Stage"
   ]
  },
  {
   "cell_type": "code",
   "execution_count": null,
   "metadata": {
    "execution": {
     "iopub.execute_input": "2025-05-29T14:30:09.997188Z",
     "iopub.status.busy": "2025-05-29T14:30:09.997100Z",
     "iopub.status.idle": "2025-05-29T14:30:10.067387Z",
     "shell.execute_reply": "2025-05-29T14:30:10.067174Z"
    }
   },
   "outputs": [],
   "source": [
    "time, Ysimval, Usimval, g_sys, Yerrval, Uerrval, h_sys, Yval, Uval = (\n",
    "    load_sample_mimo(\n",
    "        n_samples,\n",
    "        ts,\n",
    "        input_ranges=[(0.33, 0.7), (-2.0, -1.0), (1.3, 2.7), (1.0, 5.2)],\n",
    "        seed=seed,\n",
    "    )\n",
    ")\n",
    "\n",
    "Ysv_pred = []\n",
    "for model_fitted in models:\n",
    "    Ysv_pred.append(model_fitted.predict(Uval))"
   ]
  },
  {
   "cell_type": "markdown",
   "metadata": {},
   "source": [
    "### Plot Validation Results"
   ]
  },
  {
   "cell_type": "code",
   "execution_count": null,
   "metadata": {
    "execution": {
     "iopub.execute_input": "2025-05-29T14:30:10.068489Z",
     "iopub.status.busy": "2025-05-29T14:30:10.068421Z",
     "iopub.status.idle": "2025-05-29T14:30:10.231153Z",
     "shell.execute_reply": "2025-05-29T14:30:10.230967Z"
    }
   },
   "outputs": [],
   "source": [
    "fig = plot_comparison(\n",
    "    time,\n",
    "    [Yval] + Ysv_pred,\n",
    "    ylabels=[f\"$y_{i}$\" for i in range(Yval.shape[1])],\n",
    "    legend=[\"System\", \"ARMAX-I\", \"ARMAX-O\", \"ARMAX-R\"],\n",
    "    title=\"Output (validation data)\",\n",
    ")\n",
    "\n",
    "fig = plot_comparison(\n",
    "    time,\n",
    "    Usimval,\n",
    "    [r\"$u_\\mathrm{GBN, \" + str(i) + \"}$\" for i in range(Usimval.shape[1])],\n",
    "    title=\"Input (Switch probability=0.03) (validation data)\",\n",
    ")"
   ]
  }
 ],
 "metadata": {
  "kernelspec": {
   "display_name": ".venv",
   "language": "python",
   "name": "python3"
  },
  "language_info": {
   "codemirror_mode": {
    "name": "ipython",
    "version": 3
   },
   "file_extension": ".py",
   "mimetype": "text/x-python",
   "name": "python",
   "nbconvert_exporter": "python",
   "pygments_lexer": "ipython3",
   "version": "3.12.10"
  }
 },
 "nbformat": 4,
 "nbformat_minor": 2
}
