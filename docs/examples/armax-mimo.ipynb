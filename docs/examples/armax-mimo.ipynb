{
 "cells": [
  {
   "cell_type": "markdown",
   "metadata": {},
   "source": [
    "# ARMAX MIMO Example\n",
    "\n",
    "Example ARMAX MIMO case with 3 outputs and 4 inputs."
   ]
  },
  {
   "cell_type": "code",
   "execution_count": 1,
   "metadata": {
    "execution": {
     "iopub.execute_input": "2025-06-11T10:56:39.173311Z",
     "iopub.status.busy": "2025-06-11T10:56:39.173063Z",
     "iopub.status.idle": "2025-06-11T10:56:39.840776Z",
     "shell.execute_reply": "2025-06-11T10:56:39.840542Z"
    }
   },
   "outputs": [],
   "source": [
    "import numpy as np\n",
    "from sklearn.compose import TransformedTargetRegressor\n",
    "from sklearn.pipeline import Pipeline\n",
    "\n",
    "from sippy_unipi.datasets import load_sample_mimo\n",
    "from sippy_unipi.io import ARMAX\n",
    "from sippy_unipi.plot import plot_comparison\n",
    "from sippy_unipi.preprocessing import StandardScaler\n",
    "\n",
    "seed = 0\n",
    "np.random.seed(seed)\n",
    "\n",
    "%load_ext autoreload\n",
    "%autoreload 2"
   ]
  },
  {
   "cell_type": "code",
   "execution_count": 2,
   "metadata": {
    "execution": {
     "iopub.execute_input": "2025-06-11T10:56:39.842099Z",
     "iopub.status.busy": "2025-06-11T10:56:39.841982Z",
     "iopub.status.idle": "2025-06-11T10:56:39.902134Z",
     "shell.execute_reply": "2025-06-11T10:56:39.901848Z"
    }
   },
   "outputs": [],
   "source": [
    "n_samples = 401\n",
    "ts = 1\n",
    "time, Ysim, Usim, g_sys, Yerr, Uerr, h_sys, Ytot, Utot = load_sample_mimo(\n",
    "    n_samples, ts, seed=seed\n",
    ")"
   ]
  },
  {
   "cell_type": "markdown",
   "metadata": {},
   "source": [
    "### Identification Parameters"
   ]
  },
  {
   "cell_type": "code",
   "execution_count": 3,
   "metadata": {
    "execution": {
     "iopub.execute_input": "2025-06-11T10:56:39.903407Z",
     "iopub.status.busy": "2025-06-11T10:56:39.903326Z",
     "iopub.status.idle": "2025-06-11T10:56:39.914871Z",
     "shell.execute_reply": "2025-06-11T10:56:39.914653Z"
    }
   },
   "outputs": [],
   "source": [
    "na = [3, 1, 2]\n",
    "nb = [[2, 1, 3, 2], [3, 2, 1, 1], [1, 2, 1, 2]]\n",
    "nc = [2, 2, 3]\n",
    "th = [[1, 2, 2, 1], [1, 2, 0, 0], [0, 1, 0, 2]]\n",
    "\n",
    "models = [\n",
    "    Pipeline(\n",
    "        [\n",
    "            (\"scaler\", StandardScaler(with_std=False)),\n",
    "            (\n",
    "                \"model\",\n",
    "                TransformedTargetRegressor(\n",
    "                    ARMAX(na, nb, nc, th, ts, method=\"ills\"),\n",
    "                    transformer=StandardScaler(with_std=False),\n",
    "                ),\n",
    "            ),\n",
    "        ]\n",
    "    ),\n",
    "    Pipeline(\n",
    "        [\n",
    "            (\"scaler\", StandardScaler(with_std=False)),\n",
    "            (\n",
    "                \"model\",\n",
    "                TransformedTargetRegressor(\n",
    "                    ARMAX(na, nb, nc, th, ts, method=\"opt\"),\n",
    "                    transformer=StandardScaler(with_std=False),\n",
    "                ),\n",
    "            ),\n",
    "        ]\n",
    "    ),\n",
    "    Pipeline(\n",
    "        [\n",
    "            (\"scaler\", StandardScaler(with_std=False)),\n",
    "            (\n",
    "                \"model\",\n",
    "                TransformedTargetRegressor(\n",
    "                    ARMAX(na, nb, nc, th, ts, method=\"rlls\"),\n",
    "                    transformer=StandardScaler(with_std=False),\n",
    "                ),\n",
    "            ),\n",
    "        ]\n",
    "    ),\n",
    "]"
   ]
  },
  {
   "cell_type": "code",
   "execution_count": 4,
   "metadata": {
    "execution": {
     "iopub.execute_input": "2025-06-11T10:56:39.915992Z",
     "iopub.status.busy": "2025-06-11T10:56:39.915919Z",
     "iopub.status.idle": "2025-06-11T10:56:40.371197Z",
     "shell.execute_reply": "2025-06-11T10:56:40.370953Z"
    }
   },
   "outputs": [],
   "source": [
    "Ys_pred = []\n",
    "for model in models:\n",
    "    model.fit(Utot, Ytot)\n",
    "    Ys_pred.append(model.predict(Utot))"
   ]
  },
  {
   "cell_type": "markdown",
   "metadata": {},
   "source": [
    "### Plot Identification Results"
   ]
  },
  {
   "cell_type": "code",
   "execution_count": null,
   "metadata": {
    "execution": {
     "iopub.execute_input": "2025-06-11T10:56:40.372428Z",
     "iopub.status.busy": "2025-06-11T10:56:40.372357Z",
     "iopub.status.idle": "2025-06-11T10:56:40.599289Z",
     "shell.execute_reply": "2025-06-11T10:56:40.599051Z"
    }
   },
   "outputs": [],
   "source": [
    "fig = plot_comparison(\n",
    "    time,\n",
    "    [Ytot] + Ys_pred,\n",
    "    ylabels=[f\"$y_{i}$\" for i in range(3)],\n",
    "    legend=[\"System\", \"ARMAX-I\", \"ARMAX-O\", \"ARMAX-R\"],\n",
    "    title=\"Output (identification data)\",\n",
    ")\n",
    "\n",
    "fig = plot_comparison(\n",
    "    time,\n",
    "    Usim,\n",
    "    [r\"$u_\\mathrm{GBN, \" + str(i) + \"}$\" for i in range(Usim.shape[1])],\n",
    "    title=\"Input (Switch probability=0.03) (identification data)\",\n",
    ")"
   ]
  },
  {
   "cell_type": "markdown",
   "metadata": {},
   "source": [
    "### Validation Stage"
   ]
  },
  {
   "cell_type": "code",
   "execution_count": 6,
   "metadata": {
    "execution": {
     "iopub.execute_input": "2025-06-11T10:56:40.600707Z",
     "iopub.status.busy": "2025-06-11T10:56:40.600642Z",
     "iopub.status.idle": "2025-06-11T10:56:40.679001Z",
     "shell.execute_reply": "2025-06-11T10:56:40.678771Z"
    }
   },
   "outputs": [],
   "source": [
    "time, Ysimval, Usimval, g_sys, Yerrval, Uerrval, h_sys, Yval, Uval = (\n",
    "    load_sample_mimo(\n",
    "        n_samples,\n",
    "        ts,\n",
    "        input_ranges=[(0.33, 0.7), (-2.0, -1.0), (1.3, 2.7), (1.0, 5.2)],\n",
    "        seed=seed,\n",
    "    )\n",
    ")\n",
    "\n",
    "Ysv_pred = []\n",
    "for model_fitted in models:\n",
    "    Ysv_pred.append(model_fitted.predict(Uval))"
   ]
  },
  {
   "cell_type": "markdown",
   "metadata": {},
   "source": [
    "### Plot Validation Results"
   ]
  },
  {
   "cell_type": "code",
   "execution_count": null,
   "metadata": {
    "execution": {
     "iopub.execute_input": "2025-06-11T10:56:40.680216Z",
     "iopub.status.busy": "2025-06-11T10:56:40.680149Z",
     "iopub.status.idle": "2025-06-11T10:56:40.878322Z",
     "shell.execute_reply": "2025-06-11T10:56:40.878105Z"
    }
   },
   "outputs": [],
   "source": [
    "fig = plot_comparison(\n",
    "    time,\n",
    "    [Yval] + Ysv_pred,\n",
    "    ylabels=[f\"$y_{i}$\" for i in range(Yval.shape[1])],\n",
    "    legend=[\"System\", \"ARMAX-I\", \"ARMAX-O\", \"ARMAX-R\"],\n",
    "    title=\"Output (validation data)\",\n",
    ")\n",
    "\n",
    "fig = plot_comparison(\n",
    "    time,\n",
    "    Usimval,\n",
    "    [r\"$u_\\mathrm{GBN, \" + str(i) + \"}$\" for i in range(Usimval.shape[1])],\n",
    "    title=\"Input (Switch probability=0.03) (validation data)\",\n",
    ")"
   ]
  }
 ],
 "metadata": {
  "kernelspec": {
   "display_name": ".venv",
   "language": "python",
   "name": "python3"
  },
  "language_info": {
   "codemirror_mode": {
    "name": "ipython",
    "version": 3
   },
   "file_extension": ".py",
   "mimetype": "text/x-python",
   "name": "python",
   "nbconvert_exporter": "python",
   "pygments_lexer": "ipython3",
   "version": "3.12.10"
  }
 },
 "nbformat": 4,
 "nbformat_minor": 2
}
