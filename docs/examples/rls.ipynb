{
 "cells": [
  {
   "cell_type": "markdown",
   "metadata": {},
   "source": [
    "## Recursive Least Squares"
   ]
  },
  {
   "cell_type": "code",
   "execution_count": 1,
   "metadata": {
    "execution": {
     "iopub.execute_input": "2025-06-11T10:56:55.797743Z",
     "iopub.status.busy": "2025-06-11T10:56:55.797495Z",
     "iopub.status.idle": "2025-06-11T10:56:56.453308Z",
     "shell.execute_reply": "2025-06-11T10:56:56.453084Z"
    }
   },
   "outputs": [],
   "source": [
    "import numpy as np\n",
    "from sklearn.compose import TransformedTargetRegressor\n",
    "from sklearn.metrics import explained_variance_score, root_mean_squared_error\n",
    "from sklearn.pipeline import Pipeline\n",
    "\n",
    "from sippy_unipi.datasets import load_sample_siso\n",
    "from sippy_unipi.io import ARARMAX, ARARX, ARMA, BJ, GEN, OE\n",
    "from sippy_unipi.plot import (\n",
    "    plot_comparison,\n",
    "    plot_responses,\n",
    ")\n",
    "from sippy_unipi.preprocessing import StandardScaler\n",
    "\n",
    "np.random.seed(0)\n",
    "ylegends = [\"System\", \"ARMA\", \"ARARX\", \"ARARMAX\", \"OE\", \"BJ\", \"GEN\"]\n",
    "\n",
    "# Enable automatic reloading of modules when they change\n",
    "%load_ext autoreload\n",
    "%autoreload 2"
   ]
  },
  {
   "cell_type": "code",
   "execution_count": null,
   "metadata": {
    "execution": {
     "iopub.execute_input": "2025-06-11T10:56:56.454564Z",
     "iopub.status.busy": "2025-06-11T10:56:56.454462Z",
     "iopub.status.idle": "2025-06-11T10:56:56.649401Z",
     "shell.execute_reply": "2025-06-11T10:56:56.649184Z"
    }
   },
   "outputs": [],
   "source": [
    "# Load sample data\n",
    "n_samples = 401\n",
    "ts = 1.0\n",
    "time, Ysim, Usim, g_sys, Yerr, Uerr, h_sys, Ytot, Utot = load_sample_siso(\n",
    "    n_samples, ts, seed=0\n",
    ")\n",
    "\n",
    "# Plot input and output responses\n",
    "fig = plot_responses(\n",
    "    time,\n",
    "    [Usim, Uerr, Utot],\n",
    "    [Ysim, Yerr, Ytot],\n",
    "    [\"u\", \"e\", [\"u\", \"e\"]],\n",
    ")"
   ]
  },
  {
   "cell_type": "code",
   "execution_count": 3,
   "metadata": {
    "execution": {
     "iopub.execute_input": "2025-06-11T10:56:56.665552Z",
     "iopub.status.busy": "2025-06-11T10:56:56.665431Z",
     "iopub.status.idle": "2025-06-11T10:56:56.677540Z",
     "shell.execute_reply": "2025-06-11T10:56:56.677296Z"
    }
   },
   "outputs": [],
   "source": [
    "na = 2\n",
    "nb = 3\n",
    "nc = 2\n",
    "nd = 3\n",
    "nf = 4\n",
    "theta = 11\n",
    "kwargs = dict(stab_cons=False, method=\"rlls\")\n",
    "models = [\n",
    "    ARMA(na, nc, theta, **kwargs),\n",
    "    ARARX(na, nb, nd, theta, **kwargs),\n",
    "    ARARMAX(na, nb, nc, nd, theta, **kwargs),\n",
    "    OE(nb, nf, theta, **kwargs),\n",
    "    BJ(nb, nc, nd, nf, theta, **kwargs),\n",
    "    GEN(na, nb, nc, nd, nf, theta, **kwargs),\n",
    "]"
   ]
  },
  {
   "cell_type": "code",
   "execution_count": 4,
   "metadata": {
    "execution": {
     "iopub.execute_input": "2025-06-11T10:56:56.678700Z",
     "iopub.status.busy": "2025-06-11T10:56:56.678634Z",
     "iopub.status.idle": "2025-06-11T10:56:56.738939Z",
     "shell.execute_reply": "2025-06-11T10:56:56.738678Z"
    }
   },
   "outputs": [],
   "source": [
    "ys = [Ytot]\n",
    "scores = {\"rmse\": [], \"ev\": []}\n",
    "fitted_models = []\n",
    "for model in models:\n",
    "    sys = Pipeline(\n",
    "        [\n",
    "            (\"scaler\", StandardScaler(with_mean=False)),\n",
    "            (\n",
    "                \"model\",\n",
    "                TransformedTargetRegressor(\n",
    "                    model, transformer=StandardScaler(with_mean=False)\n",
    "                ),\n",
    "            ),\n",
    "        ]\n",
    "    )\n",
    "    sys.fit(Utot.reshape(-1, 1), Ytot.reshape(-1, 1))\n",
    "    fitted_models.append(sys)\n",
    "    Y_pred = sys.predict(Utot.reshape(-1, 1))\n",
    "    scores[\"rmse\"].append(root_mean_squared_error(Ytot, Y_pred))\n",
    "    scores[\"ev\"].append(explained_variance_score(Ytot, Y_pred))\n",
    "    ys.append(Y_pred)"
   ]
  },
  {
   "cell_type": "code",
   "execution_count": null,
   "metadata": {
    "execution": {
     "iopub.execute_input": "2025-06-11T10:56:56.740131Z",
     "iopub.status.busy": "2025-06-11T10:56:56.740055Z",
     "iopub.status.idle": "2025-06-11T10:56:56.750913Z",
     "shell.execute_reply": "2025-06-11T10:56:56.750731Z"
    }
   },
   "outputs": [],
   "source": [
    "# Print scores in a formatted table\n",
    "print(\"Model Performance Metrics:\")\n",
    "print(\"-\" * 50)\n",
    "print(f\"{'Model':<20} {'RMSE':<10} {'Explained Variance':<20}\")\n",
    "print(\"-\" * 50)\n",
    "\n",
    "for i, model_name in enumerate(ylegends):\n",
    "    if i == 0:  # Skip the first one which is the actual data\n",
    "        continue\n",
    "    rmse_value = scores[\"rmse\"][i - 1]\n",
    "    ev_value = scores[\"ev\"][i - 1]\n",
    "    print(f\"{model_name:<20} {rmse_value:<10.4f} {ev_value:<20.4f}\")\n",
    "print(\"-\" * 50)\n"
   ]
  },
  {
   "cell_type": "code",
   "execution_count": null,
   "metadata": {
    "execution": {
     "iopub.execute_input": "2025-06-11T10:56:56.751844Z",
     "iopub.status.busy": "2025-06-11T10:56:56.751781Z",
     "iopub.status.idle": "2025-06-11T10:56:56.861251Z",
     "shell.execute_reply": "2025-06-11T10:56:56.861048Z"
    }
   },
   "outputs": [],
   "source": [
    "fig = plot_comparison(\n",
    "    time,\n",
    "    Utot,\n",
    "    [r\"$u_\\mathrm{GBN, \" + str(i) + \"}$\" for i in range(Utot.shape[1])],\n",
    "    title=\"Input (Switch probability=0.03) (validation data)\",\n",
    ")\n",
    "\n",
    "fig = plot_comparison(\n",
    "    time,\n",
    "    ys,\n",
    "    ylabels=[f\"$y_{i}$\" for i in range(3)],\n",
    "    legend=[\"System\"] + [model.__class__.__name__ for model in models],\n",
    "    title=\"Output (validation data)\",\n",
    ")"
   ]
  }
 ],
 "metadata": {
  "kernelspec": {
   "display_name": ".venv",
   "language": "python",
   "name": "python3"
  },
  "language_info": {
   "codemirror_mode": {
    "name": "ipython",
    "version": 3
   },
   "file_extension": ".py",
   "mimetype": "text/x-python",
   "name": "python",
   "nbconvert_exporter": "python",
   "pygments_lexer": "ipython3",
   "version": "3.12.10"
  }
 },
 "nbformat": 4,
 "nbformat_minor": 2
}
