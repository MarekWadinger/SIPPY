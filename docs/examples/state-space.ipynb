{
 "cells": [
  {
   "cell_type": "markdown",
   "metadata": {},
   "source": [
    "## State-Space System Identification Example\n",
    "This notebook demonstrates state-space system identification using various methods."
   ]
  },
  {
   "cell_type": "code",
   "execution_count": 1,
   "metadata": {
    "execution": {
     "iopub.execute_input": "2025-06-11T10:56:58.181442Z",
     "iopub.status.busy": "2025-06-11T10:56:58.181158Z",
     "iopub.status.idle": "2025-06-11T10:56:58.796755Z",
     "shell.execute_reply": "2025-06-11T10:56:58.796499Z"
    }
   },
   "outputs": [],
   "source": [
    "# Importing required libraries\n",
    "import numpy as np\n",
    "from sklearn.model_selection import GridSearchCV, TimeSeriesSplit\n",
    "from sklearn.neural_network import MLPRegressor\n",
    "from sklearn.pipeline import Pipeline\n",
    "\n",
    "from sippy_unipi.datasets import gen_gbn_seq, white_noise\n",
    "from sippy_unipi.model_selection import aic_scorer\n",
    "from sippy_unipi.plot import plot_response\n",
    "from sippy_unipi.preprocessing import StandardScaler\n",
    "from sippy_unipi.ss import (\n",
    "    CVA,\n",
    "    MOESP,\n",
    "    N4SID,\n",
    "    ParsimK,\n",
    "    ParsimP,\n",
    "    ParsimS,\n",
    "    SSModel,\n",
    ")\n",
    "\n",
    "# Enable automatic reloading of modules when they change\n",
    "%load_ext autoreload\n",
    "%autoreload 2\n",
    "\n",
    "seed = 0\n",
    "np.random.seed(seed)"
   ]
  },
  {
   "cell_type": "markdown",
   "metadata": {},
   "source": [
    "### Define System Parameters"
   ]
  },
  {
   "cell_type": "code",
   "execution_count": 2,
   "metadata": {
    "execution": {
     "iopub.execute_input": "2025-06-11T10:56:58.798048Z",
     "iopub.status.busy": "2025-06-11T10:56:58.797945Z",
     "iopub.status.idle": "2025-06-11T10:56:58.806689Z",
     "shell.execute_reply": "2025-06-11T10:56:58.806490Z"
    }
   },
   "outputs": [],
   "source": [
    "# Sample time\n",
    "ts = 1.0\n",
    "\n",
    "# SISO SS system (n = 2)\n",
    "A = np.array([[0.89, 0.0], [0.0, 0.45]])\n",
    "B = np.array([[0.3], [2.5]])\n",
    "C = np.array([[0.7, 1.0]])\n",
    "D = np.array([[0.0]])\n",
    "\n",
    "sys_true = SSModel._from_state(A, B, C, D)\n",
    "tfin = 500\n",
    "npts = int(tfin // ts) + 1\n",
    "time = np.linspace(0, tfin, npts)"
   ]
  },
  {
   "cell_type": "markdown",
   "metadata": {},
   "source": [
    "### Generate Input Sequence and System Output"
   ]
  },
  {
   "cell_type": "code",
   "execution_count": 3,
   "metadata": {
    "execution": {
     "iopub.execute_input": "2025-06-11T10:56:58.807742Z",
     "iopub.status.busy": "2025-06-11T10:56:58.807684Z",
     "iopub.status.idle": "2025-06-11T10:56:58.817988Z",
     "shell.execute_reply": "2025-06-11T10:56:58.817758Z"
    }
   },
   "outputs": [],
   "source": [
    "# Input sequence\n",
    "switch_prob = 0.05\n",
    "U = gen_gbn_seq(npts, switch_prob).reshape(-1, 1)\n",
    "\n",
    "# Output\n",
    "Y = sys_true.predict(U) + white_noise(0.15, (npts, 1))"
   ]
  },
  {
   "cell_type": "markdown",
   "metadata": {},
   "source": [
    "### Plot Input and Output"
   ]
  },
  {
   "cell_type": "code",
   "execution_count": null,
   "metadata": {
    "execution": {
     "iopub.execute_input": "2025-06-11T10:56:58.818925Z",
     "iopub.status.busy": "2025-06-11T10:56:58.818866Z",
     "iopub.status.idle": "2025-06-11T10:56:58.959683Z",
     "shell.execute_reply": "2025-06-11T10:56:58.958890Z"
    }
   },
   "outputs": [],
   "source": [
    "methods = [\n",
    "    MLPRegressor(),\n",
    "    ParsimK(),\n",
    "    ParsimP(),\n",
    "    ParsimS(),\n",
    "    CVA(),\n",
    "    MOESP(),\n",
    "    N4SID(),\n",
    "]\n",
    "\n",
    "Ys_pred: list[np.ndarray | tuple] = [Y]\n",
    "for method in methods:\n",
    "    method: SSModel\n",
    "    sys = Pipeline(\n",
    "        [\n",
    "            (\"scaler\", StandardScaler(with_mean=False)),\n",
    "            (\"model\", method),\n",
    "        ]\n",
    "    )\n",
    "    sys = sys.fit(U, Y)\n",
    "    Ys_pred.append(sys.predict(U))"
   ]
  },
  {
   "cell_type": "code",
   "execution_count": null,
   "metadata": {
    "execution": {
     "iopub.execute_input": "2025-06-11T10:56:58.980666Z",
     "iopub.status.busy": "2025-06-11T10:56:58.980416Z",
     "iopub.status.idle": "2025-06-11T10:56:59.196656Z",
     "shell.execute_reply": "2025-06-11T10:56:59.196419Z"
    }
   },
   "outputs": [],
   "source": [
    "fig = plot_response(\n",
    "    time,\n",
    "    Ys_pred,\n",
    "    U,\n",
    "    legends=[\n",
    "        [\"system\"] + [method.__class__.__name__ for method in methods],\n",
    "        [\"U\"],\n",
    "    ],\n",
    "    titles=[\n",
    "        \"Output (identification data)\",\n",
    "        f\"Input, identification data (Switch probability={switch_prob})\",\n",
    "    ],\n",
    ")"
   ]
  },
  {
   "cell_type": "code",
   "execution_count": null,
   "metadata": {
    "execution": {
     "iopub.execute_input": "2025-06-11T10:56:59.198067Z",
     "iopub.status.busy": "2025-06-11T10:56:59.197974Z",
     "iopub.status.idle": "2025-06-11T10:56:59.995131Z",
     "shell.execute_reply": "2025-06-11T10:56:59.994900Z"
    }
   },
   "outputs": [],
   "source": [
    "methods = [\n",
    "    ParsimK(),\n",
    "    ParsimP(),\n",
    "    ParsimS(),\n",
    "    CVA(),\n",
    "    MOESP(),\n",
    "    N4SID(),\n",
    "]\n",
    "\n",
    "Ys_pred: list[np.ndarray | tuple] = [Y]\n",
    "for method in methods:\n",
    "    method: SSModel\n",
    "    sys = Pipeline(\n",
    "        [\n",
    "            (\"scaler\", StandardScaler(with_mean=False)),\n",
    "            (\"model\", method),\n",
    "        ]\n",
    "    )\n",
    "    sys_search = GridSearchCV(\n",
    "        sys,\n",
    "        param_grid={\n",
    "            \"model__order\": (5,),\n",
    "            \"model__f\": (15, 20),\n",
    "            \"model__threshold\": (0.01, 0.02, 0.05, 0.1),\n",
    "        },\n",
    "        cv=TimeSeriesSplit(n_splits=2),  # Time series cross-validation\n",
    "        scoring=aic_scorer,\n",
    "        refit=True,\n",
    "        verbose=1,\n",
    "    )\n",
    "    sys_search = sys_search.fit(U, Y)\n",
    "    Ys_pred.append(sys_search.predict(U))"
   ]
  },
  {
   "cell_type": "code",
   "execution_count": null,
   "metadata": {
    "execution": {
     "iopub.execute_input": "2025-06-11T10:56:59.996198Z",
     "iopub.status.busy": "2025-06-11T10:56:59.996113Z",
     "iopub.status.idle": "2025-06-11T10:57:00.079801Z",
     "shell.execute_reply": "2025-06-11T10:57:00.079513Z"
    }
   },
   "outputs": [],
   "source": [
    "fig = plot_response(\n",
    "    time,\n",
    "    Ys_pred,\n",
    "    U,\n",
    "    legends=[\n",
    "        [\"system\"] + [method.__class__.__name__ for method in methods],\n",
    "        [\"U\"],\n",
    "    ],\n",
    "    titles=[\n",
    "        \"Output (identification data)\",\n",
    "        f\"Input, identification data (Switch probability={switch_prob})\",\n",
    "    ],\n",
    ")"
   ]
  }
 ],
 "metadata": {
  "kernelspec": {
   "display_name": ".venv",
   "language": "python",
   "name": "python3"
  },
  "language_info": {
   "codemirror_mode": {
    "name": "ipython",
    "version": 3
   },
   "file_extension": ".py",
   "mimetype": "text/x-python",
   "name": "python",
   "nbconvert_exporter": "python",
   "pygments_lexer": "ipython3",
   "version": "3.12.10"
  }
 },
 "nbformat": 4,
 "nbformat_minor": 2
}
