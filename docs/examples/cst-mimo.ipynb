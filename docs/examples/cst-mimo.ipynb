{
 "cells": [
  {
   "cell_type": "markdown",
   "metadata": {},
   "source": [
    "# CST example\n",
    "\n",
    "A Continuous Stirred Tank to be identified from input-output data"
   ]
  },
  {
   "cell_type": "code",
   "execution_count": 1,
   "metadata": {
    "execution": {
     "iopub.execute_input": "2025-06-11T10:56:44.557784Z",
     "iopub.status.busy": "2025-06-11T10:56:44.557440Z",
     "iopub.status.idle": "2025-06-11T10:56:45.216384Z",
     "shell.execute_reply": "2025-06-11T10:56:45.216160Z"
    }
   },
   "outputs": [],
   "source": [
    "import numpy as np\n",
    "from sklearn.compose import TransformedTargetRegressor\n",
    "from sklearn.pipeline import Pipeline\n",
    "\n",
    "from sippy_unipi.datasets import gen_rw_seq, generate_inputs, white_noise\n",
    "from sippy_unipi.io import ARMAX, ARX, BJ, GEN, OE\n",
    "from sippy_unipi.plot import plot_comparison\n",
    "from sippy_unipi.preprocessing import StandardScaler\n",
    "from sippy_unipi.ss import ParsimK\n",
    "\n",
    "seed = 0\n",
    "np.random.seed(seed)\n",
    "\n",
    "%load_ext autoreload\n",
    "%autoreload 2"
   ]
  },
  {
   "cell_type": "code",
   "execution_count": 2,
   "metadata": {
    "execution": {
     "iopub.execute_input": "2025-06-11T10:56:45.217591Z",
     "iopub.status.busy": "2025-06-11T10:56:45.217491Z",
     "iopub.status.idle": "2025-06-11T10:56:45.226802Z",
     "shell.execute_reply": "2025-06-11T10:56:45.226609Z"
    }
   },
   "outputs": [],
   "source": [
    "ts = 1.0  # [min]\n",
    "t_end = 1000\n",
    "n_samples = int(t_end // ts) + 1\n",
    "time = np.linspace(0, t_end, n_samples)"
   ]
  },
  {
   "cell_type": "markdown",
   "metadata": {},
   "source": [
    "## Data"
   ]
  },
  {
   "cell_type": "markdown",
   "metadata": {},
   "source": [
    "## 4 Inputs\n",
    "\n",
    "### Manipulated Variables\n",
    "- Input Flow rate $ F_{in} $ [$ m^3/min $]\n",
    "- Steam Flow rate $ W $ [$ kg/min $]\n",
    "\n",
    "### Disturbances\n",
    "- Input Concentration $ C_{a,in} $ [$ kg $ salt/$ m^3 $ solution]\n",
    "- Input Temperature $ T_{in} $ [$ °C $]\n",
    "\n",
    "Where $ U = [F, W, C_{a,in}, T_{in}] $"
   ]
  },
  {
   "cell_type": "code",
   "execution_count": 3,
   "metadata": {
    "execution": {
     "iopub.execute_input": "2025-06-11T10:56:45.227985Z",
     "iopub.status.busy": "2025-06-11T10:56:45.227905Z",
     "iopub.status.idle": "2025-06-11T10:56:45.236217Z",
     "shell.execute_reply": "2025-06-11T10:56:45.235954Z"
    }
   },
   "outputs": [],
   "source": [
    "n_inputs = 4"
   ]
  },
  {
   "cell_type": "markdown",
   "metadata": {},
   "source": [
    "## 2 Outputs\n",
    "\n",
    "### Output Variables\n",
    "- Output Concentration $ C_a $ [$ kg $ salt/$ m^3 $ solution]  ($ C_a = C_{a,out} $)\n",
    "- Output Temperature $ T $ [$ °C $]  ($ T = T_{out} $)\n",
    "\n",
    "Where $ X = [C_a, T] $"
   ]
  },
  {
   "cell_type": "code",
   "execution_count": 4,
   "metadata": {
    "execution": {
     "iopub.execute_input": "2025-06-11T10:56:45.237294Z",
     "iopub.status.busy": "2025-06-11T10:56:45.237238Z",
     "iopub.status.idle": "2025-06-11T10:56:45.245106Z",
     "shell.execute_reply": "2025-06-11T10:56:45.244885Z"
    }
   },
   "outputs": [],
   "source": [
    "n_outputs = 2"
   ]
  },
  {
   "cell_type": "markdown",
   "metadata": {},
   "source": [
    "Build input sequences"
   ]
  },
  {
   "cell_type": "code",
   "execution_count": 5,
   "metadata": {
    "execution": {
     "iopub.execute_input": "2025-06-11T10:56:45.246064Z",
     "iopub.status.busy": "2025-06-11T10:56:45.246011Z",
     "iopub.status.idle": "2025-06-11T10:56:45.254004Z",
     "shell.execute_reply": "2025-06-11T10:56:45.253778Z"
    }
   },
   "outputs": [],
   "source": [
    "U = np.zeros((n_samples, n_inputs))"
   ]
  },
  {
   "cell_type": "markdown",
   "metadata": {},
   "source": [
    "Manipulated inputs as Generalized Binary Noise (GBN)\n",
    "- Input Flow rate $F_{in} = F = U[0]$ [$m^3/min$]\n",
    "- Steam Flow rate $W = U[1]$ [$kg/min$]"
   ]
  },
  {
   "cell_type": "code",
   "execution_count": 6,
   "metadata": {
    "execution": {
     "iopub.execute_input": "2025-06-11T10:56:45.254969Z",
     "iopub.status.busy": "2025-06-11T10:56:45.254908Z",
     "iopub.status.idle": "2025-06-11T10:56:45.264580Z",
     "shell.execute_reply": "2025-06-11T10:56:45.264349Z"
    }
   },
   "outputs": [],
   "source": [
    "prob_switch = 0.05\n",
    "F_min = 0.4\n",
    "F_max = 0.6\n",
    "Range_GBN_1 = (F_min, F_max)\n",
    "W_min = 20\n",
    "W_max = 40\n",
    "Range_GBN_2 = (W_min, W_max)\n",
    "U[:, :2] = generate_inputs(\n",
    "    n_samples,\n",
    "    [Range_GBN_1, Range_GBN_2],\n",
    "    switch_probability=prob_switch,\n",
    "    seed=seed,\n",
    ")"
   ]
  },
  {
   "cell_type": "markdown",
   "metadata": {},
   "source": [
    "disturbance inputs as RW (random-walk)"
   ]
  },
  {
   "cell_type": "markdown",
   "metadata": {},
   "source": [
    "Input Concentration Ca_in = U[2]  [kg salt/m^3 solution]"
   ]
  },
  {
   "cell_type": "code",
   "execution_count": 7,
   "metadata": {
    "execution": {
     "iopub.execute_input": "2025-06-11T10:56:45.265578Z",
     "iopub.status.busy": "2025-06-11T10:56:45.265519Z",
     "iopub.status.idle": "2025-06-11T10:56:45.275183Z",
     "shell.execute_reply": "2025-06-11T10:56:45.274954Z"
    }
   },
   "outputs": [],
   "source": [
    "Ca_0 = 10.0  # initial condition\n",
    "sigma_Ca = 0.01  # variation\n",
    "U[:, 2] = gen_rw_seq(n_samples, Ca_0, sigma=sigma_Ca, seed=seed)\n",
    "# Input Temperature T_in            [°C]\n",
    "Tin_0 = 25.0  # initial condition\n",
    "sigma_T = 0.01  # variation\n",
    "U[:, 3] = gen_rw_seq(n_samples, Tin_0, sigma=sigma_T, seed=seed)"
   ]
  },
  {
   "cell_type": "markdown",
   "metadata": {},
   "source": [
    "## Simulation"
   ]
  },
  {
   "cell_type": "code",
   "execution_count": 8,
   "metadata": {
    "execution": {
     "iopub.execute_input": "2025-06-11T10:56:45.276135Z",
     "iopub.status.busy": "2025-06-11T10:56:45.276081Z",
     "iopub.status.idle": "2025-06-11T10:56:45.285997Z",
     "shell.execute_reply": "2025-06-11T10:56:45.285763Z"
    }
   },
   "outputs": [],
   "source": [
    "class ContinuousStirredTankReactor:\n",
    "    def __init__(self, dt=1, V=10.0, ro=1100.0, cp=4.180, Lam=2272.0):\n",
    "        \"\"\"Initialize the Continuous Stirred Tank Reactor model.\n",
    "\n",
    "        Args:\n",
    "            V (float): Tank volume [m^3]\n",
    "            ro (float): Solution density [kg/m^3]\n",
    "            cp (float): Specific heat [kJ/kg*K]\n",
    "            Lam (float): Latent heat [kJ/kg]\n",
    "        \"\"\"\n",
    "        self.dt = dt\n",
    "        self.V = V\n",
    "        self.ro = ro\n",
    "        self.cp = cp\n",
    "        self.Lam = Lam\n",
    "\n",
    "        self.n_inputs_ = 4\n",
    "        self.n_outputs_ = 2\n",
    "\n",
    "    def dynamics(self, x, u):\n",
    "        \"\"\"Model the dynamics of a continuous stirred tank reactor.\n",
    "\n",
    "        Implements the nonlinear system dynamics for a CSTR with constant volume.\n",
    "\n",
    "        Args:\n",
    "            x (np.ndarray): State vector [C_a, T]\n",
    "            u (np.ndarray): Input vector [F, W, C_a_in, T_in]\n",
    "\n",
    "        Returns:\n",
    "            dx/dt (np.ndarray): State derivative vector [dC_a/dt, dT/dt]\n",
    "        \"\"\"\n",
    "        C_a, T = x\n",
    "        F, W, C_a_in, T_in = u\n",
    "\n",
    "        # self.V is constant ---> perfect Level Control\n",
    "        # self.ro*F_in = self.ro*F_out = self.ro*F --> F = F_in = F_out at each instant\n",
    "\n",
    "        # Mass Balance on A\n",
    "        dx_0 = (C_a_in * F - C_a * F) / self.V\n",
    "\n",
    "        # Energy Balance\n",
    "        dx_1 = (\n",
    "            self.ro * self.cp * F * T_in\n",
    "            - self.ro * self.cp * F * T\n",
    "            + W * self.Lam\n",
    "        ) / (self.V * self.ro * self.cp)\n",
    "\n",
    "        dxdt = np.append(dx_0, dx_1)\n",
    "        return dxdt\n",
    "\n",
    "    def get_initial_state(self, u0: np.ndarray) -> np.ndarray:\n",
    "        \"\"\"Get the initial state of the CSTR.\n",
    "\n",
    "        Args:\n",
    "            u0 (np.ndarray): Input vector [F, W, C_a_in, T_in]\n",
    "\n",
    "        Returns:\n",
    "            np.ndarray: Initial state [C_a, T]\n",
    "        \"\"\"\n",
    "        F, W, C_a_in, T_in = u0\n",
    "        Ca_0 = C_a_in\n",
    "        Tout_0 = (self.ro * self.cp * F * T_in + W * self.Lam) / (\n",
    "            self.ro * self.cp * F\n",
    "        )\n",
    "        return np.array([Ca_0, Tout_0])\n",
    "\n",
    "    def predict(\n",
    "        self, U: np.ndarray, x0: np.ndarray | None = None\n",
    "    ) -> np.ndarray:\n",
    "        \"\"\"Predict the output of the CSTR.\n",
    "\n",
    "        Args:\n",
    "            U (np.ndarray): Input vector [F, W, C_a_in, T_in]\n",
    "\n",
    "        Returns:\n",
    "            np.ndarray: Output vector [C_a, T]\n",
    "        \"\"\"\n",
    "        X = np.zeros((n_samples, self.n_outputs_))\n",
    "        X[0] = self.get_initial_state(U[0]) if x0 is None else x0\n",
    "\n",
    "        for j in range(n_samples - 1):\n",
    "            # Explicit Runge-Kutta 4 (TC dynamics is integrateed by hand)\n",
    "            Mx = 5  # Number of elements in each time step\n",
    "            dt = ts / Mx  # integration step\n",
    "            # Output & Input\n",
    "            x_k = X[j, :]\n",
    "            u_k = U[j, :]\n",
    "\n",
    "            # Integrate the model\n",
    "            k1 = self.dynamics(x_k, u_k)\n",
    "            k2 = self.dynamics(x_k + dt / 2.0 * k1, u_k)\n",
    "            k3 = self.dynamics(x_k + dt / 2.0 * k2, u_k)\n",
    "            k4 = self.dynamics(x_k + dt * k3, u_k)\n",
    "            x_next = x_k + (dt / 6.0) * (k1 + 2.0 * k2 + 2.0 * k3 + k4)\n",
    "            X[j + 1, :] = x_next\n",
    "\n",
    "        return X\n"
   ]
  },
  {
   "cell_type": "markdown",
   "metadata": {},
   "source": [
    "## Run Simulation"
   ]
  },
  {
   "cell_type": "code",
   "execution_count": 9,
   "metadata": {
    "execution": {
     "iopub.execute_input": "2025-06-11T10:56:45.286910Z",
     "iopub.status.busy": "2025-06-11T10:56:45.286858Z",
     "iopub.status.idle": "2025-06-11T10:56:45.306499Z",
     "shell.execute_reply": "2025-06-11T10:56:45.306264Z"
    }
   },
   "outputs": [],
   "source": [
    "cstr = ContinuousStirredTankReactor()\n",
    "X = cstr.predict(U)"
   ]
  },
  {
   "cell_type": "markdown",
   "metadata": {},
   "source": [
    "Add noise (with assigned variances)"
   ]
  },
  {
   "cell_type": "code",
   "execution_count": 10,
   "metadata": {
    "execution": {
     "iopub.execute_input": "2025-06-11T10:56:45.307388Z",
     "iopub.status.busy": "2025-06-11T10:56:45.307338Z",
     "iopub.status.idle": "2025-06-11T10:56:45.315798Z",
     "shell.execute_reply": "2025-06-11T10:56:45.315553Z"
    }
   },
   "outputs": [],
   "source": [
    "var = 0.001\n",
    "noise = white_noise(var, (n_samples, 2), seed=seed)\n",
    "Y = X + noise"
   ]
  },
  {
   "cell_type": "markdown",
   "metadata": {},
   "source": [
    "## Identification Stage"
   ]
  },
  {
   "cell_type": "code",
   "execution_count": 11,
   "metadata": {
    "execution": {
     "iopub.execute_input": "2025-06-11T10:56:45.316832Z",
     "iopub.status.busy": "2025-06-11T10:56:45.316764Z",
     "iopub.status.idle": "2025-06-11T10:56:45.325563Z",
     "shell.execute_reply": "2025-06-11T10:56:45.325395Z"
    }
   },
   "outputs": [],
   "source": [
    "na = 2\n",
    "nb = [1, 1, 1, 1]\n",
    "nc = 1\n",
    "nd = 1\n",
    "nf = 2\n",
    "theta = [1, 1, 1, 1]\n",
    "# Number of iterations\n",
    "max_iter = 300\n",
    "stab_cons = False"
   ]
  },
  {
   "cell_type": "code",
   "execution_count": null,
   "metadata": {
    "execution": {
     "iopub.execute_input": "2025-06-11T10:56:45.326464Z",
     "iopub.status.busy": "2025-06-11T10:56:45.326407Z",
     "iopub.status.idle": "2025-06-11T10:56:49.887320Z",
     "shell.execute_reply": "2025-06-11T10:56:49.887043Z"
    }
   },
   "outputs": [],
   "source": [
    "models = [\n",
    "    ARX(\n",
    "        na,\n",
    "        nb,\n",
    "        theta,\n",
    "        max_iter=max_iter,\n",
    "        stab_cons=False,\n",
    "    ),\n",
    "    ARMAX(\n",
    "        na,\n",
    "        nb,\n",
    "        nc,\n",
    "        theta,\n",
    "        max_iter=max_iter,\n",
    "        stab_cons=False,\n",
    "    ),\n",
    "    OE(\n",
    "        nb,\n",
    "        nf,\n",
    "        theta,\n",
    "        max_iter=max_iter,\n",
    "        stab_cons=False,\n",
    "    ),\n",
    "    BJ(\n",
    "        nb=nb,\n",
    "        nc=nc,\n",
    "        nd=nd,\n",
    "        nf=nf,\n",
    "        max_iter=max_iter,\n",
    "        stab_cons=False,\n",
    "    ),\n",
    "    GEN(\n",
    "        na,\n",
    "        nb,\n",
    "        nc,\n",
    "        nd,\n",
    "        nf,\n",
    "        max_iter=max_iter,\n",
    "        stab_cons=False,\n",
    "    ),\n",
    "    ParsimK(2),\n",
    "]\n",
    "models = [\n",
    "    Pipeline(\n",
    "        [\n",
    "            (\"scaler\", StandardScaler(with_mean=True)),\n",
    "            (\n",
    "                \"model\",\n",
    "                TransformedTargetRegressor(\n",
    "                    model, transformer=StandardScaler(with_mean=True)\n",
    "                ),\n",
    "            ),\n",
    "        ]\n",
    "    )\n",
    "    for model in models\n",
    "]\n",
    "\n",
    "Ys = {\"Original\": Y}\n",
    "for model in models:\n",
    "    model.fit(U, Y)\n",
    "    Ys[model.steps[1][1].regressor_.__class__.__name__] = model.predict(U)"
   ]
  },
  {
   "cell_type": "markdown",
   "metadata": {},
   "source": [
    "## Plot"
   ]
  },
  {
   "cell_type": "markdown",
   "metadata": {},
   "source": [
    "Inputs"
   ]
  },
  {
   "cell_type": "code",
   "execution_count": null,
   "metadata": {
    "execution": {
     "iopub.execute_input": "2025-06-11T10:56:49.888659Z",
     "iopub.status.busy": "2025-06-11T10:56:49.888583Z",
     "iopub.status.idle": "2025-06-11T10:56:50.016371Z",
     "shell.execute_reply": "2025-06-11T10:56:50.016155Z"
    }
   },
   "outputs": [],
   "source": [
    "fig = plot_comparison(\n",
    "    time,\n",
    "    U,\n",
    "    [\n",
    "        \"$F [m^3/min]$\",\n",
    "        \"$W [kg/min]$\",\n",
    "        \"$C_{a_{in}} [kg/m^3]$\",\n",
    "        r\"$T_{in} [^\\circ{}C]$\",\n",
    "    ],\n",
    ")"
   ]
  },
  {
   "cell_type": "markdown",
   "metadata": {},
   "source": [
    "Outputs"
   ]
  },
  {
   "cell_type": "code",
   "execution_count": null,
   "metadata": {
    "execution": {
     "iopub.execute_input": "2025-06-11T10:56:50.028088Z",
     "iopub.status.busy": "2025-06-11T10:56:50.027983Z",
     "iopub.status.idle": "2025-06-11T10:56:50.105296Z",
     "shell.execute_reply": "2025-06-11T10:56:50.105097Z"
    }
   },
   "outputs": [],
   "source": [
    "fig = plot_comparison(\n",
    "    time,\n",
    "    list(Ys.values()),\n",
    "    [\"$Ca [kg/m^3]$\", r\"$T [^\\circ{}C]$\"],\n",
    "    legend=list(Ys.keys()),\n",
    ")"
   ]
  },
  {
   "cell_type": "markdown",
   "metadata": {},
   "source": [
    "## Validation"
   ]
  },
  {
   "cell_type": "code",
   "execution_count": 15,
   "metadata": {
    "execution": {
     "iopub.execute_input": "2025-06-11T10:56:50.106357Z",
     "iopub.status.busy": "2025-06-11T10:56:50.106285Z",
     "iopub.status.idle": "2025-06-11T10:56:50.115811Z",
     "shell.execute_reply": "2025-06-11T10:56:50.115632Z"
    }
   },
   "outputs": [],
   "source": [
    "U_val = np.zeros((n_samples, n_inputs))"
   ]
  },
  {
   "cell_type": "markdown",
   "metadata": {},
   "source": [
    "manipulated inputs as GBN<br>\n",
    "Input Flow rate Fin = F = U[0]    [m^3/min]"
   ]
  },
  {
   "cell_type": "code",
   "execution_count": 16,
   "metadata": {
    "execution": {
     "iopub.execute_input": "2025-06-11T10:56:50.116759Z",
     "iopub.status.busy": "2025-06-11T10:56:50.116702Z",
     "iopub.status.idle": "2025-06-11T10:56:50.126204Z",
     "shell.execute_reply": "2025-06-11T10:56:50.125978Z"
    }
   },
   "outputs": [],
   "source": [
    "U_val[:, :2] = generate_inputs(\n",
    "    n_samples,\n",
    "    [Range_GBN_1, Range_GBN_2],\n",
    "    switch_probability=prob_switch,\n",
    "    seed=seed,\n",
    ")"
   ]
  },
  {
   "cell_type": "markdown",
   "metadata": {},
   "source": [
    "disturbance inputs as RW (random-walk)<br>\n",
    "Input Concentration Ca_in = U[2]  [kg salt/m^3 solution]"
   ]
  },
  {
   "cell_type": "code",
   "execution_count": 17,
   "metadata": {
    "execution": {
     "iopub.execute_input": "2025-06-11T10:56:50.127162Z",
     "iopub.status.busy": "2025-06-11T10:56:50.127108Z",
     "iopub.status.idle": "2025-06-11T10:56:50.136914Z",
     "shell.execute_reply": "2025-06-11T10:56:50.136687Z"
    }
   },
   "outputs": [],
   "source": [
    "Ca_0 = 10.0  # initial condition\n",
    "sigma_Ca = 0.02  # variation\n",
    "U_val[:, 2] = gen_rw_seq(n_samples, Ca_0, sigma=sigma_Ca, seed=seed)\n",
    "# Input Temperature T_in            [°C]\n",
    "Tin_0 = 25.0  # initial condition\n",
    "sigma_T = 0.1  # variation\n",
    "U_val[:, 3] = gen_rw_seq(n_samples, Tin_0, sigma=sigma_T, seed=seed)"
   ]
  },
  {
   "cell_type": "markdown",
   "metadata": {},
   "source": [
    "COLLECT DATA"
   ]
  },
  {
   "cell_type": "code",
   "execution_count": 18,
   "metadata": {
    "execution": {
     "iopub.execute_input": "2025-06-11T10:56:50.137795Z",
     "iopub.status.busy": "2025-06-11T10:56:50.137741Z",
     "iopub.status.idle": "2025-06-11T10:56:50.158288Z",
     "shell.execute_reply": "2025-06-11T10:56:50.158064Z"
    }
   },
   "outputs": [],
   "source": [
    "cstr = ContinuousStirredTankReactor()\n",
    "X_val = cstr.predict(U_val)"
   ]
  },
  {
   "cell_type": "markdown",
   "metadata": {},
   "source": [
    "Add noise (with assigned variances)"
   ]
  },
  {
   "cell_type": "code",
   "execution_count": 19,
   "metadata": {
    "execution": {
     "iopub.execute_input": "2025-06-11T10:56:50.159134Z",
     "iopub.status.busy": "2025-06-11T10:56:50.159084Z",
     "iopub.status.idle": "2025-06-11T10:56:50.166704Z",
     "shell.execute_reply": "2025-06-11T10:56:50.166486Z"
    }
   },
   "outputs": [],
   "source": [
    "var = [0.01, 0.05]\n",
    "noise = white_noise(var, (n_samples, 2), seed=seed)\n",
    "Y_val = X_val + noise"
   ]
  },
  {
   "cell_type": "code",
   "execution_count": null,
   "metadata": {
    "execution": {
     "iopub.execute_input": "2025-06-11T10:56:50.167565Z",
     "iopub.status.busy": "2025-06-11T10:56:50.167514Z",
     "iopub.status.idle": "2025-06-11T10:56:50.278200Z",
     "shell.execute_reply": "2025-06-11T10:56:50.278009Z"
    }
   },
   "outputs": [],
   "source": [
    "Ys_val = {\"Original\": Y_val}\n",
    "for model in models:\n",
    "    Ys_val[model.steps[1][1].regressor_.__class__.__name__] = model.predict(\n",
    "        U_val\n",
    "    )"
   ]
  },
  {
   "cell_type": "markdown",
   "metadata": {},
   "source": [
    "PLOTS"
   ]
  },
  {
   "cell_type": "code",
   "execution_count": null,
   "metadata": {
    "execution": {
     "iopub.execute_input": "2025-06-11T10:56:50.279180Z",
     "iopub.status.busy": "2025-06-11T10:56:50.279119Z",
     "iopub.status.idle": "2025-06-11T10:56:50.361007Z",
     "shell.execute_reply": "2025-06-11T10:56:50.360818Z"
    }
   },
   "outputs": [],
   "source": [
    "fig = plot_comparison(\n",
    "    time,\n",
    "    U_val,\n",
    "    [\n",
    "        \"$F [m^3/min]$\",\n",
    "        \"$W [kg/min]$\",\n",
    "        \"$C_{a_{in}} [kg/m^3]$\",\n",
    "        r\"$T_{in} [^\\circ{}C]$\",\n",
    "    ],\n",
    ")"
   ]
  },
  {
   "cell_type": "code",
   "execution_count": null,
   "metadata": {
    "execution": {
     "iopub.execute_input": "2025-06-11T10:56:50.361971Z",
     "iopub.status.busy": "2025-06-11T10:56:50.361909Z",
     "iopub.status.idle": "2025-06-11T10:56:50.429156Z",
     "shell.execute_reply": "2025-06-11T10:56:50.428964Z"
    }
   },
   "outputs": [],
   "source": [
    "fig = plot_comparison(\n",
    "    time,\n",
    "    list(Ys_val.values()),\n",
    "    [\"$Ca [kg/m^3]$\", r\"$T [^\\circ{}C]$\"],\n",
    "    legend=list(Ys_val.keys()),\n",
    ")"
   ]
  }
 ],
 "metadata": {
  "kernelspec": {
   "display_name": ".venv",
   "language": "python",
   "name": "python3"
  },
  "language_info": {
   "codemirror_mode": {
    "name": "ipython",
    "version": 3
   },
   "file_extension": ".py",
   "mimetype": "text/x-python",
   "name": "python",
   "nbconvert_exporter": "python",
   "pygments_lexer": "ipython3",
   "version": "3.12.10"
  }
 },
 "nbformat": 4,
 "nbformat_minor": 2
}
