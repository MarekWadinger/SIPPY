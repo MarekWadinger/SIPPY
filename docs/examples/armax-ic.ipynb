{
 "cells": [
  {
   "cell_type": "code",
   "execution_count": 1,
   "metadata": {
    "execution": {
     "iopub.execute_input": "2025-03-20T08:26:09.112308Z",
     "iopub.status.busy": "2025-03-20T08:26:09.112185Z",
     "iopub.status.idle": "2025-03-20T08:26:10.541293Z",
     "shell.execute_reply": "2025-03-20T08:26:10.540981Z"
    }
   },
   "outputs": [],
   "source": [
    "import numpy as np\n",
    "from control import frequency_response\n",
    "from sklearn.pipeline import Pipeline\n",
    "\n",
    "from sippy_unipi.datasets import load_sample_siso\n",
    "from sippy_unipi.io import ARMAX\n",
    "from sippy_unipi.model_selection import GridSearchCV, bic_scorer\n",
    "from sippy_unipi.plot import plot_bode, plot_response, plot_responses\n",
    "from sippy_unipi.preprocessing import StandardScaler\n",
    "\n",
    "seed = 0\n",
    "np.random.seed(seed)\n",
    "\n",
    "%load_ext autoreload\n",
    "%autoreload 2"
   ]
  },
  {
   "cell_type": "markdown",
   "metadata": {},
   "source": [
    "# ARMAX Example using Information Criterion"
   ]
  },
  {
   "cell_type": "code",
   "execution_count": 2,
   "metadata": {
    "execution": {
     "iopub.execute_input": "2025-03-20T08:26:10.542402Z",
     "iopub.status.busy": "2025-03-20T08:26:10.542286Z",
     "iopub.status.idle": "2025-03-20T08:26:10.553236Z",
     "shell.execute_reply": "2025-03-20T08:26:10.553021Z"
    }
   },
   "outputs": [],
   "source": [
    "n_samples = 401\n",
    "ts = 1.0\n",
    "time, Ysim, Usim, g_sys, Yerr, Uerr, h_sys, Y, U = load_sample_siso(\n",
    "    n_samples, ts, seed=seed\n",
    ")"
   ]
  },
  {
   "cell_type": "code",
   "execution_count": null,
   "metadata": {
    "execution": {
     "iopub.execute_input": "2025-03-20T08:26:10.554045Z",
     "iopub.status.busy": "2025-03-20T08:26:10.553974Z",
     "iopub.status.idle": "2025-03-20T08:26:10.710108Z",
     "shell.execute_reply": "2025-03-20T08:26:10.709858Z"
    }
   },
   "outputs": [],
   "source": [
    "fig = plot_responses(\n",
    "    time,\n",
    "    [Usim, Uerr, U],\n",
    "    [Ysim, Yerr, Y],\n",
    "    [\"u\", \"e\", [\"u\", \"e\"]],\n",
    ")"
   ]
  },
  {
   "cell_type": "markdown",
   "metadata": {},
   "source": [
    "## Perform system identification from collected data"
   ]
  },
  {
   "cell_type": "code",
   "execution_count": null,
   "metadata": {
    "execution": {
     "iopub.execute_input": "2025-03-20T08:26:10.723014Z",
     "iopub.status.busy": "2025-03-20T08:26:10.722927Z",
     "iopub.status.idle": "2025-03-20T08:26:21.250327Z",
     "shell.execute_reply": "2025-03-20T08:26:21.249523Z"
    },
    "scrolled": true
   },
   "outputs": [],
   "source": [
    "scaler = StandardScaler()\n",
    "model = ARMAX(max_iter=1000)\n",
    "\n",
    "param_grid = {\n",
    "    \"model__na\": list(range(1, 6)),\n",
    "    \"model__nb\": list(range(1, 6)),\n",
    "    \"model__nc\": list(range(1, 6)),\n",
    "    \"model__theta\": list(range(1, 14)),\n",
    "}\n",
    "\n",
    "model_search = GridSearchCV(\n",
    "    Pipeline(steps=[(\"scaler\", scaler), (\"model\", model)]),\n",
    "    param_grid,\n",
    "    scoring=bic_scorer,\n",
    ")\n",
    "model_search.fit(Y.reshape(-1, 1), U.reshape(-1, 1))\n",
    "model_fitted = model_search.best_estimator_"
   ]
  },
  {
   "cell_type": "markdown",
   "metadata": {},
   "source": [
    "## Check that output of the identified system is consistent"
   ]
  },
  {
   "cell_type": "code",
   "execution_count": 5,
   "metadata": {},
   "outputs": [],
   "source": [
    "Y_pred_g = model_fitted.predict(Usim.reshape(-1, 1))\n",
    "Y_pred_h = model_fitted.predict(Uerr.reshape(-1, 1), noise=True)\n",
    "Y_pred = Y_pred_g + Y_pred_h"
   ]
  },
  {
   "cell_type": "code",
   "execution_count": null,
   "metadata": {
    "execution": {
     "iopub.execute_input": "2025-03-20T08:26:21.266314Z",
     "iopub.status.busy": "2025-03-20T08:26:21.266141Z",
     "iopub.status.idle": "2025-03-20T08:26:21.379572Z",
     "shell.execute_reply": "2025-03-20T08:26:21.379295Z"
    }
   },
   "outputs": [],
   "source": [
    "fig = plot_response(\n",
    "    time,\n",
    "    [Y, Y_pred],\n",
    "    Usim,\n",
    "    legends=[[\"system\", \"armax\"], [\"U\"]],\n",
    "    titles=[\n",
    "        \"Output (identification data)\",\n",
    "        \"Input, identification data (Switch probability=0.08)\",\n",
    "    ],\n",
    ")"
   ]
  },
  {
   "cell_type": "markdown",
   "metadata": {},
   "source": [
    "# Validation of the identified system: \n",
    "## Generate new time series for input and noise"
   ]
  },
  {
   "cell_type": "code",
   "execution_count": 7,
   "metadata": {},
   "outputs": [],
   "source": [
    "n_samples = 401\n",
    "ts = 1.0\n",
    "input_range = (0.5, 1.5)\n",
    "switch_probability = 0.07\n",
    "time, Ysimval, Usimval, g_sys, Yerrval, Uerrval, h_sys, Yval, Uval = (\n",
    "    load_sample_siso(n_samples, ts, input_range, switch_probability, seed=seed)\n",
    ")"
   ]
  },
  {
   "cell_type": "markdown",
   "metadata": {},
   "source": [
    "## Check responses are almost equal"
   ]
  },
  {
   "cell_type": "code",
   "execution_count": 11,
   "metadata": {},
   "outputs": [],
   "source": [
    "Y_pred_g_val = model_fitted.predict(Usimval.reshape(-1, 1))\n",
    "Y_pred_h_val = model_fitted.predict(Uerrval.reshape(-1, 1), noise=True)\n",
    "Y_pred_val = Y_pred_g_val + Y_pred_h_val"
   ]
  },
  {
   "cell_type": "code",
   "execution_count": null,
   "metadata": {
    "execution": {
     "iopub.execute_input": "2025-03-20T08:26:21.398433Z",
     "iopub.status.busy": "2025-03-20T08:26:21.398365Z",
     "iopub.status.idle": "2025-03-20T08:26:21.470551Z",
     "shell.execute_reply": "2025-03-20T08:26:21.470276Z"
    }
   },
   "outputs": [],
   "source": [
    "fig = plot_response(\n",
    "    time,\n",
    "    [Yval, Y_pred_val],\n",
    "    Usim,\n",
    "    legends=[[\"system\", \"armax\"], [\"U\"]],\n",
    "    titles=[\n",
    "        \"Output (identification data)\",\n",
    "        \"Input, identification data (Switch probability=0.07)\",\n",
    "    ],\n",
    ")"
   ]
  },
  {
   "cell_type": "code",
   "execution_count": null,
   "metadata": {
    "execution": {
     "iopub.execute_input": "2025-03-20T08:26:21.471396Z",
     "iopub.status.busy": "2025-03-20T08:26:21.471321Z",
     "iopub.status.idle": "2025-03-20T08:26:22.436414Z",
     "shell.execute_reply": "2025-03-20T08:26:22.436178Z"
    }
   },
   "outputs": [],
   "source": [
    "W_V = np.logspace(-3, 4, num=701)\n",
    "for tf in [\"G_\", \"H_\"]:\n",
    "    syss_tfs = [\n",
    "        locals()[f\"{tf.lower()}sys\"],\n",
    "        getattr(model_fitted.steps[-1][1], tf),\n",
    "    ]\n",
    "    mags, fis, oms = zip(*[frequency_response(sys, W_V) for sys in syss_tfs])\n",
    "\n",
    "    fig = plot_bode(\n",
    "        oms[0],\n",
    "        mags,\n",
    "        fis,\n",
    "        [\"system\"],\n",
    "    )"
   ]
  }
 ],
 "metadata": {
  "kernelspec": {
   "display_name": ".venv",
   "language": "python",
   "name": "python3"
  },
  "language_info": {
   "codemirror_mode": {
    "name": "ipython",
    "version": 3
   },
   "file_extension": ".py",
   "mimetype": "text/x-python",
   "name": "python",
   "nbconvert_exporter": "python",
   "pygments_lexer": "ipython3",
   "version": "3.12.10"
  }
 },
 "nbformat": 4,
 "nbformat_minor": 2
}
