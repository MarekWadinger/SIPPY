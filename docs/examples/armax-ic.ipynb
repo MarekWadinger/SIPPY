{
 "cells": [
  {
   "cell_type": "code",
   "execution_count": 1,
   "metadata": {
    "execution": {
     "iopub.execute_input": "2025-06-11T10:56:34.351787Z",
     "iopub.status.busy": "2025-06-11T10:56:34.351688Z",
     "iopub.status.idle": "2025-06-11T10:56:34.934641Z",
     "shell.execute_reply": "2025-06-11T10:56:34.934353Z"
    }
   },
   "outputs": [],
   "source": [
    "import numpy as np\n",
    "from control import frequency_response\n",
    "\n",
    "from sippy_unipi.datasets import load_sample_siso\n",
    "from sippy_unipi.io import ARMAX\n",
    "from sippy_unipi.model_selection import GridSearchCV, bic_scorer\n",
    "from sippy_unipi.plot import plot_bode, plot_response, plot_responses\n",
    "\n",
    "seed = 0\n",
    "np.random.seed(seed)\n",
    "\n",
    "%load_ext autoreload\n",
    "%autoreload 2"
   ]
  },
  {
   "cell_type": "markdown",
   "metadata": {},
   "source": [
    "# ARMAX Example using Information Criterion"
   ]
  },
  {
   "cell_type": "code",
   "execution_count": 2,
   "metadata": {
    "execution": {
     "iopub.execute_input": "2025-06-11T10:56:34.935877Z",
     "iopub.status.busy": "2025-06-11T10:56:34.935767Z",
     "iopub.status.idle": "2025-06-11T10:56:34.946855Z",
     "shell.execute_reply": "2025-06-11T10:56:34.946604Z"
    }
   },
   "outputs": [],
   "source": [
    "n_samples = 401\n",
    "ts = 1.0\n",
    "time, Ysim, Usim, g_sys, Yerr, Uerr, h_sys, Y, U = load_sample_siso(\n",
    "    n_samples, ts, seed=seed\n",
    ")"
   ]
  },
  {
   "cell_type": "code",
   "execution_count": null,
   "metadata": {
    "execution": {
     "iopub.execute_input": "2025-06-11T10:56:34.947872Z",
     "iopub.status.busy": "2025-06-11T10:56:34.947802Z",
     "iopub.status.idle": "2025-06-11T10:56:35.132816Z",
     "shell.execute_reply": "2025-06-11T10:56:35.132622Z"
    }
   },
   "outputs": [],
   "source": [
    "fig = plot_responses(\n",
    "    time,\n",
    "    [Usim, Uerr, U],\n",
    "    [Ysim, Yerr, Y],\n",
    "    [\"u\", \"e\", [\"u\", \"e\"]],\n",
    ")"
   ]
  },
  {
   "cell_type": "markdown",
   "metadata": {},
   "source": [
    "## Perform system identification from collected data"
   ]
  },
  {
   "cell_type": "code",
   "execution_count": 4,
   "metadata": {
    "execution": {
     "iopub.execute_input": "2025-06-11T10:56:35.146913Z",
     "iopub.status.busy": "2025-06-11T10:56:35.146817Z",
     "iopub.status.idle": "2025-06-11T10:56:37.251652Z",
     "shell.execute_reply": "2025-06-11T10:56:37.251362Z"
    },
    "scrolled": true
   },
   "outputs": [],
   "source": [
    "model = ARMAX()\n",
    "\n",
    "param_grid = {\n",
    "    \"na\": list(range(1, 4)),\n",
    "    \"theta\": list(range(1, 11, 2)),\n",
    "}\n",
    "\n",
    "model_search = GridSearchCV(\n",
    "    model,\n",
    "    param_grid,\n",
    "    scoring=bic_scorer,\n",
    ")\n",
    "model_search.fit(U.reshape(-1, 1), Y.reshape(-1, 1))\n",
    "model_fitted = model_search.best_estimator_"
   ]
  },
  {
   "cell_type": "markdown",
   "metadata": {},
   "source": [
    "## Check that output of the identified system is consistent"
   ]
  },
  {
   "cell_type": "code",
   "execution_count": 5,
   "metadata": {
    "execution": {
     "iopub.execute_input": "2025-06-11T10:56:37.252843Z",
     "iopub.status.busy": "2025-06-11T10:56:37.252772Z",
     "iopub.status.idle": "2025-06-11T10:56:37.263840Z",
     "shell.execute_reply": "2025-06-11T10:56:37.263601Z"
    }
   },
   "outputs": [],
   "source": [
    "Y_pred = model_fitted.predict(U.reshape(-1, 1))"
   ]
  },
  {
   "cell_type": "code",
   "execution_count": null,
   "metadata": {
    "execution": {
     "iopub.execute_input": "2025-06-11T10:56:37.264870Z",
     "iopub.status.busy": "2025-06-11T10:56:37.264796Z",
     "iopub.status.idle": "2025-06-11T10:56:37.328713Z",
     "shell.execute_reply": "2025-06-11T10:56:37.328530Z"
    }
   },
   "outputs": [],
   "source": [
    "fig = plot_response(\n",
    "    time,\n",
    "    [Y, Y_pred],\n",
    "    Usim,\n",
    "    legends=[[\"system\", \"armax\"], [\"U\"]],\n",
    "    titles=[\n",
    "        \"Output (identification data)\",\n",
    "        \"Input, identification data (Switch probability=0.08)\",\n",
    "    ],\n",
    ")"
   ]
  },
  {
   "cell_type": "markdown",
   "metadata": {},
   "source": [
    "# Validation of the identified system: \n",
    "## Generate new time series for input and noise"
   ]
  },
  {
   "cell_type": "code",
   "execution_count": 7,
   "metadata": {
    "execution": {
     "iopub.execute_input": "2025-06-11T10:56:37.330147Z",
     "iopub.status.busy": "2025-06-11T10:56:37.330050Z",
     "iopub.status.idle": "2025-06-11T10:56:37.342828Z",
     "shell.execute_reply": "2025-06-11T10:56:37.342596Z"
    }
   },
   "outputs": [],
   "source": [
    "n_samples = 401\n",
    "ts = 1.0\n",
    "input_range = (0.5, 1.5)\n",
    "switch_probability = 0.07\n",
    "time, Ysimval, Usimval, g_sys, Yerrval, Uerrval, h_sys, Yval, Uval = (\n",
    "    load_sample_siso(n_samples, ts, input_range, switch_probability, seed=seed)\n",
    ")"
   ]
  },
  {
   "cell_type": "markdown",
   "metadata": {},
   "source": [
    "## Check responses are almost equal"
   ]
  },
  {
   "cell_type": "code",
   "execution_count": 8,
   "metadata": {
    "execution": {
     "iopub.execute_input": "2025-06-11T10:56:37.343832Z",
     "iopub.status.busy": "2025-06-11T10:56:37.343770Z",
     "iopub.status.idle": "2025-06-11T10:56:37.353675Z",
     "shell.execute_reply": "2025-06-11T10:56:37.353498Z"
    }
   },
   "outputs": [],
   "source": [
    "Y_pred_g_val = model_fitted.predict(Usimval.reshape(-1, 1))\n",
    "Y_pred_h_val = model_fitted.predict(Uerrval.reshape(-1, 1))\n",
    "Y_pred_val = Y_pred_g_val + Y_pred_h_val"
   ]
  },
  {
   "cell_type": "code",
   "execution_count": null,
   "metadata": {
    "execution": {
     "iopub.execute_input": "2025-06-11T10:56:37.354599Z",
     "iopub.status.busy": "2025-06-11T10:56:37.354542Z",
     "iopub.status.idle": "2025-06-11T10:56:37.421133Z",
     "shell.execute_reply": "2025-06-11T10:56:37.420941Z"
    }
   },
   "outputs": [],
   "source": [
    "fig = plot_response(\n",
    "    time,\n",
    "    [Yval, Y_pred_val],\n",
    "    Usim,\n",
    "    legends=[[\"system\", \"armax\"], [\"U\"]],\n",
    "    titles=[\n",
    "        \"Output (identification data)\",\n",
    "        \"Input, identification data (Switch probability=0.07)\",\n",
    "    ],\n",
    ")"
   ]
  },
  {
   "cell_type": "code",
   "execution_count": null,
   "metadata": {
    "execution": {
     "iopub.execute_input": "2025-06-11T10:56:37.422096Z",
     "iopub.status.busy": "2025-06-11T10:56:37.422011Z",
     "iopub.status.idle": "2025-06-11T10:56:37.850504Z",
     "shell.execute_reply": "2025-06-11T10:56:37.850259Z"
    }
   },
   "outputs": [],
   "source": [
    "W_V = np.logspace(-3, 4, num=701)\n",
    "for tf in [\"G_\", \"H_\"]:\n",
    "    syss_tfs = [\n",
    "        locals()[f\"{tf.lower()}sys\"],\n",
    "        getattr(model_fitted, tf),\n",
    "    ]\n",
    "    mags, fis, oms = zip(*[frequency_response(sys, W_V) for sys in syss_tfs])\n",
    "\n",
    "    fig = plot_bode(\n",
    "        oms[0],\n",
    "        mags,\n",
    "        fis,\n",
    "        [\"system\"],\n",
    "    )"
   ]
  }
 ],
 "metadata": {
  "kernelspec": {
   "display_name": ".venv",
   "language": "python",
   "name": "python3"
  },
  "language_info": {
   "codemirror_mode": {
    "name": "ipython",
    "version": 3
   },
   "file_extension": ".py",
   "mimetype": "text/x-python",
   "name": "python",
   "nbconvert_exporter": "python",
   "pygments_lexer": "ipython3",
   "version": "3.12.10"
  }
 },
 "nbformat": 4,
 "nbformat_minor": 2
}
