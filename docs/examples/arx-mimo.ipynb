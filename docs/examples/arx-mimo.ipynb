{
 "cells": [
  {
   "cell_type": "markdown",
   "metadata": {},
   "source": [
    "### ARX MIMO Example\n",
    "Case: 3 outputs x 4 inputs\n",
    "\n",
    "Author: Giuseppe Armenise, revised by RBdC"
   ]
  },
  {
   "cell_type": "code",
   "execution_count": 1,
   "metadata": {
    "execution": {
     "iopub.execute_input": "2025-06-11T10:56:42.236327Z",
     "iopub.status.busy": "2025-06-11T10:56:42.235976Z",
     "iopub.status.idle": "2025-06-11T10:56:42.907605Z",
     "shell.execute_reply": "2025-06-11T10:56:42.907388Z"
    }
   },
   "outputs": [],
   "source": [
    "import numpy as np\n",
    "from sklearn.compose import TransformedTargetRegressor\n",
    "from sklearn.pipeline import Pipeline\n",
    "\n",
    "from sippy_unipi.datasets import load_sample_mimo\n",
    "from sippy_unipi.io import ARX, FIR\n",
    "from sippy_unipi.plot import plot_comparison\n",
    "from sippy_unipi.preprocessing import StandardScaler\n",
    "\n",
    "# Enable automatic reloading of modules when they change\n",
    "%load_ext autoreload\n",
    "%autoreload 2"
   ]
  },
  {
   "cell_type": "code",
   "execution_count": 2,
   "metadata": {
    "execution": {
     "iopub.execute_input": "2025-06-11T10:56:42.908865Z",
     "iopub.status.busy": "2025-06-11T10:56:42.908762Z",
     "iopub.status.idle": "2025-06-11T10:56:42.917527Z",
     "shell.execute_reply": "2025-06-11T10:56:42.917284Z"
    }
   },
   "outputs": [],
   "source": [
    "seed = 0\n",
    "np.random.seed(0)"
   ]
  },
  {
   "cell_type": "code",
   "execution_count": 3,
   "metadata": {
    "execution": {
     "iopub.execute_input": "2025-06-11T10:56:42.918506Z",
     "iopub.status.busy": "2025-06-11T10:56:42.918431Z",
     "iopub.status.idle": "2025-06-11T10:56:42.972603Z",
     "shell.execute_reply": "2025-06-11T10:56:42.972393Z"
    }
   },
   "outputs": [],
   "source": [
    "na = [3, 1, 2]\n",
    "nb = [[2, 1, 3, 2], [3, 2, 1, 1], [1, 2, 1, 2]]\n",
    "th = [[1, 2, 2, 1], [1, 2, 0, 0], [0, 1, 0, 2]]\n",
    "\n",
    "n_samples = 401\n",
    "ts = 1.0\n",
    "time, Ysim, Usim, g_sys, Yerr, Uerr, h_sys, Ytot, Utot = load_sample_mimo(\n",
    "    n_samples, ts, seed=seed\n",
    ")"
   ]
  },
  {
   "cell_type": "markdown",
   "metadata": {},
   "source": [
    "### Identification Parameters"
   ]
  },
  {
   "cell_type": "code",
   "execution_count": 4,
   "metadata": {
    "execution": {
     "iopub.execute_input": "2025-06-11T10:56:42.973721Z",
     "iopub.status.busy": "2025-06-11T10:56:42.973656Z",
     "iopub.status.idle": "2025-06-11T10:56:43.042055Z",
     "shell.execute_reply": "2025-06-11T10:56:43.041815Z"
    }
   },
   "outputs": [],
   "source": [
    "models = [\n",
    "    Pipeline(\n",
    "        [\n",
    "            (\"scaler\", StandardScaler(with_mean=False)),\n",
    "            (\n",
    "                \"model\",\n",
    "                TransformedTargetRegressor(\n",
    "                    ARX(na, nb, th, method=\"lls\"),\n",
    "                    transformer=StandardScaler(with_mean=False),\n",
    "                ),\n",
    "            ),\n",
    "        ]\n",
    "    ),\n",
    "    Pipeline(\n",
    "        [\n",
    "            (\"scaler\", StandardScaler(with_mean=False)),\n",
    "            (\n",
    "                \"model\",\n",
    "                TransformedTargetRegressor(\n",
    "                    FIR(nb, th, method=\"lls\"),\n",
    "                    transformer=StandardScaler(with_mean=False),\n",
    "                ),\n",
    "            ),\n",
    "        ]\n",
    "    ),\n",
    "]\n",
    "\n",
    "Ys_pred = [Ytot]\n",
    "for model in models:\n",
    "    model.fit(Utot, Ytot)\n",
    "    Ys_pred.append(model.predict(Utot))"
   ]
  },
  {
   "cell_type": "markdown",
   "metadata": {},
   "source": [
    "### Plot Results"
   ]
  },
  {
   "cell_type": "code",
   "execution_count": null,
   "metadata": {
    "execution": {
     "iopub.execute_input": "2025-06-11T10:56:43.043089Z",
     "iopub.status.busy": "2025-06-11T10:56:43.043028Z",
     "iopub.status.idle": "2025-06-11T10:56:43.254286Z",
     "shell.execute_reply": "2025-06-11T10:56:43.254063Z"
    }
   },
   "outputs": [],
   "source": [
    "fig = plot_comparison(\n",
    "    time,\n",
    "    Usim,\n",
    "    [r\"$u_\\mathrm{GBN, \" + str(i) + \"}$\" for i in range(Usim.shape[1])],\n",
    "    title=\"Input (Switch probability=0.03) (validation data)\",\n",
    ")\n",
    "\n",
    "fig = plot_comparison(\n",
    "    time,\n",
    "    Ys_pred,\n",
    "    ylabels=[f\"$y_{i}$\" for i in range(3)],\n",
    "    legend=[\"System\", \"ARX\", \"FIR\"],\n",
    "    title=\"Output (validation data)\",\n",
    ")"
   ]
  }
 ],
 "metadata": {
  "kernelspec": {
   "display_name": ".venv",
   "language": "python",
   "name": "python3"
  },
  "language_info": {
   "codemirror_mode": {
    "name": "ipython",
    "version": 3
   },
   "file_extension": ".py",
   "mimetype": "text/x-python",
   "name": "python",
   "nbconvert_exporter": "python",
   "pygments_lexer": "ipython3",
   "version": "3.12.10"
  }
 },
 "nbformat": 4,
 "nbformat_minor": 2
}
