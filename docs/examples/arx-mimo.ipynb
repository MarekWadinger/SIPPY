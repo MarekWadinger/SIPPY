{
 "cells": [
  {
   "cell_type": "markdown",
   "metadata": {},
   "source": [
    "### ARX MIMO Example\n",
    "Case: 3 outputs x 4 inputs\n",
    "\n",
    "Author: Giuseppe Armenise, revised by RBdC"
   ]
  },
  {
   "cell_type": "code",
   "execution_count": 1,
   "metadata": {
    "execution": {
     "iopub.execute_input": "2025-05-29T14:30:11.571284Z",
     "iopub.status.busy": "2025-05-29T14:30:11.570991Z",
     "iopub.status.idle": "2025-05-29T14:30:12.171599Z",
     "shell.execute_reply": "2025-05-29T14:30:12.171369Z"
    }
   },
   "outputs": [],
   "source": [
    "import numpy as np\n",
    "from sklearn.pipeline import Pipeline\n",
    "\n",
    "from sippy_unipi.datasets import load_sample_mimo\n",
    "from sippy_unipi.io import ARX, FIR\n",
    "from sippy_unipi.plot import plot_comparison\n",
    "from sippy_unipi.preprocessing import StandardScaler\n",
    "\n",
    "# Enable automatic reloading of modules when they change\n",
    "%load_ext autoreload\n",
    "%autoreload 2"
   ]
  },
  {
   "cell_type": "code",
   "execution_count": 2,
   "metadata": {
    "execution": {
     "iopub.execute_input": "2025-05-29T14:30:12.172869Z",
     "iopub.status.busy": "2025-05-29T14:30:12.172760Z",
     "iopub.status.idle": "2025-05-29T14:30:12.181696Z",
     "shell.execute_reply": "2025-05-29T14:30:12.181420Z"
    }
   },
   "outputs": [],
   "source": [
    "seed = 0\n",
    "np.random.seed(0)"
   ]
  },
  {
   "cell_type": "code",
   "execution_count": 3,
   "metadata": {
    "execution": {
     "iopub.execute_input": "2025-05-29T14:30:12.182844Z",
     "iopub.status.busy": "2025-05-29T14:30:12.182781Z",
     "iopub.status.idle": "2025-05-29T14:30:12.231668Z",
     "shell.execute_reply": "2025-05-29T14:30:12.231455Z"
    }
   },
   "outputs": [],
   "source": [
    "na = [3, 1, 2]\n",
    "nb = [[2, 1, 3, 2], [3, 2, 1, 1], [1, 2, 1, 2]]\n",
    "th = [[1, 2, 2, 1], [1, 2, 0, 0], [0, 1, 0, 2]]\n",
    "\n",
    "n_samples = 401\n",
    "ts = 1.0\n",
    "time, Ysim, Usim, g_sys, Yerr, Uerr, h_sys, Ytot, Utot = load_sample_mimo(\n",
    "    n_samples, ts, seed=seed\n",
    ")"
   ]
  },
  {
   "cell_type": "markdown",
   "metadata": {},
   "source": [
    "### Identification Parameters"
   ]
  },
  {
   "cell_type": "code",
   "execution_count": null,
   "metadata": {
    "execution": {
     "iopub.execute_input": "2025-05-29T14:30:12.232963Z",
     "iopub.status.busy": "2025-05-29T14:30:12.232895Z",
     "iopub.status.idle": "2025-05-29T14:30:12.303891Z",
     "shell.execute_reply": "2025-05-29T14:30:12.303668Z"
    }
   },
   "outputs": [],
   "source": [
    "models = [\n",
    "    Pipeline(\n",
    "        [\n",
    "            (\"scaler\", StandardScaler()),\n",
    "            (\"model\", ARX(na, nb, th, method=\"lls\")),\n",
    "        ]\n",
    "    ),\n",
    "    Pipeline(\n",
    "        [(\"scaler\", StandardScaler()), (\"model\", FIR(nb, th, method=\"lls\"))]\n",
    "    ),\n",
    "]\n",
    "\n",
    "Ys_pred = [Ytot]\n",
    "for model in models:\n",
    "    model.fit(Usim, Ytot)\n",
    "    Ys_pred.append(model.predict(Utot))"
   ]
  },
  {
   "cell_type": "markdown",
   "metadata": {},
   "source": [
    "### Identification Stage"
   ]
  },
  {
   "cell_type": "markdown",
   "metadata": {},
   "source": [
    "### Output of the Identified Model"
   ]
  },
  {
   "cell_type": "markdown",
   "metadata": {},
   "source": [
    "### Plot Results"
   ]
  },
  {
   "cell_type": "code",
   "execution_count": null,
   "metadata": {
    "execution": {
     "iopub.execute_input": "2025-05-29T14:30:12.319001Z",
     "iopub.status.busy": "2025-05-29T14:30:12.318906Z",
     "iopub.status.idle": "2025-05-29T14:30:12.569501Z",
     "shell.execute_reply": "2025-05-29T14:30:12.569269Z"
    }
   },
   "outputs": [],
   "source": [
    "fig = plot_comparison(\n",
    "    time,\n",
    "    Usim,\n",
    "    [r\"$u_\\mathrm{GBN, \" + str(i) + \"}$\" for i in range(Usim.shape[1])],\n",
    "    title=\"Input (Switch probability=0.03) (validation data)\",\n",
    ")\n",
    "\n",
    "fig = plot_comparison(\n",
    "    time,\n",
    "    Ys_pred,\n",
    "    ylabels=[f\"$y_{i}$\" for i in range(3)],\n",
    "    legend=[\"System\", \"ARX\", \"FIR\"],\n",
    "    title=\"Output (validation data)\",\n",
    ")"
   ]
  }
 ],
 "metadata": {
  "kernelspec": {
   "display_name": ".venv",
   "language": "python",
   "name": "python3"
  },
  "language_info": {
   "codemirror_mode": {
    "name": "ipython",
    "version": 3
   },
   "file_extension": ".py",
   "mimetype": "text/x-python",
   "name": "python",
   "nbconvert_exporter": "python",
   "pygments_lexer": "ipython3",
   "version": "3.12.10"
  }
 },
 "nbformat": 4,
 "nbformat_minor": 2
}
