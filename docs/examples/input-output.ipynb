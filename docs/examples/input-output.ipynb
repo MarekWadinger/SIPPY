{
 "cells": [
  {
   "cell_type": "code",
   "execution_count": null,
   "metadata": {},
   "outputs": [],
   "source": [
    "from typing import get_args\n",
    "\n",
    "import numpy as np\n",
    "\n",
    "from sippy_unipi.datasets import gen_gbn_seq, load_sample_mimo, white_noise\n",
    "from sippy_unipi.io import (\n",
    "    ARARMAX,\n",
    "    ARARX,\n",
    "    ARMA,\n",
    "    ARMAX,\n",
    "    ARX,\n",
    "    BJ,\n",
    "    FIR,\n",
    "    GEN,\n",
    "    OE,\n",
    "    BaseInputOutput,\n",
    ")\n",
    "from sippy_unipi.model_selection import GridSearchCV\n",
    "from sippy_unipi.plot import plot_comparison\n",
    "from sippy_unipi.ss import SSModel\n",
    "from sippy_unipi.typing import AvailableModes\n",
    "\n",
    "# Enable automatic reloading of modules when they change\n",
    "%load_ext autoreload\n",
    "%autoreload 2"
   ]
  },
  {
   "cell_type": "code",
   "execution_count": 2,
   "metadata": {},
   "outputs": [],
   "source": [
    "time, Y, U, g_sys, Yerr, Uerr, h_sys, Y, U = load_sample_mimo()"
   ]
  },
  {
   "cell_type": "markdown",
   "metadata": {},
   "source": [
    "### Define System Parameters"
   ]
  },
  {
   "cell_type": "code",
   "execution_count": 3,
   "metadata": {},
   "outputs": [],
   "source": [
    "# Sample time\n",
    "ts = 1.0\n",
    "\n",
    "# SISO SS system (n = 2)\n",
    "A = np.array([[0.89, 0.0], [0.0, 0.45]])\n",
    "B = np.array([[0.3], [2.5]])\n",
    "C = np.array([[0.7, 1.0]])\n",
    "D = np.array([[0.0]])\n",
    "\n",
    "sys_true = SSModel._from_state(A, B, C, D)\n",
    "tfin = 500\n",
    "npts = int(tfin // ts) + 1\n",
    "time = np.linspace(0, tfin, npts)"
   ]
  },
  {
   "cell_type": "markdown",
   "metadata": {},
   "source": [
    "### Generate Input Sequence and System Output"
   ]
  },
  {
   "cell_type": "code",
   "execution_count": 4,
   "metadata": {},
   "outputs": [],
   "source": [
    "# Input sequence\n",
    "U = gen_gbn_seq(npts, 0.05).reshape(-1, 1)\n",
    "\n",
    "# Output\n",
    "Y = sys_true.predict(U) + white_noise(0.15, (npts, 1))"
   ]
  },
  {
   "cell_type": "code",
   "execution_count": null,
   "metadata": {},
   "outputs": [],
   "source": [
    "models = [\n",
    "    FIR(),\n",
    "    ARMAX(),\n",
    "    ARX(),\n",
    "    ARMA(),\n",
    "    ARARX(),\n",
    "    ARARMAX(),\n",
    "    OE(),\n",
    "    BJ(),\n",
    "    GEN(),\n",
    "]\n",
    "\n",
    "param_grid = {\"method\": get_args(AvailableModes)}\n",
    "\n",
    "Y_preds = [Y]\n",
    "for model in models:\n",
    "    model: BaseInputOutput\n",
    "    model_search = GridSearchCV(model, param_grid)\n",
    "    model_search.fit(U, Y)\n",
    "    Y_preds.append(model_search.predict(U))"
   ]
  },
  {
   "cell_type": "code",
   "execution_count": null,
   "metadata": {},
   "outputs": [],
   "source": [
    "fig = plot_comparison(\n",
    "    time,\n",
    "    U,\n",
    "    [r\"$u_\\mathrm{GBN, \" + str(i) + \"}$\" for i in range(U.shape[1])],\n",
    "    title=\"Input (Switch probability=0.03) (validation data)\",\n",
    ")\n",
    "\n",
    "fig = plot_comparison(\n",
    "    time,\n",
    "    Y_preds,\n",
    "    ylabels=[f\"$y_{i}$\" for i in range(3)],\n",
    "    legend=[\"System\"] + [model.__class__.__name__ for model in models],\n",
    "    title=\"Output (validation data)\",\n",
    ")"
   ]
  }
 ],
 "metadata": {
  "kernelspec": {
   "display_name": ".venv",
   "language": "python",
   "name": "python3"
  },
  "language_info": {
   "codemirror_mode": {
    "name": "ipython",
    "version": 3
   },
   "file_extension": ".py",
   "mimetype": "text/x-python",
   "name": "python",
   "nbconvert_exporter": "python",
   "pygments_lexer": "ipython3",
   "version": "3.12.10"
  }
 },
 "nbformat": 4,
 "nbformat_minor": 2
}
