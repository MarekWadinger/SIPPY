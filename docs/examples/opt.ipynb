{
 "cells": [
  {
   "cell_type": "markdown",
   "metadata": {},
   "source": [
    "## Optimization-Based Identification Methods for General Input-Output Model\n",
    "This notebook demonstrates the use of optimization-based identification methods for general input-output models."
   ]
  },
  {
   "cell_type": "code",
   "execution_count": 1,
   "metadata": {
    "execution": {
     "iopub.execute_input": "2025-05-29T14:30:28.523697Z",
     "iopub.status.busy": "2025-05-29T14:30:28.523604Z",
     "iopub.status.idle": "2025-05-29T14:30:29.325445Z",
     "shell.execute_reply": "2025-05-29T14:30:29.325237Z"
    }
   },
   "outputs": [],
   "source": [
    "# Import required libraries\n",
    "import numpy as np\n",
    "from control import frequency_response\n",
    "from control.timeresp import step_response\n",
    "from sklearn.metrics import explained_variance_score, root_mean_squared_error\n",
    "from sklearn.pipeline import Pipeline\n",
    "\n",
    "from sippy_unipi.datasets import load_sample_siso\n",
    "from sippy_unipi.io import ARARMAX, ARARX, ARMA, BJ, GEN, OE\n",
    "from sippy_unipi.plot import (\n",
    "    plot_bode,\n",
    "    plot_response,\n",
    "    plot_responses,\n",
    ")\n",
    "from sippy_unipi.preprocessing import StandardScaler\n",
    "\n",
    "np.random.seed(0)\n",
    "ylegends = [\"System\", \"ARMA\", \"ARARX\", \"ARARMAX\", \"OE\", \"BJ\", \"GEN\"]\n",
    "\n",
    "# Enable automatic reloading of modules when they change\n",
    "%load_ext autoreload\n",
    "%autoreload 2"
   ]
  },
  {
   "cell_type": "code",
   "execution_count": null,
   "metadata": {
    "execution": {
     "iopub.execute_input": "2025-05-29T14:30:29.326704Z",
     "iopub.status.busy": "2025-05-29T14:30:29.326589Z",
     "iopub.status.idle": "2025-05-29T14:30:29.528172Z",
     "shell.execute_reply": "2025-05-29T14:30:29.527971Z"
    }
   },
   "outputs": [],
   "source": [
    "# Load sample data\n",
    "n_samples = 401\n",
    "ts = 1.0\n",
    "time, Ysim, Usim, g_sys, Yerr, Uerr, h_sys, Ytot, Utot = load_sample_siso(\n",
    "    n_samples, ts, seed=0\n",
    ")\n",
    "\n",
    "# Plot input and output responses\n",
    "fig = plot_responses(\n",
    "    time,\n",
    "    [Usim, Uerr, Utot],\n",
    "    [Ysim, Yerr, Ytot],\n",
    "    [\"u\", \"e\", [\"u\", \"e\"]],\n",
    ")"
   ]
  },
  {
   "cell_type": "code",
   "execution_count": 3,
   "metadata": {
    "execution": {
     "iopub.execute_input": "2025-05-29T14:30:29.543282Z",
     "iopub.status.busy": "2025-05-29T14:30:29.543184Z",
     "iopub.status.idle": "2025-05-29T14:30:29.553732Z",
     "shell.execute_reply": "2025-05-29T14:30:29.553537Z"
    }
   },
   "outputs": [],
   "source": [
    "na = 2\n",
    "nb = 3\n",
    "nc = 2\n",
    "nd = 3\n",
    "nf = 4\n",
    "theta = 11\n",
    "stab_cons = False\n",
    "method = \"opt\"\n",
    "models = [\n",
    "    ARMA(na, nc, theta, stab_cons=stab_cons, method=method),\n",
    "    ARARX(na, nb, nd, theta, stab_cons=stab_cons, method=method),\n",
    "    ARARMAX(na, nb, nc, nd, theta, stab_cons=stab_cons, method=method),\n",
    "    OE(nb, nf, theta, stab_cons=stab_cons, method=method),\n",
    "    BJ(nb, nc, nd, nf, theta, stab_cons=stab_cons, method=method),\n",
    "    GEN(na, nb, nc, nd, nf, theta, stab_cons=stab_cons, method=method),\n",
    "]"
   ]
  },
  {
   "cell_type": "code",
   "execution_count": null,
   "metadata": {
    "execution": {
     "iopub.execute_input": "2025-05-29T14:30:29.554773Z",
     "iopub.status.busy": "2025-05-29T14:30:29.554703Z",
     "iopub.status.idle": "2025-05-29T14:30:32.016113Z",
     "shell.execute_reply": "2025-05-29T14:30:32.015856Z"
    }
   },
   "outputs": [],
   "source": [
    "ys = [Ytot]\n",
    "scores = {\"rmse\": [], \"ev\": []}\n",
    "fitted_models = []\n",
    "for model in models:\n",
    "    sys = Pipeline(\n",
    "        [\n",
    "            (\"scaler\", StandardScaler()),\n",
    "            (\"model\", model),\n",
    "        ]\n",
    "    )\n",
    "    sys.fit(Usim.reshape(-1, 1), Ytot.reshape(-1, 1))\n",
    "    fitted_models.append(sys)\n",
    "    Y_pred = sys.predict(Usim.reshape(-1, 1), safe=True)\n",
    "    scores[\"rmse\"].append(root_mean_squared_error(Ysim, Y_pred))\n",
    "    scores[\"ev\"].append(explained_variance_score(Ysim, Y_pred))\n",
    "    ys.append(Y_pred)"
   ]
  },
  {
   "cell_type": "code",
   "execution_count": null,
   "metadata": {
    "execution": {
     "iopub.execute_input": "2025-05-29T14:30:32.017472Z",
     "iopub.status.busy": "2025-05-29T14:30:32.017397Z",
     "iopub.status.idle": "2025-05-29T14:30:32.106028Z",
     "shell.execute_reply": "2025-05-29T14:30:32.105774Z"
    }
   },
   "outputs": [],
   "source": [
    "# Plot consistency of identified systems\n",
    "fig = plot_response(\n",
    "    time,\n",
    "    ys,\n",
    "    Usim,\n",
    "    legends=[\n",
    "        [\"Original\"] + [model.__class__.__name__ for model in models],\n",
    "        [\"U\"],\n",
    "    ],\n",
    "    titles=[\n",
    "        \"Output (identification data)\",\n",
    "        \"Input, identification data (Switch probability=0.08)\",\n",
    "    ],\n",
    ")"
   ]
  },
  {
   "cell_type": "code",
   "execution_count": 6,
   "metadata": {
    "execution": {
     "iopub.execute_input": "2025-05-29T14:30:32.107296Z",
     "iopub.status.busy": "2025-05-29T14:30:32.107223Z",
     "iopub.status.idle": "2025-05-29T14:30:32.130473Z",
     "shell.execute_reply": "2025-05-29T14:30:32.130235Z"
    }
   },
   "outputs": [],
   "source": [
    "# Validation of identified systems\n",
    "switch_probability = 0.07\n",
    "input_range = (0.5, 1.5)\n",
    "noise_variance = 0.01\n",
    "n_samples = 401\n",
    "ts = 1.0\n",
    "time, Ysimval, Usimval, g_sys, Yerrval, Uerrval, h_sys, Yval, Uval = (\n",
    "    load_sample_siso(\n",
    "        n_samples,\n",
    "        ts,\n",
    "        input_range=input_range,\n",
    "        switch_probability=switch_probability,\n",
    "        noise_variance=noise_variance,\n",
    "        seed=0,\n",
    "    )\n",
    ")\n",
    "\n",
    "ys = [sys.predict(Uval, safe=True) for sys in fitted_models]"
   ]
  },
  {
   "cell_type": "code",
   "execution_count": null,
   "metadata": {
    "execution": {
     "iopub.execute_input": "2025-05-29T14:30:32.131799Z",
     "iopub.status.busy": "2025-05-29T14:30:32.131719Z",
     "iopub.status.idle": "2025-05-29T14:30:32.221868Z",
     "shell.execute_reply": "2025-05-29T14:30:32.221600Z"
    }
   },
   "outputs": [],
   "source": [
    "# Plot validation results\n",
    "fig = plot_response(\n",
    "    time,\n",
    "    ys,\n",
    "    Usim,\n",
    "    legends=[ylegends, [\"U\"]],\n",
    "    titles=[\n",
    "        \"Output (identification data)\",\n",
    "        \"Input, identification data (Switch probability=0.07)\",\n",
    "    ],\n",
    ")"
   ]
  },
  {
   "cell_type": "code",
   "execution_count": null,
   "metadata": {
    "execution": {
     "iopub.execute_input": "2025-05-29T14:30:32.222936Z",
     "iopub.status.busy": "2025-05-29T14:30:32.222862Z",
     "iopub.status.idle": "2025-05-29T14:30:32.233782Z",
     "shell.execute_reply": "2025-05-29T14:30:32.233485Z"
    }
   },
   "outputs": [],
   "source": [
    "# Print scores in a formatted table\n",
    "print(\"Model Performance Metrics:\")\n",
    "print(\"-\" * 50)\n",
    "print(f\"{'Model':<20} {'RMSE':<10} {'Explained Variance':<20}\")\n",
    "print(\"-\" * 50)\n",
    "\n",
    "for i, model_name in enumerate(ylegends):\n",
    "    if i == 0:  # Skip the first one which is the actual data\n",
    "        continue\n",
    "    rmse_value = scores[\"rmse\"][i - 1]\n",
    "    ev_value = scores[\"ev\"][i - 1]\n",
    "    print(f\"{model_name:<20} {rmse_value:<10.4f} {ev_value:<20.4f}\")\n",
    "print(\"-\" * 50)\n"
   ]
  },
  {
   "cell_type": "code",
   "execution_count": null,
   "metadata": {
    "execution": {
     "iopub.execute_input": "2025-05-29T14:30:32.234793Z",
     "iopub.status.busy": "2025-05-29T14:30:32.234726Z",
     "iopub.status.idle": "2025-05-29T14:30:32.913978Z",
     "shell.execute_reply": "2025-05-29T14:30:32.913659Z"
    }
   },
   "outputs": [],
   "source": [
    "# Step tests\n",
    "u = np.ones_like(time)\n",
    "u[0] = 0\n",
    "W_V = np.logspace(-3, 4, num=701)\n",
    "for tf in [\"G_\", \"H_\"]:\n",
    "    syss_tfs = [\n",
    "        locals()[f\"{tf.lower()}sys\"],\n",
    "        *[getattr(sys.steps[-1][1], tf) for sys in fitted_models],\n",
    "    ]\n",
    "    mags, fis, oms = zip(*[frequency_response(sys, W_V) for sys in syss_tfs])\n",
    "\n",
    "    fig = plot_bode(\n",
    "        oms[0],\n",
    "        mags,\n",
    "        fis,\n",
    "        ylegends,\n",
    "    )\n",
    "\n",
    "    _, ys = zip(\n",
    "        *[step_response(sys, time, transpose=True) for sys in syss_tfs]\n",
    "    )\n",
    "\n",
    "    fig = plot_response(\n",
    "        time,\n",
    "        ys,\n",
    "        u,\n",
    "        legends=[ylegends, [\"U\"]],\n",
    "        titles=[\"Step Response G(z)\", None],\n",
    "    )"
   ]
  }
 ],
 "metadata": {
  "kernelspec": {
   "display_name": ".venv",
   "language": "python",
   "name": "python3"
  },
  "language_info": {
   "codemirror_mode": {
    "name": "ipython",
    "version": 3
   },
   "file_extension": ".py",
   "mimetype": "text/x-python",
   "name": "python",
   "nbconvert_exporter": "python",
   "pygments_lexer": "ipython3",
   "version": "3.12.10"
  }
 },
 "nbformat": 4,
 "nbformat_minor": 2
}
